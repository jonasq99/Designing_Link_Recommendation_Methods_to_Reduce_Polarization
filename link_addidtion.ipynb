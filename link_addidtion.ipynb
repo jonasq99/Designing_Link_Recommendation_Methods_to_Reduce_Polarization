{
 "cells": [
  {
   "cell_type": "code",
   "execution_count": 16,
   "metadata": {},
   "outputs": [],
   "source": [
    "from src.graph import graph_loader, create_polarized_graph, spectral_bipartition_coloring, random_color_graph\n",
    "from src.seed import seed_degree, seed_random \n",
    "import networkx as nx\n",
    "from icm_diffusion import simulate_diffusion_ICM\n",
    "import pandas as pd\n",
    "import random"
   ]
  },
  {
   "cell_type": "code",
   "execution_count": 17,
   "metadata": {},
   "outputs": [
    {
     "name": "stderr",
     "output_type": "stream",
     "text": [
      "/Users/quenzer/miniforge3/lib/python3.9/site-packages/sklearn/manifold/_spectral_embedding.py:233: UserWarning: Array is not symmetric, and will be converted to symmetric by average with its transpose.\n",
      "  adjacency = check_symmetric(adjacency)\n"
     ]
    }
   ],
   "source": [
    "G = create_polarized_graph(500, 0.2, 0.01)\n",
    "#color the graph\n",
    "spectral_bipartition_coloring(G)"
   ]
  },
  {
   "cell_type": "code",
   "execution_count": 20,
   "metadata": {},
   "outputs": [],
   "source": [
    "def edge_addition_adamic_adar(G, seeds, k):\n",
    "    graph = G.copy()\n",
    "\n",
    "    # Convert to undirected graph for Adamic-Adar calculation\n",
    "    undirected_graph = graph.to_undirected()\n",
    "\n",
    "    for seed in seeds:\n",
    "        # Compute Adamic-Adar index for pairs involving the seed node\n",
    "        adamic_adar_scores = list(nx.adamic_adar_index(undirected_graph, [(seed, n) for n in undirected_graph.nodes if n != seed]))\n",
    "\n",
    "        # Sort the scores in descending order\n",
    "        adamic_adar_scores.sort(key=lambda x: x[2], reverse=True)\n",
    "\n",
    "        # Add edges to the graph as a connection from the seed to the top k nodes\n",
    "        for i in range(min(k, len(adamic_adar_scores))):\n",
    "            target_node = adamic_adar_scores[i][1]\n",
    "            graph.add_edge(seed, target_node)\n",
    "\n",
    "    return graph"
   ]
  },
  {
   "cell_type": "code",
   "execution_count": 21,
   "metadata": {},
   "outputs": [],
   "source": [
    "def edge_addition_preferential_attachment(G, seeds, k):\n",
    "    graph = G.copy()\n",
    "    \n",
    "    for seed in seeds:\n",
    "        # Calculate the degree of all nodes in the graph\n",
    "        node_degrees = dict(graph.degree())\n",
    "        \n",
    "        # Generate the cumulative distribution of degrees for random selection\n",
    "        nodes, degrees = zip(*node_degrees.items())\n",
    "        total_degree = sum(degrees)\n",
    "        cumulative_distribution = [sum(degrees[:i+1]) / total_degree for i in range(len(degrees))]\n",
    "\n",
    "        # Add edges from the seed node to k nodes chosen by the preferential attachment rule\n",
    "        for _ in range(k):\n",
    "            random_value = random.random()\n",
    "            for i, cum_dist in enumerate(cumulative_distribution):\n",
    "                if random_value <= cum_dist:\n",
    "                    target_node = nodes[i]\n",
    "                    # Prevent self-loops and duplicate edges\n",
    "                    if target_node != seed and not graph.has_edge(seed, target_node):\n",
    "                        graph.add_edge(seed, target_node)\n",
    "                        break\n",
    "    \n",
    "    return graph"
   ]
  },
  {
   "cell_type": "code",
   "execution_count": null,
   "metadata": {},
   "outputs": [],
   "source": [
    "seed = seed_degree(G, 50)\n",
    "k = 15"
   ]
  },
  {
   "cell_type": "code",
   "execution_count": 22,
   "metadata": {},
   "outputs": [
    {
     "name": "stderr",
     "output_type": "stream",
     "text": [
      "100%|██████████| 2000/2000 [00:05<00:00, 360.76it/s]\n",
      "100%|██████████| 2000/2000 [00:05<00:00, 341.79it/s]\n",
      "100%|██████████| 2000/2000 [00:06<00:00, 319.66it/s]\n"
     ]
    }
   ],
   "source": [
    "# Simulate diffusion on the original graph\n",
    "count, count_std, color_count, color_count_std = simulate_diffusion_ICM(G, seed, 1, 1000)\n",
    "\n",
    "# Results for the original graph\n",
    "original_results = pd.DataFrame({\n",
    "    'Metric': ['Count', 'Count Standard Deviation', 'Color Count', 'Color Count Standard Deviation'],\n",
    "    'Original Graph': [round(count, 3), round(count_std, 3), round(color_count, 3), round(color_count_std, 3)]\n",
    "})\n",
    "\n",
    "# Simulate diffusion on the adapted graph\n",
    "G_adamic_adar = edge_addition_adamic_adar(G, seed, k)\n",
    "count, count_std, color_count, color_count_std = simulate_diffusion_ICM(G_adamic_adar, seed, 1, 1000)\n",
    "\n",
    "# Results for the adapted graph\n",
    "adapted_results = pd.DataFrame({\n",
    "    'Metric': ['Count', 'Count Standard Deviation', 'Color Count', 'Color Count Standard Deviation'],\n",
    "    'Adapted Graph Adar': [round(count, 3), round(count_std, 3), round(color_count, 3), round(color_count_std, 3)]\n",
    "})\n",
    "\n",
    "# Combine results into a single DataFrame\n",
    "combined_results = pd.merge(original_results, adapted_results, on='Metric')\n",
    "\n",
    "# Simulate diffusion on the adapted graph\n",
    "G_PrefAtt = edge_addition_preferential_attachment(G, seed, k)\n",
    "count, count_std, color_count, color_count_std = simulate_diffusion_ICM(G_PrefAtt, seed, 1, 1000)\n",
    "\n",
    "# Results for the adapted graph\n",
    "adapted_results = pd.DataFrame({\n",
    "    'Metric': ['Count', 'Count Standard Deviation', 'Color Count', 'Color Count Standard Deviation'],\n",
    "    'Adapted Graph PrefAtt': [round(count, 3), round(count_std, 3), round(color_count, 3), round(color_count_std, 3)]\n",
    "})\n",
    "\n",
    "# Combine results into a single DataFrame\n",
    "combined_results = pd.merge(combined_results, adapted_results, on='Metric')\n",
    "\n",
    "\n",
    "# Get the number of nodes and edges for both graphs\n",
    "original_graph_info = {\n",
    "    'Metric': ['Number of Nodes', 'Number of Edges'],\n",
    "    'Original Graph': [G.number_of_nodes(), G.number_of_edges()],\n",
    "    'Adapted Graph Adar': [G_adamic_adar.number_of_nodes(), G_adamic_adar.number_of_edges()],\n",
    "    'Adapted Graph PrefAtt': [G_PrefAtt.number_of_nodes(), G_PrefAtt.number_of_edges()]\n",
    "}\n",
    "\n",
    "graph_info_df = pd.DataFrame(original_graph_info)\n",
    "\n",
    "# Combine all results into one DataFrame\n",
    "final_results = pd.concat([graph_info_df, combined_results], ignore_index=True)\n",
    "\n",
    "# Transpose the DataFrame and set the first row as the header\n",
    "final_results = final_results.T\n",
    "final_results.columns = final_results.iloc[0]  # Set the first row as the column names\n",
    "final_results = final_results.drop(final_results.index[0])  # Drop the first row\n"
   ]
  },
  {
   "cell_type": "code",
   "execution_count": 23,
   "metadata": {},
   "outputs": [
    {
     "data": {
      "text/html": [
       "<div>\n",
       "<style scoped>\n",
       "    .dataframe tbody tr th:only-of-type {\n",
       "        vertical-align: middle;\n",
       "    }\n",
       "\n",
       "    .dataframe tbody tr th {\n",
       "        vertical-align: top;\n",
       "    }\n",
       "\n",
       "    .dataframe thead th {\n",
       "        text-align: right;\n",
       "    }\n",
       "</style>\n",
       "<table border=\"1\" class=\"dataframe\">\n",
       "  <thead>\n",
       "    <tr style=\"text-align: right;\">\n",
       "      <th>Metric</th>\n",
       "      <th>Number of Nodes</th>\n",
       "      <th>Number of Edges</th>\n",
       "      <th>Count</th>\n",
       "      <th>Count Standard Deviation</th>\n",
       "      <th>Color Count</th>\n",
       "      <th>Color Count Standard Deviation</th>\n",
       "    </tr>\n",
       "  </thead>\n",
       "  <tbody>\n",
       "    <tr>\n",
       "      <th>Original Graph</th>\n",
       "      <td>500.0</td>\n",
       "      <td>25573.0</td>\n",
       "      <td>137.672</td>\n",
       "      <td>79.175</td>\n",
       "      <td>3.827</td>\n",
       "      <td>5.357</td>\n",
       "    </tr>\n",
       "    <tr>\n",
       "      <th>Adapted Graph Adar</th>\n",
       "      <td>500.0</td>\n",
       "      <td>26178.0</td>\n",
       "      <td>143.91</td>\n",
       "      <td>78.953</td>\n",
       "      <td>3.719</td>\n",
       "      <td>5.189</td>\n",
       "    </tr>\n",
       "    <tr>\n",
       "      <th>Adapted Graph PrefAtt</th>\n",
       "      <td>500.0</td>\n",
       "      <td>26323.0</td>\n",
       "      <td>150.444</td>\n",
       "      <td>79.082</td>\n",
       "      <td>10.094</td>\n",
       "      <td>12.179</td>\n",
       "    </tr>\n",
       "  </tbody>\n",
       "</table>\n",
       "</div>"
      ],
      "text/plain": [
       "Metric                Number of Nodes Number of Edges    Count  \\\n",
       "Original Graph                  500.0         25573.0  137.672   \n",
       "Adapted Graph Adar              500.0         26178.0   143.91   \n",
       "Adapted Graph PrefAtt           500.0         26323.0  150.444   \n",
       "\n",
       "Metric                Count Standard Deviation Color Count  \\\n",
       "Original Graph                          79.175       3.827   \n",
       "Adapted Graph Adar                      78.953       3.719   \n",
       "Adapted Graph PrefAtt                   79.082      10.094   \n",
       "\n",
       "Metric                Color Count Standard Deviation  \n",
       "Original Graph                                 5.357  \n",
       "Adapted Graph Adar                             5.189  \n",
       "Adapted Graph PrefAtt                         12.179  "
      ]
     },
     "execution_count": 23,
     "metadata": {},
     "output_type": "execute_result"
    }
   ],
   "source": [
    "final_results"
   ]
  }
 ],
 "metadata": {
  "kernelspec": {
   "display_name": "base",
   "language": "python",
   "name": "python3"
  },
  "language_info": {
   "codemirror_mode": {
    "name": "ipython",
    "version": 3
   },
   "file_extension": ".py",
   "mimetype": "text/x-python",
   "name": "python",
   "nbconvert_exporter": "python",
   "pygments_lexer": "ipython3",
   "version": "3.9.15"
  }
 },
 "nbformat": 4,
 "nbformat_minor": 2
}
