{
 "cells": [
  {
   "cell_type": "code",
   "execution_count": 1,
   "metadata": {},
   "outputs": [],
   "source": [
    "\n",
    "from collections import Counter\n",
    "from multiprocessing import Pool, cpu_count\n",
    "from typing import Dict, List, Set\n",
    "import os\n",
    "import networkx as nx\n",
    "import matplotlib.pyplot as plt\n",
    "\n",
    "from src.graph import (\n",
    "    create_polarized_graph,\n",
    "    create_polarized_graph_multiple,\n",
    "    graph_loader,\n",
    "    random_color_graph,\n",
    "    spectral_bipartition_coloring,\n",
    "    spectral_partition_coloring,\n",
    "    color_from_file\n",
    ")\n",
    "\n",
    "from src.seed import (seed_degree, \n",
    "    seed_polarized, \n",
    "    seed_random, \n",
    "    seed_polarized_centrality_mixed, \n",
    "    seed_polarized_centrality, \n",
    "    seed_polarized_degree, \n",
    "    seed_centrality_mixed, \n",
    "    seed_centrality, \n",
    "    seed_influence_maximization\n",
    ")\n",
    "\n",
    "#from src.seed_ima import \n",
    "\n",
    "\n",
    "\n",
    "from evaluation_fixed_seed import evaluate_all_seeds"
   ]
  },
  {
   "cell_type": "code",
   "execution_count": 2,
   "metadata": {},
   "outputs": [],
   "source": [
    "import warnings\n",
    "\n",
    "# Suppress the specific UserWarning from sklearn\n",
    "warnings.filterwarnings(\"ignore\", category=UserWarning, module=\"sklearn.manifold._spectral_embedding\")"
   ]
  },
  {
   "cell_type": "code",
   "execution_count": null,
   "metadata": {},
   "outputs": [],
   "source": [
    "num_groups = 2\n",
    "\n",
    "G = graph_loader(\"datasets/twitter_social_cirlce/twitter_combined.txt\")\n",
    "\n",
    "spectral_bipartition_coloring(G)\n",
    "\n",
    "colors = plt.cm.get_cmap('tab10', num_groups)  # Use 'tab10' colormap to get distinct colors\n",
    "color_map = [colors(G.nodes[node][\"color\"]) for node in G.nodes()]\n",
    "print(', '.join([f\"Color {i+1}: {value}\" for i, value in enumerate(list(Counter(color_map).values()))]))"
   ]
  },
  {
   "cell_type": "code",
   "execution_count": null,
   "metadata": {},
   "outputs": [],
   "source": [
    "seed_size = G.number_of_nodes() // 20\n",
    "print(f\"Seed size: {seed_size}\")\n",
    "max_iter = 1000"
   ]
  },
  {
   "cell_type": "code",
   "execution_count": null,
   "metadata": {},
   "outputs": [],
   "source": [
    "k_values = [1,3,5,7,10,13,15] #[1,5,10,15,20,25,30]\n",
    "\n",
    "seed_functions = {\n",
    "        \"Random\": seed_random(G, seed_size),\n",
    "        \"MIA\": seed_influence_maximization(G, seed_size, 1000, 8, 0),\n",
    "        \"Degree\": seed_degree(G, seed_size),\n",
    "        \"Centrality\": seed_centrality(G, seed_size),\n",
    "        \"Centrality Mixed\": seed_centrality_mixed(G, seed_size),\n",
    "        \"Polarized\": seed_polarized(G, seed_size, 0),\n",
    "        \"Polarized Degree\": seed_polarized_degree(G, seed_size, 0),\n",
    "        \"Polarized Centrality\": seed_polarized_centrality(G, seed_size, 0),\n",
    "        \"Polarized Centrality Mixed\": seed_polarized_centrality_mixed(G, seed_size, 0),\n",
    "    }\n",
    "\n",
    "for k in k_values:\n",
    "    print(f\"K: {k}\")\n",
    "    budget = 2 * k\n",
    "\n",
    "    # Example of how to call the function\n",
    "    all_results_df = evaluate_all_seeds(G, seed_functions, k, max_iter, budget, \"netin_09_test\", verbose=False)\n",
    "\n",
    "    all_results_df.to_csv(f\"results/test/results_netin_{N}_nodes_{h}_hvalue_{d}_density_{k}_k_{budget}_budget.csv\", index=False)"
   ]
  },
  {
   "cell_type": "code",
   "execution_count": null,
   "metadata": {},
   "outputs": [],
   "source": [
    "directory = 'results/test_twitter/'  # Adjust the path if needed\n",
    "\n",
    "# Dictionary to store k values and corresponding dataframes\n",
    "k_dict = {}\n",
    "\n",
    "# Iterate over all the files in the directory\n",
    "for filename in os.listdir(directory):\n",
    "    if filename.endswith(\".csv\"):  # assuming the files are in CSV format\n",
    "        # Extract the k value from the filename (assuming k is before \"_budget\")\n",
    "        try:\n",
    "            k_value = filename.split(\"_k_\")[0].split(\"_\")[-1]\n",
    "            k_value = int(k_value)\n",
    "        except (IndexError, ValueError):\n",
    "            print(f\"Filename {filename} does not match the expected pattern.\")\n",
    "            continue\n",
    "        \n",
    "        # Read the CSV file into a DataFrame\n",
    "        file_path = os.path.join(directory, filename)\n",
    "        df = pd.read_csv(file_path)\n",
    "        \n",
    "        # Store the DataFrame in the dictionary with k as the key\n",
    "        k_dict[k_value] = df[[\"Seed Function\", \"Graph Modification\", \"Avg Activated Nodes\"]]"
   ]
  }
 ],
 "metadata": {
  "kernelspec": {
   "display_name": "base",
   "language": "python",
   "name": "python3"
  },
  "language_info": {
   "codemirror_mode": {
    "name": "ipython",
    "version": 3
   },
   "file_extension": ".py",
   "mimetype": "text/x-python",
   "name": "python",
   "nbconvert_exporter": "python",
   "pygments_lexer": "ipython3",
   "version": "3.9.15"
  }
 },
 "nbformat": 4,
 "nbformat_minor": 2
}
