{
 "cells": [
  {
   "cell_type": "code",
   "execution_count": 1,
   "metadata": {},
   "outputs": [],
   "source": [
    "from netin.models import DPAHModel"
   ]
  },
  {
   "cell_type": "code",
   "execution_count": 2,
   "metadata": {},
   "outputs": [],
   "source": [
    "#TODO: check icm diffusion model, error when generating the random values, always reusing the same ones over and over again!!!!\n",
    "#TODO: reduce seed size, to have more variability in the results\n",
    "#TODO: Change budget amount, and see if one then have more variability in the results"
   ]
  },
  {
   "cell_type": "code",
   "execution_count": 3,
   "metadata": {},
   "outputs": [],
   "source": [
    "from multiprocessing import Pool, cpu_count\n",
    "from typing import Dict, List, Set\n",
    "\n",
    "\n",
    "from src.seed import (seed_degree, \n",
    "    seed_polarized, \n",
    "    seed_random, \n",
    "    seed_polarized_centrality_mixed, \n",
    "    seed_polarized_centrality, \n",
    "    seed_polarized_degree, \n",
    "    seed_centrality_mixed, \n",
    "    seed_centrality, \n",
    "    seed_influence_maximization\n",
    ")\n",
    "\n",
    "\n",
    "from evaluation import evaluate_all_seeds"
   ]
  },
  {
   "cell_type": "markdown",
   "metadata": {},
   "source": [
    "This model connects a new node to the existing nodes biased by their group assignment. Homophily values of $h > 0.5$ indicate homophily, meaning that nodes prefer to connect to their own group. Heterophily is specified by $h < 0.5$. Nodes tend to connect to the other group.\n",
    "\n",
    "Instead of the number of links per each new node, the directed graph models parameterize the density of the final network by the parameter $d$. Additionally, we need to define activity levels for outgoing links for both the minority and majority group as $plo_m/M$"
   ]
  },
  {
   "cell_type": "code",
   "execution_count": 4,
   "metadata": {},
   "outputs": [],
   "source": [
    "N = 10_000 # Number of total nodes\n",
    "f_m = 0.3 # Fraction of minority nodes\n",
    "h = 0.1 # Homophilic\n",
    "d = 0.001 # desity of the graph\n",
    "plo = 2.0\n",
    "#final number of edges will be: e = d * n (n-1)"
   ]
  },
  {
   "cell_type": "code",
   "execution_count": 5,
   "metadata": {},
   "outputs": [],
   "source": [
    "# DPAH graphs:\n",
    "# Homophilic h > 0.5\n",
    "# Neutral h = 0.5\n",
    "# Heterophilic h < 0.5\n",
    "\n",
    "homophily_values = [0.1, 0.5, 0.9]"
   ]
  },
  {
   "cell_type": "code",
   "execution_count": 6,
   "metadata": {},
   "outputs": [],
   "source": [
    "dpa_model = DPAHModel(N=N, f_m=f_m, d=d, plo_M=plo, plo_m=plo, h_M=h, h_m=h, seed=12345)\n",
    "dpa_graph = dpa_model.simulate()"
   ]
  },
  {
   "cell_type": "code",
   "execution_count": 7,
   "metadata": {},
   "outputs": [],
   "source": [
    "G = dpa_graph.to_nxgraph() # This creates a copy of the graph\n",
    "\n",
    "for node, attr in G.nodes(data=True):\n",
    "    attr['color'] = attr.pop('minority')\n",
    "\n",
    "for node in G.nodes():\n",
    "        in_degree = G.in_degree(node)\n",
    "        for neighbor in G.successors(node):\n",
    "            G[node][neighbor][\"weight\"] = 1 / in_degree if in_degree > 0 else 1"
   ]
  },
  {
   "cell_type": "code",
   "execution_count": 8,
   "metadata": {},
   "outputs": [
    {
     "name": "stdout",
     "output_type": "stream",
     "text": [
      "Seed size: 250\n"
     ]
    }
   ],
   "source": [
    "seed_size = G.number_of_nodes() // 40\n",
    "print(f\"Seed size: {seed_size}\")\n",
    "k = seed_size\n",
    "max_iter = 1000\n",
    "budget = 3 * seed_size"
   ]
  },
  {
   "cell_type": "code",
   "execution_count": 9,
   "metadata": {},
   "outputs": [
    {
     "name": "stdout",
     "output_type": "stream",
     "text": [
      "Running evaluation for seed function: Random\n",
      "    Running evaluation for graph modification: Original Graph\n"
     ]
    },
    {
     "name": "stderr",
     "output_type": "stream",
     "text": [
      "100%|██████████| 1000/1000 [00:15<00:00, 62.62it/s]\n"
     ]
    },
    {
     "name": "stdout",
     "output_type": "stream",
     "text": [
      "    Running evaluation for graph modification: Random\n"
     ]
    },
    {
     "name": "stderr",
     "output_type": "stream",
     "text": [
      "100%|██████████| 1000/1000 [00:18<00:00, 54.29it/s] \n"
     ]
    },
    {
     "name": "stdout",
     "output_type": "stream",
     "text": [
      "    Running evaluation for graph modification: Degree\n"
     ]
    },
    {
     "name": "stderr",
     "output_type": "stream",
     "text": [
      "100%|██████████| 1000/1000 [00:56<00:00, 17.60it/s]\n"
     ]
    },
    {
     "name": "stdout",
     "output_type": "stream",
     "text": [
      "    Running evaluation for graph modification: PrefAtt\n"
     ]
    },
    {
     "name": "stderr",
     "output_type": "stream",
     "text": [
      "100%|██████████| 1000/1000 [01:06<00:00, 15.00it/s]\n"
     ]
    },
    {
     "name": "stdout",
     "output_type": "stream",
     "text": [
      "    Running evaluation for graph modification: Jaccard\n"
     ]
    },
    {
     "name": "stderr",
     "output_type": "stream",
     "text": [
      "100%|██████████| 1000/1000 [00:25<00:00, 39.94it/s]\n"
     ]
    },
    {
     "name": "stdout",
     "output_type": "stream",
     "text": [
      "    Running evaluation for graph modification: TopK\n"
     ]
    },
    {
     "name": "stderr",
     "output_type": "stream",
     "text": [
      "100%|██████████| 10000/10000 [02:53<00:00, 57.60it/s]\n",
      "100%|██████████| 1000/1000 [00:37<00:00, 26.71it/s]\n"
     ]
    },
    {
     "name": "stdout",
     "output_type": "stream",
     "text": [
      "    Running evaluation for graph modification: KKT\n"
     ]
    },
    {
     "name": "stderr",
     "output_type": "stream",
     "text": [
      "100%|██████████| 1000/1000 [00:32<00:00, 31.07it/s]\n"
     ]
    },
    {
     "name": "stdout",
     "output_type": "stream",
     "text": [
      "    Running evaluation for graph modification: Custom\n"
     ]
    },
    {
     "name": "stderr",
     "output_type": "stream",
     "text": [
      "100%|██████████| 10000/10000 [00:52<00:00, 189.98it/s]\n",
      "100%|██████████| 1000/1000 [00:23<00:00, 42.12it/s]\n"
     ]
    },
    {
     "name": "stdout",
     "output_type": "stream",
     "text": [
      "    Running evaluation for graph modification: Custom V2\n"
     ]
    },
    {
     "name": "stderr",
     "output_type": "stream",
     "text": [
      "100%|██████████| 10000/10000 [00:54<00:00, 184.33it/s]\n",
      "100%|██████████| 1000/1000 [00:20<00:00, 48.69it/s]\n"
     ]
    },
    {
     "name": "stdout",
     "output_type": "stream",
     "text": [
      "Running evaluation for seed function: MIA\n"
     ]
    },
    {
     "name": "stderr",
     "output_type": "stream",
     "text": [
      "Initial influence calculation: 100%|██████████| 9119/9119 [02:52<00:00, 53.00node/s]  \n",
      "Selecting seeds: 100%|██████████| 250/250 [04:09<00:00,  1.00seed/s] \n"
     ]
    },
    {
     "name": "stdout",
     "output_type": "stream",
     "text": [
      "    Running evaluation for graph modification: Original Graph\n"
     ]
    },
    {
     "name": "stderr",
     "output_type": "stream",
     "text": [
      "100%|██████████| 1000/1000 [00:15<00:00, 62.87it/s]\n"
     ]
    },
    {
     "name": "stdout",
     "output_type": "stream",
     "text": [
      "    Running evaluation for graph modification: Random\n"
     ]
    },
    {
     "name": "stderr",
     "output_type": "stream",
     "text": [
      "100%|██████████| 1000/1000 [00:17<00:00, 57.56it/s] \n"
     ]
    },
    {
     "name": "stdout",
     "output_type": "stream",
     "text": [
      "    Running evaluation for graph modification: Degree\n"
     ]
    },
    {
     "name": "stderr",
     "output_type": "stream",
     "text": [
      "100%|██████████| 1000/1000 [00:18<00:00, 54.83it/s]\n"
     ]
    },
    {
     "name": "stdout",
     "output_type": "stream",
     "text": [
      "    Running evaluation for graph modification: PrefAtt\n"
     ]
    },
    {
     "name": "stderr",
     "output_type": "stream",
     "text": [
      "100%|██████████| 1000/1000 [00:17<00:00, 56.60it/s]\n"
     ]
    },
    {
     "name": "stdout",
     "output_type": "stream",
     "text": [
      "    Running evaluation for graph modification: Jaccard\n"
     ]
    },
    {
     "name": "stderr",
     "output_type": "stream",
     "text": [
      "100%|██████████| 1000/1000 [00:18<00:00, 54.82it/s]\n"
     ]
    },
    {
     "name": "stdout",
     "output_type": "stream",
     "text": [
      "    Running evaluation for graph modification: TopK\n"
     ]
    },
    {
     "name": "stderr",
     "output_type": "stream",
     "text": [
      "100%|██████████| 10000/10000 [03:02<00:00, 54.92it/s]\n",
      "100%|██████████| 1000/1000 [00:17<00:00, 56.64it/s]\n"
     ]
    },
    {
     "name": "stdout",
     "output_type": "stream",
     "text": [
      "    Running evaluation for graph modification: KKT\n"
     ]
    },
    {
     "name": "stderr",
     "output_type": "stream",
     "text": [
      "100%|██████████| 1000/1000 [00:18<00:00, 54.89it/s]\n"
     ]
    },
    {
     "name": "stdout",
     "output_type": "stream",
     "text": [
      "    Running evaluation for graph modification: Custom\n"
     ]
    },
    {
     "name": "stderr",
     "output_type": "stream",
     "text": [
      "100%|██████████| 10000/10000 [01:16<00:00, 131.33it/s]\n",
      "100%|██████████| 1000/1000 [00:18<00:00, 54.69it/s]\n"
     ]
    },
    {
     "name": "stdout",
     "output_type": "stream",
     "text": [
      "    Running evaluation for graph modification: Custom V2\n"
     ]
    },
    {
     "name": "stderr",
     "output_type": "stream",
     "text": [
      "100%|██████████| 10000/10000 [01:16<00:00, 131.27it/s]\n",
      "100%|██████████| 1000/1000 [00:18<00:00, 53.53it/s]\n"
     ]
    },
    {
     "name": "stdout",
     "output_type": "stream",
     "text": [
      "Running evaluation for seed function: Degree\n",
      "    Running evaluation for graph modification: Original Graph\n"
     ]
    },
    {
     "name": "stderr",
     "output_type": "stream",
     "text": [
      "100%|██████████| 1000/1000 [00:37<00:00, 26.86it/s]\n"
     ]
    },
    {
     "name": "stdout",
     "output_type": "stream",
     "text": [
      "    Running evaluation for graph modification: Random\n"
     ]
    },
    {
     "name": "stderr",
     "output_type": "stream",
     "text": [
      "100%|██████████| 1000/1000 [00:39<00:00, 25.52it/s]\n"
     ]
    },
    {
     "name": "stdout",
     "output_type": "stream",
     "text": [
      "    Running evaluation for graph modification: Degree\n"
     ]
    },
    {
     "name": "stderr",
     "output_type": "stream",
     "text": [
      "100%|██████████| 1000/1000 [00:37<00:00, 27.01it/s]\n"
     ]
    },
    {
     "name": "stdout",
     "output_type": "stream",
     "text": [
      "    Running evaluation for graph modification: PrefAtt\n"
     ]
    },
    {
     "name": "stderr",
     "output_type": "stream",
     "text": [
      "100%|██████████| 1000/1000 [00:38<00:00, 25.78it/s]\n"
     ]
    },
    {
     "name": "stdout",
     "output_type": "stream",
     "text": [
      "    Running evaluation for graph modification: Jaccard\n"
     ]
    },
    {
     "name": "stderr",
     "output_type": "stream",
     "text": [
      "100%|██████████| 1000/1000 [00:38<00:00, 25.94it/s]\n"
     ]
    },
    {
     "name": "stdout",
     "output_type": "stream",
     "text": [
      "    Running evaluation for graph modification: TopK\n"
     ]
    },
    {
     "name": "stderr",
     "output_type": "stream",
     "text": [
      "100%|██████████| 10000/10000 [03:02<00:00, 54.75it/s]\n",
      "100%|██████████| 1000/1000 [00:38<00:00, 25.93it/s]\n"
     ]
    },
    {
     "name": "stdout",
     "output_type": "stream",
     "text": [
      "    Running evaluation for graph modification: KKT\n"
     ]
    },
    {
     "name": "stderr",
     "output_type": "stream",
     "text": [
      "100%|██████████| 1000/1000 [00:38<00:00, 26.06it/s]\n"
     ]
    },
    {
     "name": "stdout",
     "output_type": "stream",
     "text": [
      "    Running evaluation for graph modification: Custom\n"
     ]
    },
    {
     "name": "stderr",
     "output_type": "stream",
     "text": [
      "100%|██████████| 10000/10000 [01:07<00:00, 147.66it/s]\n",
      "100%|██████████| 1000/1000 [00:39<00:00, 25.50it/s]\n"
     ]
    },
    {
     "name": "stdout",
     "output_type": "stream",
     "text": [
      "    Running evaluation for graph modification: Custom V2\n"
     ]
    },
    {
     "name": "stderr",
     "output_type": "stream",
     "text": [
      "100%|██████████| 10000/10000 [01:07<00:00, 148.63it/s]\n",
      "100%|██████████| 1000/1000 [00:39<00:00, 25.03it/s]\n"
     ]
    },
    {
     "name": "stdout",
     "output_type": "stream",
     "text": [
      "Running evaluation for seed function: Centrality\n",
      "    Running evaluation for graph modification: Original Graph\n"
     ]
    },
    {
     "name": "stderr",
     "output_type": "stream",
     "text": [
      "100%|██████████| 1000/1000 [00:12<00:00, 78.28it/s]\n"
     ]
    },
    {
     "name": "stdout",
     "output_type": "stream",
     "text": [
      "    Running evaluation for graph modification: Random\n"
     ]
    },
    {
     "name": "stderr",
     "output_type": "stream",
     "text": [
      "100%|██████████| 1000/1000 [00:14<00:00, 71.12it/s]\n"
     ]
    },
    {
     "name": "stdout",
     "output_type": "stream",
     "text": [
      "    Running evaluation for graph modification: Degree\n"
     ]
    },
    {
     "name": "stderr",
     "output_type": "stream",
     "text": [
      "100%|██████████| 1000/1000 [00:55<00:00, 18.08it/s]\n"
     ]
    },
    {
     "name": "stdout",
     "output_type": "stream",
     "text": [
      "    Running evaluation for graph modification: PrefAtt\n"
     ]
    },
    {
     "name": "stderr",
     "output_type": "stream",
     "text": [
      "100%|██████████| 1000/1000 [00:31<00:00, 31.73it/s]\n"
     ]
    },
    {
     "name": "stdout",
     "output_type": "stream",
     "text": [
      "    Running evaluation for graph modification: Jaccard\n"
     ]
    },
    {
     "name": "stderr",
     "output_type": "stream",
     "text": [
      "100%|██████████| 1000/1000 [00:29<00:00, 33.65it/s]\n"
     ]
    },
    {
     "name": "stdout",
     "output_type": "stream",
     "text": [
      "    Running evaluation for graph modification: TopK\n"
     ]
    },
    {
     "name": "stderr",
     "output_type": "stream",
     "text": [
      "100%|██████████| 10000/10000 [02:57<00:00, 56.25it/s]\n",
      "100%|██████████| 1000/1000 [01:00<00:00, 16.40it/s]\n"
     ]
    },
    {
     "name": "stdout",
     "output_type": "stream",
     "text": [
      "    Running evaluation for graph modification: KKT\n"
     ]
    },
    {
     "name": "stderr",
     "output_type": "stream",
     "text": [
      "100%|██████████| 1000/1000 [01:04<00:00, 15.49it/s]\n"
     ]
    },
    {
     "name": "stdout",
     "output_type": "stream",
     "text": [
      "    Running evaluation for graph modification: Custom\n"
     ]
    },
    {
     "name": "stderr",
     "output_type": "stream",
     "text": [
      "100%|██████████| 10000/10000 [01:10<00:00, 141.89it/s]\n",
      "100%|██████████| 1000/1000 [00:48<00:00, 20.52it/s]\n"
     ]
    },
    {
     "name": "stdout",
     "output_type": "stream",
     "text": [
      "    Running evaluation for graph modification: Custom V2\n"
     ]
    },
    {
     "name": "stderr",
     "output_type": "stream",
     "text": [
      "100%|██████████| 10000/10000 [01:10<00:00, 141.79it/s]\n",
      "100%|██████████| 1000/1000 [00:47<00:00, 21.09it/s]\n"
     ]
    },
    {
     "name": "stdout",
     "output_type": "stream",
     "text": [
      "Running evaluation for seed function: Centrality Mixed\n",
      "    Running evaluation for graph modification: Original Graph\n"
     ]
    },
    {
     "name": "stderr",
     "output_type": "stream",
     "text": [
      "100%|██████████| 1000/1000 [00:13<00:00, 72.18it/s]\n"
     ]
    },
    {
     "name": "stdout",
     "output_type": "stream",
     "text": [
      "    Running evaluation for graph modification: Random\n"
     ]
    },
    {
     "name": "stderr",
     "output_type": "stream",
     "text": [
      "100%|██████████| 1000/1000 [00:15<00:00, 66.04it/s]\n"
     ]
    },
    {
     "name": "stdout",
     "output_type": "stream",
     "text": [
      "    Running evaluation for graph modification: Degree\n"
     ]
    },
    {
     "name": "stderr",
     "output_type": "stream",
     "text": [
      "100%|██████████| 1000/1000 [00:32<00:00, 31.22it/s]\n"
     ]
    },
    {
     "name": "stdout",
     "output_type": "stream",
     "text": [
      "    Running evaluation for graph modification: PrefAtt\n"
     ]
    },
    {
     "name": "stderr",
     "output_type": "stream",
     "text": [
      "100%|██████████| 1000/1000 [00:52<00:00, 18.97it/s]\n"
     ]
    },
    {
     "name": "stdout",
     "output_type": "stream",
     "text": [
      "    Running evaluation for graph modification: Jaccard\n"
     ]
    },
    {
     "name": "stderr",
     "output_type": "stream",
     "text": [
      "100%|██████████| 1000/1000 [00:53<00:00, 18.68it/s]\n"
     ]
    },
    {
     "name": "stdout",
     "output_type": "stream",
     "text": [
      "    Running evaluation for graph modification: TopK\n"
     ]
    },
    {
     "name": "stderr",
     "output_type": "stream",
     "text": [
      "100%|██████████| 10000/10000 [02:52<00:00, 58.12it/s]\n",
      "100%|██████████| 1000/1000 [00:44<00:00, 22.27it/s]\n"
     ]
    },
    {
     "name": "stdout",
     "output_type": "stream",
     "text": [
      "    Running evaluation for graph modification: KKT\n"
     ]
    },
    {
     "name": "stderr",
     "output_type": "stream",
     "text": [
      "100%|██████████| 1000/1000 [00:57<00:00, 17.41it/s]\n"
     ]
    },
    {
     "name": "stdout",
     "output_type": "stream",
     "text": [
      "    Running evaluation for graph modification: Custom\n"
     ]
    },
    {
     "name": "stderr",
     "output_type": "stream",
     "text": [
      "100%|██████████| 10000/10000 [01:10<00:00, 141.85it/s]\n",
      "100%|██████████| 1000/1000 [00:41<00:00, 24.06it/s]\n"
     ]
    },
    {
     "name": "stdout",
     "output_type": "stream",
     "text": [
      "    Running evaluation for graph modification: Custom V2\n"
     ]
    },
    {
     "name": "stderr",
     "output_type": "stream",
     "text": [
      "100%|██████████| 10000/10000 [01:10<00:00, 142.25it/s]\n",
      "100%|██████████| 1000/1000 [00:58<00:00, 17.07it/s]\n"
     ]
    },
    {
     "name": "stdout",
     "output_type": "stream",
     "text": [
      "Running evaluation for seed function: Polarized\n",
      "    Running evaluation for graph modification: Original Graph\n"
     ]
    },
    {
     "name": "stderr",
     "output_type": "stream",
     "text": [
      "100%|██████████| 1000/1000 [00:24<00:00, 41.36it/s]\n"
     ]
    },
    {
     "name": "stdout",
     "output_type": "stream",
     "text": [
      "    Running evaluation for graph modification: Random\n"
     ]
    },
    {
     "name": "stderr",
     "output_type": "stream",
     "text": [
      "100%|██████████| 1000/1000 [00:32<00:00, 30.60it/s]\n"
     ]
    },
    {
     "name": "stdout",
     "output_type": "stream",
     "text": [
      "    Running evaluation for graph modification: Degree\n"
     ]
    },
    {
     "name": "stderr",
     "output_type": "stream",
     "text": [
      "100%|██████████| 1000/1000 [00:59<00:00, 16.85it/s]\n"
     ]
    },
    {
     "name": "stdout",
     "output_type": "stream",
     "text": [
      "    Running evaluation for graph modification: PrefAtt\n"
     ]
    },
    {
     "name": "stderr",
     "output_type": "stream",
     "text": [
      "100%|██████████| 1000/1000 [01:05<00:00, 15.16it/s]\n"
     ]
    },
    {
     "name": "stdout",
     "output_type": "stream",
     "text": [
      "    Running evaluation for graph modification: Jaccard\n"
     ]
    },
    {
     "name": "stderr",
     "output_type": "stream",
     "text": [
      "100%|██████████| 1000/1000 [00:26<00:00, 37.76it/s]\n"
     ]
    },
    {
     "name": "stdout",
     "output_type": "stream",
     "text": [
      "    Running evaluation for graph modification: TopK\n"
     ]
    },
    {
     "name": "stderr",
     "output_type": "stream",
     "text": [
      "100%|██████████| 10000/10000 [02:53<00:00, 57.79it/s]\n",
      "100%|██████████| 1000/1000 [00:43<00:00, 23.09it/s]\n"
     ]
    },
    {
     "name": "stdout",
     "output_type": "stream",
     "text": [
      "    Running evaluation for graph modification: KKT\n"
     ]
    },
    {
     "name": "stderr",
     "output_type": "stream",
     "text": [
      "100%|██████████| 1000/1000 [01:06<00:00, 14.99it/s]\n"
     ]
    },
    {
     "name": "stdout",
     "output_type": "stream",
     "text": [
      "    Running evaluation for graph modification: Custom\n"
     ]
    },
    {
     "name": "stderr",
     "output_type": "stream",
     "text": [
      "100%|██████████| 10000/10000 [00:41<00:00, 241.95it/s]\n",
      "100%|██████████| 1000/1000 [00:31<00:00, 31.26it/s]\n"
     ]
    },
    {
     "name": "stdout",
     "output_type": "stream",
     "text": [
      "    Running evaluation for graph modification: Custom V2\n"
     ]
    },
    {
     "name": "stderr",
     "output_type": "stream",
     "text": [
      "100%|██████████| 10000/10000 [00:41<00:00, 241.99it/s]\n",
      "100%|██████████| 1000/1000 [00:29<00:00, 34.31it/s]\n"
     ]
    },
    {
     "name": "stdout",
     "output_type": "stream",
     "text": [
      "Running evaluation for seed function: Polarized Degree\n",
      "    Running evaluation for graph modification: Original Graph\n"
     ]
    },
    {
     "name": "stderr",
     "output_type": "stream",
     "text": [
      "100%|██████████| 1000/1000 [00:41<00:00, 23.95it/s]\n"
     ]
    },
    {
     "name": "stdout",
     "output_type": "stream",
     "text": [
      "    Running evaluation for graph modification: Random\n"
     ]
    },
    {
     "name": "stderr",
     "output_type": "stream",
     "text": [
      "100%|██████████| 1000/1000 [00:44<00:00, 22.42it/s]\n"
     ]
    },
    {
     "name": "stdout",
     "output_type": "stream",
     "text": [
      "    Running evaluation for graph modification: Degree\n"
     ]
    },
    {
     "name": "stderr",
     "output_type": "stream",
     "text": [
      "100%|██████████| 1000/1000 [00:41<00:00, 24.05it/s]\n"
     ]
    },
    {
     "name": "stdout",
     "output_type": "stream",
     "text": [
      "    Running evaluation for graph modification: PrefAtt\n"
     ]
    },
    {
     "name": "stderr",
     "output_type": "stream",
     "text": [
      "100%|██████████| 1000/1000 [00:43<00:00, 22.92it/s]\n"
     ]
    },
    {
     "name": "stdout",
     "output_type": "stream",
     "text": [
      "    Running evaluation for graph modification: Jaccard\n"
     ]
    },
    {
     "name": "stderr",
     "output_type": "stream",
     "text": [
      "100%|██████████| 1000/1000 [00:42<00:00, 23.27it/s]\n"
     ]
    },
    {
     "name": "stdout",
     "output_type": "stream",
     "text": [
      "    Running evaluation for graph modification: TopK\n"
     ]
    },
    {
     "name": "stderr",
     "output_type": "stream",
     "text": [
      "100%|██████████| 10000/10000 [02:56<00:00, 56.58it/s]\n",
      "100%|██████████| 1000/1000 [00:41<00:00, 23.97it/s]\n"
     ]
    },
    {
     "name": "stdout",
     "output_type": "stream",
     "text": [
      "    Running evaluation for graph modification: KKT\n"
     ]
    },
    {
     "name": "stderr",
     "output_type": "stream",
     "text": [
      "100%|██████████| 1000/1000 [00:44<00:00, 22.44it/s]\n"
     ]
    },
    {
     "name": "stdout",
     "output_type": "stream",
     "text": [
      "    Running evaluation for graph modification: Custom\n"
     ]
    },
    {
     "name": "stderr",
     "output_type": "stream",
     "text": [
      "100%|██████████| 10000/10000 [00:41<00:00, 242.54it/s]\n",
      "100%|██████████| 1000/1000 [00:43<00:00, 23.22it/s]\n"
     ]
    },
    {
     "name": "stdout",
     "output_type": "stream",
     "text": [
      "    Running evaluation for graph modification: Custom V2\n"
     ]
    },
    {
     "name": "stderr",
     "output_type": "stream",
     "text": [
      "100%|██████████| 10000/10000 [00:41<00:00, 242.26it/s]\n",
      "100%|██████████| 1000/1000 [00:44<00:00, 22.48it/s]\n"
     ]
    },
    {
     "name": "stdout",
     "output_type": "stream",
     "text": [
      "Running evaluation for seed function: Polarized Centrality\n",
      "    Running evaluation for graph modification: Original Graph\n"
     ]
    },
    {
     "name": "stderr",
     "output_type": "stream",
     "text": [
      "100%|██████████| 1000/1000 [00:21<00:00, 47.58it/s]\n"
     ]
    },
    {
     "name": "stdout",
     "output_type": "stream",
     "text": [
      "    Running evaluation for graph modification: Random\n"
     ]
    },
    {
     "name": "stderr",
     "output_type": "stream",
     "text": [
      "100%|██████████| 1000/1000 [00:26<00:00, 38.35it/s]\n"
     ]
    },
    {
     "name": "stdout",
     "output_type": "stream",
     "text": [
      "    Running evaluation for graph modification: Degree\n"
     ]
    },
    {
     "name": "stderr",
     "output_type": "stream",
     "text": [
      "100%|██████████| 1000/1000 [01:02<00:00, 15.94it/s]\n"
     ]
    },
    {
     "name": "stdout",
     "output_type": "stream",
     "text": [
      "    Running evaluation for graph modification: PrefAtt\n"
     ]
    },
    {
     "name": "stderr",
     "output_type": "stream",
     "text": [
      "100%|██████████| 1000/1000 [00:59<00:00, 16.78it/s]\n"
     ]
    },
    {
     "name": "stdout",
     "output_type": "stream",
     "text": [
      "    Running evaluation for graph modification: Jaccard\n"
     ]
    },
    {
     "name": "stderr",
     "output_type": "stream",
     "text": [
      "100%|██████████| 1000/1000 [00:28<00:00, 34.51it/s]\n"
     ]
    },
    {
     "name": "stdout",
     "output_type": "stream",
     "text": [
      "    Running evaluation for graph modification: TopK\n"
     ]
    },
    {
     "name": "stderr",
     "output_type": "stream",
     "text": [
      "100%|██████████| 10000/10000 [02:50<00:00, 58.58it/s]\n",
      "100%|██████████| 1000/1000 [00:59<00:00, 16.86it/s]\n"
     ]
    },
    {
     "name": "stdout",
     "output_type": "stream",
     "text": [
      "    Running evaluation for graph modification: KKT\n"
     ]
    },
    {
     "name": "stderr",
     "output_type": "stream",
     "text": [
      "100%|██████████| 1000/1000 [01:01<00:00, 16.38it/s]\n"
     ]
    },
    {
     "name": "stdout",
     "output_type": "stream",
     "text": [
      "    Running evaluation for graph modification: Custom\n"
     ]
    },
    {
     "name": "stderr",
     "output_type": "stream",
     "text": [
      "100%|██████████| 10000/10000 [00:41<00:00, 242.59it/s]\n",
      "100%|██████████| 1000/1000 [00:25<00:00, 38.48it/s]\n"
     ]
    },
    {
     "name": "stdout",
     "output_type": "stream",
     "text": [
      "    Running evaluation for graph modification: Custom V2\n"
     ]
    },
    {
     "name": "stderr",
     "output_type": "stream",
     "text": [
      "100%|██████████| 10000/10000 [00:41<00:00, 242.38it/s]\n",
      "100%|██████████| 1000/1000 [00:26<00:00, 37.47it/s]\n"
     ]
    },
    {
     "name": "stdout",
     "output_type": "stream",
     "text": [
      "Running evaluation for seed function: Polarized Centrality Mixed\n",
      "    Running evaluation for graph modification: Original Graph\n"
     ]
    },
    {
     "name": "stderr",
     "output_type": "stream",
     "text": [
      "100%|██████████| 1000/1000 [00:27<00:00, 37.03it/s]\n"
     ]
    },
    {
     "name": "stdout",
     "output_type": "stream",
     "text": [
      "    Running evaluation for graph modification: Random\n"
     ]
    },
    {
     "name": "stderr",
     "output_type": "stream",
     "text": [
      "100%|██████████| 1000/1000 [00:29<00:00, 33.76it/s]\n"
     ]
    },
    {
     "name": "stdout",
     "output_type": "stream",
     "text": [
      "    Running evaluation for graph modification: Degree\n"
     ]
    },
    {
     "name": "stderr",
     "output_type": "stream",
     "text": [
      "100%|██████████| 1000/1000 [00:54<00:00, 18.47it/s]\n"
     ]
    },
    {
     "name": "stdout",
     "output_type": "stream",
     "text": [
      "    Running evaluation for graph modification: PrefAtt\n"
     ]
    },
    {
     "name": "stderr",
     "output_type": "stream",
     "text": [
      "100%|██████████| 1000/1000 [01:13<00:00, 13.62it/s]\n"
     ]
    },
    {
     "name": "stdout",
     "output_type": "stream",
     "text": [
      "    Running evaluation for graph modification: Jaccard\n"
     ]
    },
    {
     "name": "stderr",
     "output_type": "stream",
     "text": [
      "100%|██████████| 1000/1000 [00:31<00:00, 31.32it/s]\n"
     ]
    },
    {
     "name": "stdout",
     "output_type": "stream",
     "text": [
      "    Running evaluation for graph modification: TopK\n"
     ]
    },
    {
     "name": "stderr",
     "output_type": "stream",
     "text": [
      "100%|██████████| 10000/10000 [02:54<00:00, 57.35it/s]\n",
      "100%|██████████| 1000/1000 [01:04<00:00, 15.52it/s]\n"
     ]
    },
    {
     "name": "stdout",
     "output_type": "stream",
     "text": [
      "    Running evaluation for graph modification: KKT\n"
     ]
    },
    {
     "name": "stderr",
     "output_type": "stream",
     "text": [
      "100%|██████████| 1000/1000 [01:01<00:00, 16.17it/s]\n"
     ]
    },
    {
     "name": "stdout",
     "output_type": "stream",
     "text": [
      "    Running evaluation for graph modification: Custom\n"
     ]
    },
    {
     "name": "stderr",
     "output_type": "stream",
     "text": [
      "100%|██████████| 10000/10000 [00:41<00:00, 241.66it/s]\n",
      "100%|██████████| 1000/1000 [00:31<00:00, 31.98it/s]\n"
     ]
    },
    {
     "name": "stdout",
     "output_type": "stream",
     "text": [
      "    Running evaluation for graph modification: Custom V2\n"
     ]
    },
    {
     "name": "stderr",
     "output_type": "stream",
     "text": [
      "100%|██████████| 10000/10000 [00:41<00:00, 243.33it/s]\n",
      "100%|██████████| 1000/1000 [00:31<00:00, 31.49it/s]"
     ]
    },
    {
     "name": "stdout",
     "output_type": "stream",
     "text": [
      "Combined Results for All Seed Functions\n"
     ]
    },
    {
     "name": "stderr",
     "output_type": "stream",
     "text": [
      "\n"
     ]
    },
    {
     "data": {
      "text/html": [
       "<div>\n",
       "<style scoped>\n",
       "    .dataframe tbody tr th:only-of-type {\n",
       "        vertical-align: middle;\n",
       "    }\n",
       "\n",
       "    .dataframe tbody tr th {\n",
       "        vertical-align: top;\n",
       "    }\n",
       "\n",
       "    .dataframe thead th {\n",
       "        text-align: right;\n",
       "    }\n",
       "</style>\n",
       "<table border=\"1\" class=\"dataframe\">\n",
       "  <thead>\n",
       "    <tr style=\"text-align: right;\">\n",
       "      <th>Metric</th>\n",
       "      <th>Seed Function</th>\n",
       "      <th>Graph Modification</th>\n",
       "      <th>Avg Activated Nodes</th>\n",
       "      <th>Activated Nodes Std Dev</th>\n",
       "      <th>Avg Activated Nodes, Color (0)</th>\n",
       "      <th>Activated Nodes Std Dev, Color (0)</th>\n",
       "      <th>Avg Activated Nodes, Color (1)</th>\n",
       "      <th>Activated Nodes Std Dev, Color (1)</th>\n",
       "      <th>Avg Color Activation Count</th>\n",
       "      <th>Color Activation Count Std Dev</th>\n",
       "      <th>Number of Nodes</th>\n",
       "      <th>Number of Edges</th>\n",
       "    </tr>\n",
       "  </thead>\n",
       "  <tbody>\n",
       "    <tr>\n",
       "      <th>0</th>\n",
       "      <td>Centrality</td>\n",
       "      <td>Original Graph</td>\n",
       "      <td>584.007</td>\n",
       "      <td>166.201</td>\n",
       "      <td>231.833</td>\n",
       "      <td>67.640</td>\n",
       "      <td>352.174</td>\n",
       "      <td>99.816</td>\n",
       "      <td>282.678</td>\n",
       "      <td>131.642</td>\n",
       "      <td>10000.0</td>\n",
       "      <td>99990.0</td>\n",
       "    </tr>\n",
       "    <tr>\n",
       "      <th>1</th>\n",
       "      <td>Centrality</td>\n",
       "      <td>PrefAtt</td>\n",
       "      <td>9119.000</td>\n",
       "      <td>0.000</td>\n",
       "      <td>6325.000</td>\n",
       "      <td>0.000</td>\n",
       "      <td>2794.000</td>\n",
       "      <td>0.000</td>\n",
       "      <td>3692.683</td>\n",
       "      <td>436.610</td>\n",
       "      <td>10000.0</td>\n",
       "      <td>100740.0</td>\n",
       "    </tr>\n",
       "    <tr>\n",
       "      <th>2</th>\n",
       "      <td>Centrality</td>\n",
       "      <td>Jaccard</td>\n",
       "      <td>9119.000</td>\n",
       "      <td>0.000</td>\n",
       "      <td>6325.000</td>\n",
       "      <td>0.000</td>\n",
       "      <td>2794.000</td>\n",
       "      <td>0.000</td>\n",
       "      <td>3353.608</td>\n",
       "      <td>339.864</td>\n",
       "      <td>10000.0</td>\n",
       "      <td>100740.0</td>\n",
       "    </tr>\n",
       "    <tr>\n",
       "      <th>3</th>\n",
       "      <td>Centrality</td>\n",
       "      <td>Degree</td>\n",
       "      <td>9119.000</td>\n",
       "      <td>0.000</td>\n",
       "      <td>6325.000</td>\n",
       "      <td>0.000</td>\n",
       "      <td>2794.000</td>\n",
       "      <td>0.000</td>\n",
       "      <td>8552.962</td>\n",
       "      <td>1807.966</td>\n",
       "      <td>10000.0</td>\n",
       "      <td>100740.0</td>\n",
       "    </tr>\n",
       "    <tr>\n",
       "      <th>4</th>\n",
       "      <td>Centrality</td>\n",
       "      <td>TopK</td>\n",
       "      <td>9119.000</td>\n",
       "      <td>0.000</td>\n",
       "      <td>6325.000</td>\n",
       "      <td>0.000</td>\n",
       "      <td>2794.000</td>\n",
       "      <td>0.000</td>\n",
       "      <td>9465.092</td>\n",
       "      <td>2282.771</td>\n",
       "      <td>10000.0</td>\n",
       "      <td>100740.0</td>\n",
       "    </tr>\n",
       "    <tr>\n",
       "      <th>...</th>\n",
       "      <td>...</td>\n",
       "      <td>...</td>\n",
       "      <td>...</td>\n",
       "      <td>...</td>\n",
       "      <td>...</td>\n",
       "      <td>...</td>\n",
       "      <td>...</td>\n",
       "      <td>...</td>\n",
       "      <td>...</td>\n",
       "      <td>...</td>\n",
       "      <td>...</td>\n",
       "      <td>...</td>\n",
       "    </tr>\n",
       "    <tr>\n",
       "      <th>76</th>\n",
       "      <td>Random</td>\n",
       "      <td>TopK</td>\n",
       "      <td>9140.000</td>\n",
       "      <td>0.000</td>\n",
       "      <td>6341.000</td>\n",
       "      <td>0.000</td>\n",
       "      <td>2799.000</td>\n",
       "      <td>0.000</td>\n",
       "      <td>4303.281</td>\n",
       "      <td>376.067</td>\n",
       "      <td>10000.0</td>\n",
       "      <td>100740.0</td>\n",
       "    </tr>\n",
       "    <tr>\n",
       "      <th>77</th>\n",
       "      <td>Random</td>\n",
       "      <td>KKT</td>\n",
       "      <td>1906.328</td>\n",
       "      <td>291.110</td>\n",
       "      <td>860.026</td>\n",
       "      <td>147.898</td>\n",
       "      <td>1046.302</td>\n",
       "      <td>146.427</td>\n",
       "      <td>1837.716</td>\n",
       "      <td>413.667</td>\n",
       "      <td>10000.0</td>\n",
       "      <td>100740.0</td>\n",
       "    </tr>\n",
       "    <tr>\n",
       "      <th>78</th>\n",
       "      <td>Random</td>\n",
       "      <td>Random</td>\n",
       "      <td>1154.898</td>\n",
       "      <td>172.902</td>\n",
       "      <td>579.672</td>\n",
       "      <td>77.619</td>\n",
       "      <td>575.226</td>\n",
       "      <td>97.682</td>\n",
       "      <td>844.985</td>\n",
       "      <td>140.919</td>\n",
       "      <td>10000.0</td>\n",
       "      <td>100740.0</td>\n",
       "    </tr>\n",
       "    <tr>\n",
       "      <th>79</th>\n",
       "      <td>Random</td>\n",
       "      <td>Custom</td>\n",
       "      <td>1302.479</td>\n",
       "      <td>180.820</td>\n",
       "      <td>584.876</td>\n",
       "      <td>83.258</td>\n",
       "      <td>717.603</td>\n",
       "      <td>100.390</td>\n",
       "      <td>1098.715</td>\n",
       "      <td>153.414</td>\n",
       "      <td>10000.0</td>\n",
       "      <td>100740.0</td>\n",
       "    </tr>\n",
       "    <tr>\n",
       "      <th>80</th>\n",
       "      <td>Random</td>\n",
       "      <td>Custom V2</td>\n",
       "      <td>1248.679</td>\n",
       "      <td>176.924</td>\n",
       "      <td>600.544</td>\n",
       "      <td>79.129</td>\n",
       "      <td>648.135</td>\n",
       "      <td>100.481</td>\n",
       "      <td>1065.110</td>\n",
       "      <td>147.654</td>\n",
       "      <td>10000.0</td>\n",
       "      <td>100740.0</td>\n",
       "    </tr>\n",
       "  </tbody>\n",
       "</table>\n",
       "<p>81 rows × 12 columns</p>\n",
       "</div>"
      ],
      "text/plain": [
       "Metric Seed Function Graph Modification  Avg Activated Nodes  \\\n",
       "0         Centrality     Original Graph              584.007   \n",
       "1         Centrality            PrefAtt             9119.000   \n",
       "2         Centrality            Jaccard             9119.000   \n",
       "3         Centrality             Degree             9119.000   \n",
       "4         Centrality               TopK             9119.000   \n",
       "..               ...                ...                  ...   \n",
       "76            Random               TopK             9140.000   \n",
       "77            Random                KKT             1906.328   \n",
       "78            Random             Random             1154.898   \n",
       "79            Random             Custom             1302.479   \n",
       "80            Random          Custom V2             1248.679   \n",
       "\n",
       "Metric  Activated Nodes Std Dev  Avg Activated Nodes, Color (0)  \\\n",
       "0                       166.201                         231.833   \n",
       "1                         0.000                        6325.000   \n",
       "2                         0.000                        6325.000   \n",
       "3                         0.000                        6325.000   \n",
       "4                         0.000                        6325.000   \n",
       "..                          ...                             ...   \n",
       "76                        0.000                        6341.000   \n",
       "77                      291.110                         860.026   \n",
       "78                      172.902                         579.672   \n",
       "79                      180.820                         584.876   \n",
       "80                      176.924                         600.544   \n",
       "\n",
       "Metric  Activated Nodes Std Dev, Color (0)  Avg Activated Nodes, Color (1)  \\\n",
       "0                                   67.640                         352.174   \n",
       "1                                    0.000                        2794.000   \n",
       "2                                    0.000                        2794.000   \n",
       "3                                    0.000                        2794.000   \n",
       "4                                    0.000                        2794.000   \n",
       "..                                     ...                             ...   \n",
       "76                                   0.000                        2799.000   \n",
       "77                                 147.898                        1046.302   \n",
       "78                                  77.619                         575.226   \n",
       "79                                  83.258                         717.603   \n",
       "80                                  79.129                         648.135   \n",
       "\n",
       "Metric  Activated Nodes Std Dev, Color (1)  Avg Color Activation Count  \\\n",
       "0                                   99.816                     282.678   \n",
       "1                                    0.000                    3692.683   \n",
       "2                                    0.000                    3353.608   \n",
       "3                                    0.000                    8552.962   \n",
       "4                                    0.000                    9465.092   \n",
       "..                                     ...                         ...   \n",
       "76                                   0.000                    4303.281   \n",
       "77                                 146.427                    1837.716   \n",
       "78                                  97.682                     844.985   \n",
       "79                                 100.390                    1098.715   \n",
       "80                                 100.481                    1065.110   \n",
       "\n",
       "Metric  Color Activation Count Std Dev  Number of Nodes  Number of Edges  \n",
       "0                              131.642          10000.0          99990.0  \n",
       "1                              436.610          10000.0         100740.0  \n",
       "2                              339.864          10000.0         100740.0  \n",
       "3                             1807.966          10000.0         100740.0  \n",
       "4                             2282.771          10000.0         100740.0  \n",
       "..                                 ...              ...              ...  \n",
       "76                             376.067          10000.0         100740.0  \n",
       "77                             413.667          10000.0         100740.0  \n",
       "78                             140.919          10000.0         100740.0  \n",
       "79                             153.414          10000.0         100740.0  \n",
       "80                             147.654          10000.0         100740.0  \n",
       "\n",
       "[81 rows x 12 columns]"
      ]
     },
     "execution_count": 9,
     "metadata": {},
     "output_type": "execute_result"
    }
   ],
   "source": [
    "# Define your seed functions\n",
    "seed_functions = {\n",
    "    \"Random\": seed_random,\n",
    "    \"MIA\": lambda G, seed_size: seed_influence_maximization(G, seed_size, 200, 8, 1),\n",
    "    \"Degree\": seed_degree,\n",
    "    \"Centrality\": seed_centrality,\n",
    "    \"Centrality Mixed\": seed_centrality_mixed,\n",
    "    \"Polarized\": lambda G, seed_size: seed_polarized(G, seed_size, 0),\n",
    "    \"Polarized Degree\": lambda G, seed_size: seed_polarized_degree(G, seed_size, 0),\n",
    "    \"Polarized Centrality\": lambda G, seed_size: seed_polarized_centrality(G, seed_size, 0),\n",
    "    \"Polarized Centrality Mixed\": lambda G, seed_size: seed_polarized_centrality_mixed(G, seed_size, 0),\n",
    "}\n",
    "\n",
    "# Example of how to call the function\n",
    "all_results_df = evaluate_all_seeds(G, seed_functions, seed_size, k, max_iter, budget, \"netin_01_2\")\n",
    "\n",
    "# Display the combined results\n",
    "print(\"Combined Results for All Seed Functions\")\n",
    "all_results_df"
   ]
  },
  {
   "cell_type": "code",
   "execution_count": 10,
   "metadata": {},
   "outputs": [],
   "source": [
    "#all_results_df.to_csv(f\"test.csv\", index=False)\n",
    "all_results_df.to_csv(f\"results/results_netin_{N}_nodes_{h}_hvalue_{d}_density_{plo}_plo_2.csv\", index=False)"
   ]
  },
  {
   "cell_type": "code",
   "execution_count": null,
   "metadata": {},
   "outputs": [],
   "source": []
  },
  {
   "cell_type": "code",
   "execution_count": null,
   "metadata": {},
   "outputs": [],
   "source": []
  }
 ],
 "metadata": {
  "kernelspec": {
   "display_name": "base",
   "language": "python",
   "name": "python3"
  },
  "language_info": {
   "codemirror_mode": {
    "name": "ipython",
    "version": 3
   },
   "file_extension": ".py",
   "mimetype": "text/x-python",
   "name": "python",
   "nbconvert_exporter": "python",
   "pygments_lexer": "ipython3",
   "version": "3.9.15"
  }
 },
 "nbformat": 4,
 "nbformat_minor": 2
}
