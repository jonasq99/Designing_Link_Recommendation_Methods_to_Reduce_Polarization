{
 "cells": [
  {
   "cell_type": "code",
   "execution_count": 1,
   "metadata": {},
   "outputs": [],
   "source": [
    "from netin.models import DPAHModel"
   ]
  },
  {
   "cell_type": "code",
   "execution_count": 2,
   "metadata": {},
   "outputs": [],
   "source": [
    "from multiprocessing import Pool, cpu_count\n",
    "from typing import Dict, List, Set\n",
    "\n",
    "\n",
    "from src.seed import (seed_degree, \n",
    "    seed_polarized, \n",
    "    seed_random, \n",
    "    seed_polarized_centrality_mixed, \n",
    "    seed_polarized_centrality, \n",
    "    seed_polarized_degree, \n",
    "    seed_centrality_mixed, \n",
    "    seed_centrality, \n",
    "    seed_influence_maximization\n",
    ")\n",
    "\n",
    "\n",
    "from evaluation import evaluate_all_seeds"
   ]
  },
  {
   "cell_type": "markdown",
   "metadata": {},
   "source": [
    "This model connects a new node to the existing nodes biased by their group assignment. Homophily values of $h > 0.5$ indicate homophily, meaning that nodes prefer to connect to their own group. Heterophily is specified by $h < 0.5$. Nodes tend to connect to the other group.\n",
    "\n",
    "Instead of the number of links per each new node, the directed graph models parameterize the density of the final network by the parameter $d$. Additionally, we need to define activity levels for outgoing links for both the minority and majority group as $plo_m/M$"
   ]
  },
  {
   "cell_type": "code",
   "execution_count": 3,
   "metadata": {},
   "outputs": [],
   "source": [
    "N = 2_000 # Number of total nodes\n",
    "f_m = 0.3 # Fraction of minority nodes\n",
    "h = 0.9 # Homophilic\n",
    "d = 0.003 # desity of the graph\n",
    "plo = 1.9\n",
    "#final number of edges will be: e = d * n (n-1)"
   ]
  },
  {
   "cell_type": "code",
   "execution_count": 4,
   "metadata": {},
   "outputs": [],
   "source": [
    "# DPAH graphs:\n",
    "# Homophilic h > 0.5\n",
    "# Neutral h = 0.5\n",
    "# Heterophilic h < 0.5\n",
    "\n",
    "homophily_values = [0.1, 0.5, 0.9]"
   ]
  },
  {
   "cell_type": "code",
   "execution_count": 5,
   "metadata": {},
   "outputs": [],
   "source": [
    "dpa_model = DPAHModel(N=N, f_m=f_m, d=d, plo_M=plo, plo_m=plo, h_M=h, h_m=h, seed=12345)\n",
    "dpa_graph = dpa_model.simulate()"
   ]
  },
  {
   "cell_type": "code",
   "execution_count": 6,
   "metadata": {},
   "outputs": [],
   "source": [
    "G = dpa_graph.to_nxgraph() # This creates a copy of the graph\n",
    "\n",
    "for node, attr in G.nodes(data=True):\n",
    "    attr['color'] = attr.pop('minority')\n",
    "\n",
    "for node in G.nodes():\n",
    "        in_degree = G.in_degree(node)\n",
    "        for neighbor in G.successors(node):\n",
    "            G[node][neighbor][\"weight\"] = 1 / (2 * in_degree) if in_degree > 0 else 1"
   ]
  },
  {
   "cell_type": "code",
   "execution_count": 7,
   "metadata": {},
   "outputs": [
    {
     "name": "stdout",
     "output_type": "stream",
     "text": [
      "Seed size: 100\n"
     ]
    }
   ],
   "source": [
    "seed_size = G.number_of_nodes() // 20\n",
    "print(f\"Seed size: {seed_size}\")\n",
    "k = seed_size\n",
    "max_iter = 1000\n",
    "budget = 3 * seed_size"
   ]
  },
  {
   "cell_type": "code",
   "execution_count": 8,
   "metadata": {},
   "outputs": [
    {
     "name": "stdout",
     "output_type": "stream",
     "text": [
      "Running evaluation for seed function: Random\n",
      "    Running evaluation for graph modification: Original Graph\n"
     ]
    },
    {
     "name": "stderr",
     "output_type": "stream",
     "text": [
      "100%|██████████| 1000/1000 [00:00<00:00, 466033.78it/s]\n"
     ]
    },
    {
     "name": "stdout",
     "output_type": "stream",
     "text": [
      "    Running evaluation for graph modification: Random\n"
     ]
    },
    {
     "name": "stderr",
     "output_type": "stream",
     "text": [
      "100%|██████████| 1000/1000 [00:00<00:00, 2165.07it/s]\n"
     ]
    },
    {
     "name": "stdout",
     "output_type": "stream",
     "text": [
      "    Running evaluation for graph modification: Degree\n"
     ]
    },
    {
     "name": "stderr",
     "output_type": "stream",
     "text": [
      "100%|██████████| 1000/1000 [00:07<00:00, 140.00it/s]\n"
     ]
    },
    {
     "name": "stdout",
     "output_type": "stream",
     "text": [
      "    Running evaluation for graph modification: PrefAtt\n"
     ]
    },
    {
     "name": "stderr",
     "output_type": "stream",
     "text": [
      "100%|██████████| 1000/1000 [00:05<00:00, 190.23it/s]"
     ]
    },
    {
     "name": "stdout",
     "output_type": "stream",
     "text": [
      "    Running evaluation for graph modification: Jaccard\n"
     ]
    },
    {
     "name": "stderr",
     "output_type": "stream",
     "text": [
      "\n",
      "100%|██████████| 1000/1000 [00:01<00:00, 589.83it/s]\n"
     ]
    },
    {
     "name": "stdout",
     "output_type": "stream",
     "text": [
      "    Running evaluation for graph modification: TopK\n"
     ]
    },
    {
     "name": "stderr",
     "output_type": "stream",
     "text": [
      "100%|██████████| 2000/2000 [00:00<00:00, 3581.38it/s]\n",
      "100%|██████████| 1000/1000 [00:08<00:00, 123.76it/s]\n"
     ]
    },
    {
     "name": "stdout",
     "output_type": "stream",
     "text": [
      "    Running evaluation for graph modification: KKT\n"
     ]
    },
    {
     "name": "stderr",
     "output_type": "stream",
     "text": [
      "100%|██████████| 1000/1000 [00:07<00:00, 138.53it/s]"
     ]
    },
    {
     "name": "stdout",
     "output_type": "stream",
     "text": [
      "    Running evaluation for graph modification: Custom\n"
     ]
    },
    {
     "name": "stderr",
     "output_type": "stream",
     "text": [
      "\n",
      "100%|██████████| 2000/2000 [00:01<00:00, 1456.33it/s]\n",
      "100%|██████████| 1000/1000 [00:02<00:00, 353.63it/s]"
     ]
    },
    {
     "name": "stdout",
     "output_type": "stream",
     "text": [
      "    Running evaluation for graph modification: Custom V2\n"
     ]
    },
    {
     "name": "stderr",
     "output_type": "stream",
     "text": [
      "\n",
      "100%|██████████| 2000/2000 [00:01<00:00, 1446.43it/s]\n",
      "100%|██████████| 1000/1000 [00:01<00:00, 559.92it/s]\n"
     ]
    },
    {
     "name": "stdout",
     "output_type": "stream",
     "text": [
      "Running evaluation for seed function: MIA\n"
     ]
    },
    {
     "name": "stderr",
     "output_type": "stream",
     "text": [
      "Initial influence calculation: 100%|██████████| 2000/2000 [00:02<00:00, 727.93node/s]\n",
      "Selecting seeds: 100%|██████████| 100/100 [00:14<00:00,  6.78seed/s]\n"
     ]
    },
    {
     "name": "stdout",
     "output_type": "stream",
     "text": [
      "    Running evaluation for graph modification: Original Graph\n"
     ]
    },
    {
     "name": "stderr",
     "output_type": "stream",
     "text": [
      "100%|██████████| 1000/1000 [00:03<00:00, 327.78it/s]\n"
     ]
    },
    {
     "name": "stdout",
     "output_type": "stream",
     "text": [
      "    Running evaluation for graph modification: Random\n"
     ]
    },
    {
     "name": "stderr",
     "output_type": "stream",
     "text": [
      "100%|██████████| 1000/1000 [00:02<00:00, 392.55it/s]\n"
     ]
    },
    {
     "name": "stdout",
     "output_type": "stream",
     "text": [
      "    Running evaluation for graph modification: Degree\n"
     ]
    },
    {
     "name": "stderr",
     "output_type": "stream",
     "text": [
      "100%|██████████| 1000/1000 [00:03<00:00, 280.81it/s]\n"
     ]
    },
    {
     "name": "stdout",
     "output_type": "stream",
     "text": [
      "    Running evaluation for graph modification: PrefAtt\n"
     ]
    },
    {
     "name": "stderr",
     "output_type": "stream",
     "text": [
      "100%|██████████| 1000/1000 [00:03<00:00, 308.04it/s]\n"
     ]
    },
    {
     "name": "stdout",
     "output_type": "stream",
     "text": [
      "    Running evaluation for graph modification: Jaccard\n"
     ]
    },
    {
     "name": "stderr",
     "output_type": "stream",
     "text": [
      "100%|██████████| 1000/1000 [00:03<00:00, 254.57it/s]\n"
     ]
    },
    {
     "name": "stdout",
     "output_type": "stream",
     "text": [
      "    Running evaluation for graph modification: TopK\n"
     ]
    },
    {
     "name": "stderr",
     "output_type": "stream",
     "text": [
      "100%|██████████| 2000/2000 [00:00<00:00, 10689.35it/s]\n",
      "100%|██████████| 1000/1000 [00:03<00:00, 277.44it/s]\n"
     ]
    },
    {
     "name": "stdout",
     "output_type": "stream",
     "text": [
      "    Running evaluation for graph modification: KKT\n"
     ]
    },
    {
     "name": "stderr",
     "output_type": "stream",
     "text": [
      "100%|██████████| 1000/1000 [00:03<00:00, 332.13it/s]"
     ]
    },
    {
     "name": "stdout",
     "output_type": "stream",
     "text": [
      "    Running evaluation for graph modification: Custom\n"
     ]
    },
    {
     "name": "stderr",
     "output_type": "stream",
     "text": [
      "\n",
      "100%|██████████| 2000/2000 [00:01<00:00, 1244.98it/s]\n",
      "100%|██████████| 1000/1000 [00:03<00:00, 266.42it/s]"
     ]
    },
    {
     "name": "stdout",
     "output_type": "stream",
     "text": [
      "    Running evaluation for graph modification: Custom V2\n"
     ]
    },
    {
     "name": "stderr",
     "output_type": "stream",
     "text": [
      "\n",
      "100%|██████████| 2000/2000 [00:01<00:00, 1235.03it/s]\n",
      "100%|██████████| 1000/1000 [00:03<00:00, 325.80it/s]\n"
     ]
    },
    {
     "name": "stdout",
     "output_type": "stream",
     "text": [
      "Running evaluation for seed function: Degree\n",
      "    Running evaluation for graph modification: Original Graph\n"
     ]
    },
    {
     "name": "stderr",
     "output_type": "stream",
     "text": [
      "100%|██████████| 1000/1000 [00:01<00:00, 566.32it/s]\n"
     ]
    },
    {
     "name": "stdout",
     "output_type": "stream",
     "text": [
      "    Running evaluation for graph modification: Random\n"
     ]
    },
    {
     "name": "stderr",
     "output_type": "stream",
     "text": [
      "100%|██████████| 1000/1000 [00:04<00:00, 245.84it/s]\n"
     ]
    },
    {
     "name": "stdout",
     "output_type": "stream",
     "text": [
      "    Running evaluation for graph modification: Degree\n"
     ]
    },
    {
     "name": "stderr",
     "output_type": "stream",
     "text": [
      "100%|██████████| 1000/1000 [00:02<00:00, 432.66it/s]\n"
     ]
    },
    {
     "name": "stdout",
     "output_type": "stream",
     "text": [
      "    Running evaluation for graph modification: PrefAtt\n"
     ]
    },
    {
     "name": "stderr",
     "output_type": "stream",
     "text": [
      "100%|██████████| 1000/1000 [00:03<00:00, 280.60it/s]\n"
     ]
    },
    {
     "name": "stdout",
     "output_type": "stream",
     "text": [
      "    Running evaluation for graph modification: Jaccard\n"
     ]
    },
    {
     "name": "stderr",
     "output_type": "stream",
     "text": [
      "100%|██████████| 1000/1000 [00:03<00:00, 276.31it/s]\n"
     ]
    },
    {
     "name": "stdout",
     "output_type": "stream",
     "text": [
      "    Running evaluation for graph modification: TopK\n"
     ]
    },
    {
     "name": "stderr",
     "output_type": "stream",
     "text": [
      "100%|██████████| 2000/2000 [00:00<00:00, 10285.15it/s]\n",
      "100%|██████████| 1000/1000 [00:03<00:00, 272.87it/s]\n"
     ]
    },
    {
     "name": "stdout",
     "output_type": "stream",
     "text": [
      "    Running evaluation for graph modification: KKT\n"
     ]
    },
    {
     "name": "stderr",
     "output_type": "stream",
     "text": [
      "100%|██████████| 1000/1000 [00:03<00:00, 287.92it/s]"
     ]
    },
    {
     "name": "stdout",
     "output_type": "stream",
     "text": [
      "    Running evaluation for graph modification: Custom\n"
     ]
    },
    {
     "name": "stderr",
     "output_type": "stream",
     "text": [
      "\n",
      "100%|██████████| 2000/2000 [00:01<00:00, 1423.13it/s]\n",
      "100%|██████████| 1000/1000 [00:03<00:00, 263.17it/s]"
     ]
    },
    {
     "name": "stdout",
     "output_type": "stream",
     "text": [
      "    Running evaluation for graph modification: Custom V2\n"
     ]
    },
    {
     "name": "stderr",
     "output_type": "stream",
     "text": [
      "\n",
      "100%|██████████| 2000/2000 [00:01<00:00, 1504.30it/s]\n",
      "100%|██████████| 1000/1000 [00:03<00:00, 257.18it/s]\n"
     ]
    },
    {
     "name": "stdout",
     "output_type": "stream",
     "text": [
      "Running evaluation for seed function: Centrality\n",
      "    Running evaluation for graph modification: Original Graph\n"
     ]
    },
    {
     "name": "stderr",
     "output_type": "stream",
     "text": [
      "100%|██████████| 1000/1000 [00:00<00:00, 3844.88it/s]\n"
     ]
    },
    {
     "name": "stdout",
     "output_type": "stream",
     "text": [
      "    Running evaluation for graph modification: Random\n"
     ]
    },
    {
     "name": "stderr",
     "output_type": "stream",
     "text": [
      "100%|██████████| 1000/1000 [00:00<00:00, 1766.19it/s]\n"
     ]
    },
    {
     "name": "stdout",
     "output_type": "stream",
     "text": [
      "    Running evaluation for graph modification: Degree\n"
     ]
    },
    {
     "name": "stderr",
     "output_type": "stream",
     "text": [
      "100%|██████████| 1000/1000 [00:08<00:00, 124.62it/s]\n"
     ]
    },
    {
     "name": "stdout",
     "output_type": "stream",
     "text": [
      "    Running evaluation for graph modification: PrefAtt\n"
     ]
    },
    {
     "name": "stderr",
     "output_type": "stream",
     "text": [
      "100%|██████████| 1000/1000 [00:07<00:00, 141.87it/s]\n"
     ]
    },
    {
     "name": "stdout",
     "output_type": "stream",
     "text": [
      "    Running evaluation for graph modification: Jaccard\n"
     ]
    },
    {
     "name": "stderr",
     "output_type": "stream",
     "text": [
      "100%|██████████| 1000/1000 [00:06<00:00, 148.12it/s]\n"
     ]
    },
    {
     "name": "stdout",
     "output_type": "stream",
     "text": [
      "    Running evaluation for graph modification: TopK\n"
     ]
    },
    {
     "name": "stderr",
     "output_type": "stream",
     "text": [
      "100%|██████████| 2000/2000 [00:00<00:00, 8885.27it/s]\n",
      "100%|██████████| 1000/1000 [00:06<00:00, 149.26it/s]\n"
     ]
    },
    {
     "name": "stdout",
     "output_type": "stream",
     "text": [
      "    Running evaluation for graph modification: KKT\n"
     ]
    },
    {
     "name": "stderr",
     "output_type": "stream",
     "text": [
      "100%|██████████| 1000/1000 [00:07<00:00, 131.76it/s]"
     ]
    },
    {
     "name": "stdout",
     "output_type": "stream",
     "text": [
      "    Running evaluation for graph modification: Custom\n"
     ]
    },
    {
     "name": "stderr",
     "output_type": "stream",
     "text": [
      "\n",
      "100%|██████████| 2000/2000 [00:01<00:00, 1630.21it/s]\n",
      "100%|██████████| 1000/1000 [00:01<00:00, 552.66it/s]"
     ]
    },
    {
     "name": "stdout",
     "output_type": "stream",
     "text": [
      "    Running evaluation for graph modification: Custom V2\n"
     ]
    },
    {
     "name": "stderr",
     "output_type": "stream",
     "text": [
      "\n",
      "100%|██████████| 2000/2000 [00:01<00:00, 1691.35it/s]\n",
      "100%|██████████| 1000/1000 [00:01<00:00, 694.79it/s]\n"
     ]
    },
    {
     "name": "stdout",
     "output_type": "stream",
     "text": [
      "Running evaluation for seed function: Centrality Mixed\n",
      "    Running evaluation for graph modification: Original Graph\n"
     ]
    },
    {
     "name": "stderr",
     "output_type": "stream",
     "text": [
      "100%|██████████| 1000/1000 [00:00<00:00, 419976.37it/s]\n"
     ]
    },
    {
     "name": "stdout",
     "output_type": "stream",
     "text": [
      "    Running evaluation for graph modification: Random\n"
     ]
    },
    {
     "name": "stderr",
     "output_type": "stream",
     "text": [
      "100%|██████████| 1000/1000 [00:00<00:00, 438597.09it/s]\n"
     ]
    },
    {
     "name": "stdout",
     "output_type": "stream",
     "text": [
      "    Running evaluation for graph modification: Degree\n"
     ]
    },
    {
     "name": "stderr",
     "output_type": "stream",
     "text": [
      "100%|██████████| 1000/1000 [00:05<00:00, 173.53it/s]\n"
     ]
    },
    {
     "name": "stdout",
     "output_type": "stream",
     "text": [
      "    Running evaluation for graph modification: PrefAtt\n"
     ]
    },
    {
     "name": "stderr",
     "output_type": "stream",
     "text": [
      "100%|██████████| 1000/1000 [00:05<00:00, 198.23it/s]\n"
     ]
    },
    {
     "name": "stdout",
     "output_type": "stream",
     "text": [
      "    Running evaluation for graph modification: Jaccard\n"
     ]
    },
    {
     "name": "stderr",
     "output_type": "stream",
     "text": [
      "100%|██████████| 1000/1000 [00:06<00:00, 145.64it/s]\n"
     ]
    },
    {
     "name": "stdout",
     "output_type": "stream",
     "text": [
      "    Running evaluation for graph modification: TopK\n"
     ]
    },
    {
     "name": "stderr",
     "output_type": "stream",
     "text": [
      "100%|██████████| 2000/2000 [00:00<00:00, 10984.53it/s]\n",
      "100%|██████████| 1000/1000 [00:07<00:00, 135.91it/s]\n"
     ]
    },
    {
     "name": "stdout",
     "output_type": "stream",
     "text": [
      "    Running evaluation for graph modification: KKT\n"
     ]
    },
    {
     "name": "stderr",
     "output_type": "stream",
     "text": [
      "100%|██████████| 1000/1000 [00:05<00:00, 177.67it/s]"
     ]
    },
    {
     "name": "stdout",
     "output_type": "stream",
     "text": [
      "    Running evaluation for graph modification: Custom\n"
     ]
    },
    {
     "name": "stderr",
     "output_type": "stream",
     "text": [
      "\n",
      "100%|██████████| 2000/2000 [00:01<00:00, 1664.49it/s]\n",
      "100%|██████████| 1000/1000 [00:01<00:00, 653.10it/s]"
     ]
    },
    {
     "name": "stdout",
     "output_type": "stream",
     "text": [
      "    Running evaluation for graph modification: Custom V2\n"
     ]
    },
    {
     "name": "stderr",
     "output_type": "stream",
     "text": [
      "\n",
      "100%|██████████| 2000/2000 [00:01<00:00, 1671.63it/s]\n",
      "100%|██████████| 1000/1000 [00:00<00:00, 2342.10it/s]\n"
     ]
    },
    {
     "name": "stdout",
     "output_type": "stream",
     "text": [
      "Running evaluation for seed function: Polarized\n",
      "    Running evaluation for graph modification: Original Graph\n"
     ]
    },
    {
     "name": "stderr",
     "output_type": "stream",
     "text": [
      "100%|██████████| 1000/1000 [00:00<00:00, 563674.77it/s]\n"
     ]
    },
    {
     "name": "stdout",
     "output_type": "stream",
     "text": [
      "    Running evaluation for graph modification: Random\n"
     ]
    },
    {
     "name": "stderr",
     "output_type": "stream",
     "text": [
      "100%|██████████| 1000/1000 [00:00<00:00, 489302.85it/s]\n"
     ]
    },
    {
     "name": "stdout",
     "output_type": "stream",
     "text": [
      "    Running evaluation for graph modification: Degree\n"
     ]
    },
    {
     "name": "stderr",
     "output_type": "stream",
     "text": [
      "100%|██████████| 1000/1000 [00:04<00:00, 216.87it/s]\n"
     ]
    },
    {
     "name": "stdout",
     "output_type": "stream",
     "text": [
      "    Running evaluation for graph modification: PrefAtt\n"
     ]
    },
    {
     "name": "stderr",
     "output_type": "stream",
     "text": [
      "100%|██████████| 1000/1000 [00:08<00:00, 122.84it/s]\n"
     ]
    },
    {
     "name": "stdout",
     "output_type": "stream",
     "text": [
      "    Running evaluation for graph modification: Jaccard\n"
     ]
    },
    {
     "name": "stderr",
     "output_type": "stream",
     "text": [
      "100%|██████████| 1000/1000 [00:01<00:00, 669.16it/s]\n"
     ]
    },
    {
     "name": "stdout",
     "output_type": "stream",
     "text": [
      "    Running evaluation for graph modification: TopK\n"
     ]
    },
    {
     "name": "stderr",
     "output_type": "stream",
     "text": [
      "100%|██████████| 2000/2000 [00:00<00:00, 10777.31it/s]\n",
      "100%|██████████| 1000/1000 [00:08<00:00, 123.35it/s]\n"
     ]
    },
    {
     "name": "stdout",
     "output_type": "stream",
     "text": [
      "    Running evaluation for graph modification: KKT\n"
     ]
    },
    {
     "name": "stderr",
     "output_type": "stream",
     "text": [
      "100%|██████████| 1000/1000 [00:06<00:00, 153.35it/s]"
     ]
    },
    {
     "name": "stdout",
     "output_type": "stream",
     "text": [
      "    Running evaluation for graph modification: Custom\n"
     ]
    },
    {
     "name": "stderr",
     "output_type": "stream",
     "text": [
      "\n",
      "100%|██████████| 2000/2000 [00:01<00:00, 1720.25it/s]\n",
      "100%|██████████| 1000/1000 [00:02<00:00, 394.35it/s]"
     ]
    },
    {
     "name": "stdout",
     "output_type": "stream",
     "text": [
      "    Running evaluation for graph modification: Custom V2\n"
     ]
    },
    {
     "name": "stderr",
     "output_type": "stream",
     "text": [
      "\n",
      "100%|██████████| 2000/2000 [00:01<00:00, 1718.83it/s]\n",
      "100%|██████████| 1000/1000 [00:02<00:00, 388.96it/s]\n"
     ]
    },
    {
     "name": "stdout",
     "output_type": "stream",
     "text": [
      "Running evaluation for seed function: Polarized Degree\n",
      "    Running evaluation for graph modification: Original Graph\n"
     ]
    },
    {
     "name": "stderr",
     "output_type": "stream",
     "text": [
      "100%|██████████| 1000/1000 [00:01<00:00, 749.96it/s]\n"
     ]
    },
    {
     "name": "stdout",
     "output_type": "stream",
     "text": [
      "    Running evaluation for graph modification: Random\n"
     ]
    },
    {
     "name": "stderr",
     "output_type": "stream",
     "text": [
      "100%|██████████| 1000/1000 [00:02<00:00, 485.89it/s]\n"
     ]
    },
    {
     "name": "stdout",
     "output_type": "stream",
     "text": [
      "    Running evaluation for graph modification: Degree\n"
     ]
    },
    {
     "name": "stderr",
     "output_type": "stream",
     "text": [
      "100%|██████████| 1000/1000 [00:01<00:00, 540.59it/s]\n"
     ]
    },
    {
     "name": "stdout",
     "output_type": "stream",
     "text": [
      "    Running evaluation for graph modification: PrefAtt\n"
     ]
    },
    {
     "name": "stderr",
     "output_type": "stream",
     "text": [
      "100%|██████████| 1000/1000 [00:01<00:00, 524.10it/s]\n"
     ]
    },
    {
     "name": "stdout",
     "output_type": "stream",
     "text": [
      "    Running evaluation for graph modification: Jaccard\n"
     ]
    },
    {
     "name": "stderr",
     "output_type": "stream",
     "text": [
      "100%|██████████| 1000/1000 [00:02<00:00, 336.75it/s]\n"
     ]
    },
    {
     "name": "stdout",
     "output_type": "stream",
     "text": [
      "    Running evaluation for graph modification: TopK\n"
     ]
    },
    {
     "name": "stderr",
     "output_type": "stream",
     "text": [
      "100%|██████████| 2000/2000 [00:00<00:00, 10125.92it/s]\n",
      "100%|██████████| 1000/1000 [00:02<00:00, 469.48it/s]\n"
     ]
    },
    {
     "name": "stdout",
     "output_type": "stream",
     "text": [
      "    Running evaluation for graph modification: KKT\n"
     ]
    },
    {
     "name": "stderr",
     "output_type": "stream",
     "text": [
      "100%|██████████| 1000/1000 [00:02<00:00, 432.20it/s]"
     ]
    },
    {
     "name": "stdout",
     "output_type": "stream",
     "text": [
      "    Running evaluation for graph modification: Custom\n"
     ]
    },
    {
     "name": "stderr",
     "output_type": "stream",
     "text": [
      "\n",
      "100%|██████████| 2000/2000 [00:01<00:00, 1719.29it/s]\n",
      "100%|██████████| 1000/1000 [00:02<00:00, 380.08it/s]"
     ]
    },
    {
     "name": "stdout",
     "output_type": "stream",
     "text": [
      "    Running evaluation for graph modification: Custom V2\n"
     ]
    },
    {
     "name": "stderr",
     "output_type": "stream",
     "text": [
      "\n",
      "100%|██████████| 2000/2000 [00:01<00:00, 1722.01it/s]\n",
      "100%|██████████| 1000/1000 [00:02<00:00, 422.28it/s]\n"
     ]
    },
    {
     "name": "stdout",
     "output_type": "stream",
     "text": [
      "Running evaluation for seed function: Polarized Centrality\n",
      "    Running evaluation for graph modification: Original Graph\n"
     ]
    },
    {
     "name": "stderr",
     "output_type": "stream",
     "text": [
      "100%|██████████| 1000/1000 [00:00<00:00, 3338.92it/s]\n"
     ]
    },
    {
     "name": "stdout",
     "output_type": "stream",
     "text": [
      "    Running evaluation for graph modification: Random\n"
     ]
    },
    {
     "name": "stderr",
     "output_type": "stream",
     "text": [
      "100%|██████████| 1000/1000 [00:00<00:00, 1165.04it/s]\n"
     ]
    },
    {
     "name": "stdout",
     "output_type": "stream",
     "text": [
      "    Running evaluation for graph modification: Degree\n"
     ]
    },
    {
     "name": "stderr",
     "output_type": "stream",
     "text": [
      "100%|██████████| 1000/1000 [00:05<00:00, 169.24it/s]\n"
     ]
    },
    {
     "name": "stdout",
     "output_type": "stream",
     "text": [
      "    Running evaluation for graph modification: PrefAtt\n"
     ]
    },
    {
     "name": "stderr",
     "output_type": "stream",
     "text": [
      "100%|██████████| 1000/1000 [00:05<00:00, 183.27it/s]\n"
     ]
    },
    {
     "name": "stdout",
     "output_type": "stream",
     "text": [
      "    Running evaluation for graph modification: Jaccard\n"
     ]
    },
    {
     "name": "stderr",
     "output_type": "stream",
     "text": [
      "100%|██████████| 1000/1000 [00:05<00:00, 166.85it/s]\n"
     ]
    },
    {
     "name": "stdout",
     "output_type": "stream",
     "text": [
      "    Running evaluation for graph modification: TopK\n"
     ]
    },
    {
     "name": "stderr",
     "output_type": "stream",
     "text": [
      "100%|██████████| 2000/2000 [00:00<00:00, 11066.74it/s]\n",
      "100%|██████████| 1000/1000 [00:08<00:00, 123.06it/s]\n"
     ]
    },
    {
     "name": "stdout",
     "output_type": "stream",
     "text": [
      "    Running evaluation for graph modification: KKT\n"
     ]
    },
    {
     "name": "stderr",
     "output_type": "stream",
     "text": [
      "100%|██████████| 1000/1000 [00:06<00:00, 151.25it/s]"
     ]
    },
    {
     "name": "stdout",
     "output_type": "stream",
     "text": [
      "    Running evaluation for graph modification: Custom\n"
     ]
    },
    {
     "name": "stderr",
     "output_type": "stream",
     "text": [
      "\n",
      "100%|██████████| 2000/2000 [00:01<00:00, 1717.00it/s]\n",
      "100%|██████████| 1000/1000 [00:00<00:00, 1681.47it/s]"
     ]
    },
    {
     "name": "stdout",
     "output_type": "stream",
     "text": [
      "    Running evaluation for graph modification: Custom V2\n"
     ]
    },
    {
     "name": "stderr",
     "output_type": "stream",
     "text": [
      "\n",
      "100%|██████████| 2000/2000 [00:01<00:00, 1719.57it/s]\n",
      "100%|██████████| 1000/1000 [00:01<00:00, 779.22it/s]\n"
     ]
    },
    {
     "name": "stdout",
     "output_type": "stream",
     "text": [
      "Running evaluation for seed function: Polarized Centrality Mixed\n",
      "    Running evaluation for graph modification: Original Graph\n"
     ]
    },
    {
     "name": "stderr",
     "output_type": "stream",
     "text": [
      "100%|██████████| 1000/1000 [00:00<00:00, 1597.83it/s]\n"
     ]
    },
    {
     "name": "stdout",
     "output_type": "stream",
     "text": [
      "    Running evaluation for graph modification: Random\n"
     ]
    },
    {
     "name": "stderr",
     "output_type": "stream",
     "text": [
      "100%|██████████| 1000/1000 [00:00<00:00, 1042.75it/s]\n"
     ]
    },
    {
     "name": "stdout",
     "output_type": "stream",
     "text": [
      "    Running evaluation for graph modification: Degree\n"
     ]
    },
    {
     "name": "stderr",
     "output_type": "stream",
     "text": [
      "100%|██████████| 1000/1000 [00:05<00:00, 189.39it/s]\n"
     ]
    },
    {
     "name": "stdout",
     "output_type": "stream",
     "text": [
      "    Running evaluation for graph modification: PrefAtt\n"
     ]
    },
    {
     "name": "stderr",
     "output_type": "stream",
     "text": [
      "100%|██████████| 1000/1000 [00:05<00:00, 193.85it/s]\n"
     ]
    },
    {
     "name": "stdout",
     "output_type": "stream",
     "text": [
      "    Running evaluation for graph modification: Jaccard\n"
     ]
    },
    {
     "name": "stderr",
     "output_type": "stream",
     "text": [
      "100%|██████████| 1000/1000 [00:05<00:00, 172.57it/s]\n"
     ]
    },
    {
     "name": "stdout",
     "output_type": "stream",
     "text": [
      "    Running evaluation for graph modification: TopK\n"
     ]
    },
    {
     "name": "stderr",
     "output_type": "stream",
     "text": [
      "100%|██████████| 2000/2000 [00:00<00:00, 8365.85it/s]\n",
      "100%|██████████| 1000/1000 [00:07<00:00, 134.79it/s]\n"
     ]
    },
    {
     "name": "stdout",
     "output_type": "stream",
     "text": [
      "    Running evaluation for graph modification: KKT\n"
     ]
    },
    {
     "name": "stderr",
     "output_type": "stream",
     "text": [
      "100%|██████████| 1000/1000 [00:08<00:00, 117.97it/s]"
     ]
    },
    {
     "name": "stdout",
     "output_type": "stream",
     "text": [
      "    Running evaluation for graph modification: Custom\n"
     ]
    },
    {
     "name": "stderr",
     "output_type": "stream",
     "text": [
      "\n",
      "100%|██████████| 2000/2000 [00:01<00:00, 1662.13it/s]\n",
      "100%|██████████| 1000/1000 [00:01<00:00, 976.48it/s]"
     ]
    },
    {
     "name": "stdout",
     "output_type": "stream",
     "text": [
      "    Running evaluation for graph modification: Custom V2\n"
     ]
    },
    {
     "name": "stderr",
     "output_type": "stream",
     "text": [
      "\n",
      "100%|██████████| 2000/2000 [00:01<00:00, 1724.36it/s]\n",
      "100%|██████████| 1000/1000 [00:01<00:00, 513.01it/s]"
     ]
    },
    {
     "name": "stdout",
     "output_type": "stream",
     "text": [
      "Combined Results for All Seed Functions\n"
     ]
    },
    {
     "name": "stderr",
     "output_type": "stream",
     "text": [
      "\n"
     ]
    },
    {
     "data": {
      "text/html": [
       "<div>\n",
       "<style scoped>\n",
       "    .dataframe tbody tr th:only-of-type {\n",
       "        vertical-align: middle;\n",
       "    }\n",
       "\n",
       "    .dataframe tbody tr th {\n",
       "        vertical-align: top;\n",
       "    }\n",
       "\n",
       "    .dataframe thead th {\n",
       "        text-align: right;\n",
       "    }\n",
       "</style>\n",
       "<table border=\"1\" class=\"dataframe\">\n",
       "  <thead>\n",
       "    <tr style=\"text-align: right;\">\n",
       "      <th>Metric</th>\n",
       "      <th>Seed Function</th>\n",
       "      <th>Graph Modification</th>\n",
       "      <th>Avg Activated Nodes</th>\n",
       "      <th>Activated Nodes Std Dev</th>\n",
       "      <th>Avg Activated Nodes, Color (0)</th>\n",
       "      <th>Activated Nodes Std Dev, Color (0)</th>\n",
       "      <th>Avg Activated Nodes, Color (1)</th>\n",
       "      <th>Activated Nodes Std Dev, Color (1)</th>\n",
       "      <th>Avg Color Activation Count</th>\n",
       "      <th>Color Activation Count Std Dev</th>\n",
       "      <th>Number of Nodes</th>\n",
       "      <th>Number of Edges</th>\n",
       "    </tr>\n",
       "  </thead>\n",
       "  <tbody>\n",
       "    <tr>\n",
       "      <th>0</th>\n",
       "      <td>Centrality</td>\n",
       "      <td>Original Graph</td>\n",
       "      <td>121.998</td>\n",
       "      <td>6.978</td>\n",
       "      <td>117.956</td>\n",
       "      <td>6.547</td>\n",
       "      <td>4.042</td>\n",
       "      <td>1.247</td>\n",
       "      <td>1.071</td>\n",
       "      <td>1.359</td>\n",
       "      <td>2000.0</td>\n",
       "      <td>11994.0</td>\n",
       "    </tr>\n",
       "    <tr>\n",
       "      <th>1</th>\n",
       "      <td>Centrality</td>\n",
       "      <td>PrefAtt</td>\n",
       "      <td>1175.000</td>\n",
       "      <td>0.000</td>\n",
       "      <td>992.000</td>\n",
       "      <td>0.000</td>\n",
       "      <td>183.000</td>\n",
       "      <td>0.000</td>\n",
       "      <td>2395.361</td>\n",
       "      <td>473.117</td>\n",
       "      <td>2000.0</td>\n",
       "      <td>12294.0</td>\n",
       "    </tr>\n",
       "    <tr>\n",
       "      <th>2</th>\n",
       "      <td>Centrality</td>\n",
       "      <td>Jaccard</td>\n",
       "      <td>1166.000</td>\n",
       "      <td>0.000</td>\n",
       "      <td>991.000</td>\n",
       "      <td>0.000</td>\n",
       "      <td>175.000</td>\n",
       "      <td>0.000</td>\n",
       "      <td>1692.627</td>\n",
       "      <td>282.722</td>\n",
       "      <td>2000.0</td>\n",
       "      <td>12294.0</td>\n",
       "    </tr>\n",
       "    <tr>\n",
       "      <th>3</th>\n",
       "      <td>Centrality</td>\n",
       "      <td>Degree</td>\n",
       "      <td>1172.000</td>\n",
       "      <td>0.000</td>\n",
       "      <td>991.000</td>\n",
       "      <td>0.000</td>\n",
       "      <td>181.000</td>\n",
       "      <td>0.000</td>\n",
       "      <td>2325.329</td>\n",
       "      <td>400.991</td>\n",
       "      <td>2000.0</td>\n",
       "      <td>12294.0</td>\n",
       "    </tr>\n",
       "    <tr>\n",
       "      <th>4</th>\n",
       "      <td>Centrality</td>\n",
       "      <td>TopK</td>\n",
       "      <td>1180.000</td>\n",
       "      <td>0.000</td>\n",
       "      <td>991.000</td>\n",
       "      <td>0.000</td>\n",
       "      <td>189.000</td>\n",
       "      <td>0.000</td>\n",
       "      <td>2218.345</td>\n",
       "      <td>369.042</td>\n",
       "      <td>2000.0</td>\n",
       "      <td>12294.0</td>\n",
       "    </tr>\n",
       "    <tr>\n",
       "      <th>...</th>\n",
       "      <td>...</td>\n",
       "      <td>...</td>\n",
       "      <td>...</td>\n",
       "      <td>...</td>\n",
       "      <td>...</td>\n",
       "      <td>...</td>\n",
       "      <td>...</td>\n",
       "      <td>...</td>\n",
       "      <td>...</td>\n",
       "      <td>...</td>\n",
       "      <td>...</td>\n",
       "      <td>...</td>\n",
       "    </tr>\n",
       "    <tr>\n",
       "      <th>76</th>\n",
       "      <td>Random</td>\n",
       "      <td>TopK</td>\n",
       "      <td>1217.000</td>\n",
       "      <td>0.000</td>\n",
       "      <td>1007.000</td>\n",
       "      <td>0.000</td>\n",
       "      <td>210.000</td>\n",
       "      <td>0.000</td>\n",
       "      <td>1926.835</td>\n",
       "      <td>90.297</td>\n",
       "      <td>2000.0</td>\n",
       "      <td>12294.0</td>\n",
       "    </tr>\n",
       "    <tr>\n",
       "      <th>77</th>\n",
       "      <td>Random</td>\n",
       "      <td>KKT</td>\n",
       "      <td>1208.000</td>\n",
       "      <td>0.000</td>\n",
       "      <td>1007.000</td>\n",
       "      <td>0.000</td>\n",
       "      <td>201.000</td>\n",
       "      <td>0.000</td>\n",
       "      <td>1841.649</td>\n",
       "      <td>233.590</td>\n",
       "      <td>2000.0</td>\n",
       "      <td>12294.0</td>\n",
       "    </tr>\n",
       "    <tr>\n",
       "      <th>78</th>\n",
       "      <td>Random</td>\n",
       "      <td>Random</td>\n",
       "      <td>328.561</td>\n",
       "      <td>14.722</td>\n",
       "      <td>245.701</td>\n",
       "      <td>14.063</td>\n",
       "      <td>82.860</td>\n",
       "      <td>2.131</td>\n",
       "      <td>156.463</td>\n",
       "      <td>7.013</td>\n",
       "      <td>2000.0</td>\n",
       "      <td>12294.0</td>\n",
       "    </tr>\n",
       "    <tr>\n",
       "      <th>79</th>\n",
       "      <td>Random</td>\n",
       "      <td>Custom</td>\n",
       "      <td>365.737</td>\n",
       "      <td>15.506</td>\n",
       "      <td>219.313</td>\n",
       "      <td>14.898</td>\n",
       "      <td>146.424</td>\n",
       "      <td>2.502</td>\n",
       "      <td>287.379</td>\n",
       "      <td>12.029</td>\n",
       "      <td>2000.0</td>\n",
       "      <td>12294.0</td>\n",
       "    </tr>\n",
       "    <tr>\n",
       "      <th>80</th>\n",
       "      <td>Random</td>\n",
       "      <td>Custom V2</td>\n",
       "      <td>330.178</td>\n",
       "      <td>14.519</td>\n",
       "      <td>229.785</td>\n",
       "      <td>14.051</td>\n",
       "      <td>100.393</td>\n",
       "      <td>2.042</td>\n",
       "      <td>258.901</td>\n",
       "      <td>9.788</td>\n",
       "      <td>2000.0</td>\n",
       "      <td>12294.0</td>\n",
       "    </tr>\n",
       "  </tbody>\n",
       "</table>\n",
       "<p>81 rows × 12 columns</p>\n",
       "</div>"
      ],
      "text/plain": [
       "Metric Seed Function Graph Modification  Avg Activated Nodes  \\\n",
       "0         Centrality     Original Graph              121.998   \n",
       "1         Centrality            PrefAtt             1175.000   \n",
       "2         Centrality            Jaccard             1166.000   \n",
       "3         Centrality             Degree             1172.000   \n",
       "4         Centrality               TopK             1180.000   \n",
       "..               ...                ...                  ...   \n",
       "76            Random               TopK             1217.000   \n",
       "77            Random                KKT             1208.000   \n",
       "78            Random             Random              328.561   \n",
       "79            Random             Custom              365.737   \n",
       "80            Random          Custom V2              330.178   \n",
       "\n",
       "Metric  Activated Nodes Std Dev  Avg Activated Nodes, Color (0)  \\\n",
       "0                         6.978                         117.956   \n",
       "1                         0.000                         992.000   \n",
       "2                         0.000                         991.000   \n",
       "3                         0.000                         991.000   \n",
       "4                         0.000                         991.000   \n",
       "..                          ...                             ...   \n",
       "76                        0.000                        1007.000   \n",
       "77                        0.000                        1007.000   \n",
       "78                       14.722                         245.701   \n",
       "79                       15.506                         219.313   \n",
       "80                       14.519                         229.785   \n",
       "\n",
       "Metric  Activated Nodes Std Dev, Color (0)  Avg Activated Nodes, Color (1)  \\\n",
       "0                                    6.547                           4.042   \n",
       "1                                    0.000                         183.000   \n",
       "2                                    0.000                         175.000   \n",
       "3                                    0.000                         181.000   \n",
       "4                                    0.000                         189.000   \n",
       "..                                     ...                             ...   \n",
       "76                                   0.000                         210.000   \n",
       "77                                   0.000                         201.000   \n",
       "78                                  14.063                          82.860   \n",
       "79                                  14.898                         146.424   \n",
       "80                                  14.051                         100.393   \n",
       "\n",
       "Metric  Activated Nodes Std Dev, Color (1)  Avg Color Activation Count  \\\n",
       "0                                    1.247                       1.071   \n",
       "1                                    0.000                    2395.361   \n",
       "2                                    0.000                    1692.627   \n",
       "3                                    0.000                    2325.329   \n",
       "4                                    0.000                    2218.345   \n",
       "..                                     ...                         ...   \n",
       "76                                   0.000                    1926.835   \n",
       "77                                   0.000                    1841.649   \n",
       "78                                   2.131                     156.463   \n",
       "79                                   2.502                     287.379   \n",
       "80                                   2.042                     258.901   \n",
       "\n",
       "Metric  Color Activation Count Std Dev  Number of Nodes  Number of Edges  \n",
       "0                                1.359           2000.0          11994.0  \n",
       "1                              473.117           2000.0          12294.0  \n",
       "2                              282.722           2000.0          12294.0  \n",
       "3                              400.991           2000.0          12294.0  \n",
       "4                              369.042           2000.0          12294.0  \n",
       "..                                 ...              ...              ...  \n",
       "76                              90.297           2000.0          12294.0  \n",
       "77                             233.590           2000.0          12294.0  \n",
       "78                               7.013           2000.0          12294.0  \n",
       "79                              12.029           2000.0          12294.0  \n",
       "80                               9.788           2000.0          12294.0  \n",
       "\n",
       "[81 rows x 12 columns]"
      ]
     },
     "execution_count": 8,
     "metadata": {},
     "output_type": "execute_result"
    }
   ],
   "source": [
    "# Define your seed functions\n",
    "seed_functions = {\n",
    "    \"Random\": seed_random,\n",
    "    \"MIA\": lambda G, seed_size: seed_influence_maximization(G, seed_size, 500, 8, 0),\n",
    "    \"Degree\": seed_degree,\n",
    "    \"Centrality\": seed_centrality,\n",
    "    \"Centrality Mixed\": seed_centrality_mixed,\n",
    "    \"Polarized\": lambda G, seed_size: seed_polarized(G, seed_size, 0),\n",
    "    \"Polarized Degree\": lambda G, seed_size: seed_polarized_degree(G, seed_size, 0),\n",
    "    \"Polarized Centrality\": lambda G, seed_size: seed_polarized_centrality(G, seed_size, 0),\n",
    "    \"Polarized Centrality Mixed\": lambda G, seed_size: seed_polarized_centrality_mixed(G, seed_size, 0),\n",
    "}\n",
    "\n",
    "# Example of how to call the function\n",
    "all_results_df = evaluate_all_seeds(G, seed_functions, seed_size, k, max_iter, budget, \"netin_09_2000\")\n",
    "\n",
    "# Display the combined results\n",
    "print(\"Combined Results for All Seed Functions\")\n",
    "all_results_df"
   ]
  },
  {
   "cell_type": "code",
   "execution_count": 9,
   "metadata": {},
   "outputs": [],
   "source": [
    "#all_results_df.to_csv(f\"test.csv\", index=False)\n",
    "all_results_df.to_csv(f\"results/results_netin_{N}_nodes_{h}_hvalue_{d}_density_{plo}_plo_test.csv\", index=False)"
   ]
  },
  {
   "cell_type": "code",
   "execution_count": null,
   "metadata": {},
   "outputs": [],
   "source": []
  },
  {
   "cell_type": "code",
   "execution_count": null,
   "metadata": {},
   "outputs": [],
   "source": []
  }
 ],
 "metadata": {
  "kernelspec": {
   "display_name": "base",
   "language": "python",
   "name": "python3"
  },
  "language_info": {
   "codemirror_mode": {
    "name": "ipython",
    "version": 3
   },
   "file_extension": ".py",
   "mimetype": "text/x-python",
   "name": "python",
   "nbconvert_exporter": "python",
   "pygments_lexer": "ipython3",
   "version": "3.9.15"
  }
 },
 "nbformat": 4,
 "nbformat_minor": 2
}
