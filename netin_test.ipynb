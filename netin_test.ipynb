{
 "cells": [
  {
   "cell_type": "code",
   "execution_count": 1,
   "metadata": {},
   "outputs": [],
   "source": [
    "from netin.models import DPAHModel"
   ]
  },
  {
   "cell_type": "code",
   "execution_count": 2,
   "metadata": {},
   "outputs": [],
   "source": [
    "name =\"ass\""
   ]
  },
  {
   "cell_type": "code",
   "execution_count": 3,
   "metadata": {},
   "outputs": [],
   "source": [
    "from multiprocessing import Pool, cpu_count\n",
    "from typing import Dict, List, Set\n",
    "import networkx as nx\n",
    "\n",
    "\n",
    "from src.seed import (seed_degree, \n",
    "    seed_polarized, \n",
    "    seed_random, \n",
    "    seed_polarized_centrality_mixed, \n",
    "    seed_polarized_centrality, \n",
    "    seed_polarized_degree, \n",
    "    seed_centrality_mixed, \n",
    "    seed_centrality, \n",
    "    seed_influence_maximization\n",
    ")\n",
    "\n",
    "\n",
    "\n",
    "\n",
    "from evaluation import evaluate_all_seeds"
   ]
  },
  {
   "cell_type": "markdown",
   "metadata": {},
   "source": [
    "This model connects a new node to the existing nodes biased by their group assignment. Homophily values of $h > 0.5$ indicate homophily, meaning that nodes prefer to connect to their own group. Heterophily is specified by $h < 0.5$. Nodes tend to connect to the other group.\n",
    "\n",
    "Instead of the number of links per each new node, the directed graph models parameterize the density of the final network by the parameter $d$. Additionally, we need to define activity levels for outgoing links for both the minority and majority group as $plo_m/M$"
   ]
  },
  {
   "cell_type": "code",
   "execution_count": 4,
   "metadata": {},
   "outputs": [],
   "source": [
    "N = 10_000 # Number of total nodes\n",
    "f_m = 0.3 # Fraction of minority nodes\n",
    "h = 0.9 # Homophilic\n",
    "d = 0.001 # desity of the graph\n",
    "plo = 2.0\n",
    "#final number of edges will be: e = d * n (n-1)"
   ]
  },
  {
   "cell_type": "code",
   "execution_count": 5,
   "metadata": {},
   "outputs": [],
   "source": [
    "# DPAH graphs:\n",
    "# Homophilic h > 0.5\n",
    "# Neutral h = 0.5\n",
    "# Heterophilic h < 0.5\n",
    "\n",
    "homophily_values = [0.1, 0.5, 0.9]"
   ]
  },
  {
   "cell_type": "code",
   "execution_count": 6,
   "metadata": {},
   "outputs": [],
   "source": [
    "dpa_model = DPAHModel(N=N, f_m=f_m, d=d, plo_M=plo, plo_m=plo, h_M=h, h_m=h)\n",
    "dpa_graph = dpa_model.simulate()"
   ]
  },
  {
   "cell_type": "code",
   "execution_count": 7,
   "metadata": {},
   "outputs": [],
   "source": [
    "G = dpa_graph.to_nxgraph() # This creates a copy of the graph\n",
    "\n",
    "for node, attr in G.nodes(data=True):\n",
    "    attr['color'] = attr.pop('minority')\n",
    "\n",
    "for node in G.nodes():\n",
    "        in_degree = G.in_degree(node)\n",
    "        for neighbor in G.successors(node):\n",
    "            G[node][neighbor][\"weight\"] = 1 / in_degree if in_degree > 0 else 1"
   ]
  },
  {
   "cell_type": "code",
   "execution_count": 11,
   "metadata": {},
   "outputs": [
    {
     "name": "stdout",
     "output_type": "stream",
     "text": [
      "Seed size: 500\n"
     ]
    }
   ],
   "source": [
    "seed_size = G.number_of_nodes() // 20\n",
    "print(f\"Seed size: {seed_size}\")\n",
    "k = seed_size\n",
    "max_iter = 1000\n",
    "budget = 3 * seed_size"
   ]
  },
  {
   "cell_type": "code",
   "execution_count": 12,
   "metadata": {},
   "outputs": [
    {
     "name": "stdout",
     "output_type": "stream",
     "text": [
      "Running evaluation for seed function: Random\n",
      "    Running evaluation for graph modification: Original Graph\n"
     ]
    },
    {
     "name": "stderr",
     "output_type": "stream",
     "text": [
      "100%|██████████| 1000/1000 [00:20<00:00, 48.65it/s]\n"
     ]
    },
    {
     "name": "stdout",
     "output_type": "stream",
     "text": [
      "    Running evaluation for graph modification: Random\n"
     ]
    },
    {
     "name": "stderr",
     "output_type": "stream",
     "text": [
      " 66%|██████▌   | 659/1000 [00:18<00:08, 39.16it/s]"
     ]
    }
   ],
   "source": [
    "# Define your seed functions\n",
    "seed_functions = {\n",
    "    \"Random\": seed_random,\n",
    "    \"MIA\": lambda G, seed_size: seed_influence_maximization(G, seed_size, 200, 8, 1),\n",
    "    \"Degree\": seed_degree,\n",
    "    \"Centrality\": seed_centrality,\n",
    "    \"Centrality Mixed\": seed_centrality_mixed,\n",
    "    \"Polarized\": lambda G, seed_size: seed_polarized(G, seed_size, 0),\n",
    "    \"Polarized Degree\": lambda G, seed_size: seed_polarized_degree(G, seed_size, 0),\n",
    "    \"Polarized Centrality\": lambda G, seed_size: seed_polarized_centrality(G, seed_size, 0),\n",
    "    \"Polarized Centrality Mixed\": lambda G, seed_size: seed_polarized_centrality_mixed(G, seed_size, 0),\n",
    "}\n",
    " \n",
    "# Example of how to call the function\n",
    "all_results_df = evaluate_all_seeds(G, seed_functions, seed_size, k, max_iter, budget, \"netin_09\")\n",
    "\n",
    "# Display the combined results\n",
    "print(\"Combined Results for All Seed Functions\")\n",
    "all_results_df"
   ]
  },
  {
   "cell_type": "code",
   "execution_count": null,
   "metadata": {},
   "outputs": [],
   "source": [
    "all_results_df.to_csv(f\"results/results_netin_{N}_nodes_{h}_hvalue_{d}_density_{plo}_plo.csv\", index=False)"
   ]
  },
  {
   "cell_type": "code",
   "execution_count": null,
   "metadata": {},
   "outputs": [],
   "source": []
  }
 ],
 "metadata": {
  "kernelspec": {
   "display_name": "base",
   "language": "python",
   "name": "python3"
  },
  "language_info": {
   "codemirror_mode": {
    "name": "ipython",
    "version": 3
   },
   "file_extension": ".py",
   "mimetype": "text/x-python",
   "name": "python",
   "nbconvert_exporter": "python",
   "pygments_lexer": "ipython3",
   "version": "3.9.15"
  }
 },
 "nbformat": 4,
 "nbformat_minor": 2
}
