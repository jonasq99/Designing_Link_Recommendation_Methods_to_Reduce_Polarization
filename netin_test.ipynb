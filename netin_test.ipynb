{
 "cells": [
  {
   "cell_type": "code",
   "execution_count": 1,
   "metadata": {},
   "outputs": [],
   "source": [
    "from netin.models import DPAHModel"
   ]
  },
  {
   "cell_type": "code",
   "execution_count": 3,
   "metadata": {},
   "outputs": [],
   "source": [
    "from multiprocessing import Pool, cpu_count\n",
    "from typing import Dict, List, Set\n",
    "import networkx as nx\n",
    "\n",
    "\n",
    "from src.seed import (seed_degree, \n",
    "    seed_polarized, \n",
    "    seed_random, \n",
    "    seed_polarized_centrality_mixed, \n",
    "    seed_polarized_centrality, \n",
    "    seed_polarized_degree, \n",
    "    seed_centrality_mixed, \n",
    "    seed_centrality, \n",
    "    seed_influence_maximization\n",
    ")\n",
    "\n",
    "\n",
    "from evaluation import evaluate_all_seeds"
   ]
  },
  {
   "cell_type": "markdown",
   "metadata": {},
   "source": [
    "This model connects a new node to the existing nodes biased by their group assignment. Homophily values of $h > 0.5$ indicate homophily, meaning that nodes prefer to connect to their own group. Heterophily is specified by $h < 0.5$. Nodes tend to connect to the other group.\n",
    "\n",
    "Instead of the number of links per each new node, the directed graph models parameterize the density of the final network by the parameter $d$. Additionally, we need to define activity levels for outgoing links for both the minority and majority group as $plo_m/M$"
   ]
  },
  {
   "cell_type": "code",
   "execution_count": 4,
   "metadata": {},
   "outputs": [],
   "source": [
    "N = 10_000 # Number of total nodes\n",
    "f_m = 0.3 # Fraction of minority nodes\n",
    "h = 0.5 # Homophilic\n",
    "d = 0.001 # desity of the graph\n",
    "plo = 2.0\n",
    "#final number of edges will be: e = d * n (n-1)"
   ]
  },
  {
   "cell_type": "code",
   "execution_count": 5,
   "metadata": {},
   "outputs": [],
   "source": [
    "# DPAH graphs:\n",
    "# Homophilic h > 0.5\n",
    "# Neutral h = 0.5\n",
    "# Heterophilic h < 0.5\n",
    "\n",
    "homophily_values = [0.1, 0.5, 0.9]"
   ]
  },
  {
   "cell_type": "code",
   "execution_count": 6,
   "metadata": {},
   "outputs": [],
   "source": [
    "dpa_model = DPAHModel(N=N, f_m=f_m, d=d, plo_M=plo, plo_m=plo, h_M=h, h_m=h)\n",
    "dpa_graph = dpa_model.simulate()"
   ]
  },
  {
   "cell_type": "code",
   "execution_count": 7,
   "metadata": {},
   "outputs": [],
   "source": [
    "G = dpa_graph.to_nxgraph() # This creates a copy of the graph\n",
    "\n",
    "for node, attr in G.nodes(data=True):\n",
    "    attr['color'] = attr.pop('minority')\n",
    "\n",
    "for node in G.nodes():\n",
    "        in_degree = G.in_degree(node)\n",
    "        for neighbor in G.successors(node):\n",
    "            G[node][neighbor][\"weight\"] = 1 / in_degree if in_degree > 0 else 1"
   ]
  },
  {
   "cell_type": "code",
   "execution_count": 8,
   "metadata": {},
   "outputs": [
    {
     "name": "stdout",
     "output_type": "stream",
     "text": [
      "Seed size: 500\n"
     ]
    }
   ],
   "source": [
    "seed_size = G.number_of_nodes() // 20\n",
    "print(f\"Seed size: {seed_size}\")\n",
    "k = seed_size\n",
    "max_iter = 1000\n",
    "budget = 3 * seed_size"
   ]
  },
  {
   "cell_type": "code",
   "execution_count": 9,
   "metadata": {},
   "outputs": [
    {
     "name": "stdout",
     "output_type": "stream",
     "text": [
      "Running evaluation for seed function: Random\n",
      "    Running evaluation for graph modification: Original Graph\n"
     ]
    },
    {
     "name": "stderr",
     "output_type": "stream",
     "text": [
      "100%|██████████| 1000/1000 [00:28<00:00, 35.16it/s]\n"
     ]
    },
    {
     "name": "stdout",
     "output_type": "stream",
     "text": [
      "    Running evaluation for graph modification: Random\n"
     ]
    },
    {
     "name": "stderr",
     "output_type": "stream",
     "text": [
      "100%|██████████| 1000/1000 [00:33<00:00, 29.88it/s]\n"
     ]
    },
    {
     "name": "stdout",
     "output_type": "stream",
     "text": [
      "    Running evaluation for graph modification: Degree\n"
     ]
    },
    {
     "name": "stderr",
     "output_type": "stream",
     "text": [
      "100%|██████████| 1000/1000 [00:47<00:00, 21.12it/s]\n"
     ]
    },
    {
     "name": "stdout",
     "output_type": "stream",
     "text": [
      "    Running evaluation for graph modification: PrefAtt\n"
     ]
    },
    {
     "name": "stderr",
     "output_type": "stream",
     "text": [
      "100%|██████████| 1000/1000 [00:55<00:00, 18.17it/s]\n"
     ]
    },
    {
     "name": "stdout",
     "output_type": "stream",
     "text": [
      "    Running evaluation for graph modification: Jaccard\n"
     ]
    },
    {
     "name": "stderr",
     "output_type": "stream",
     "text": [
      "100%|██████████| 1000/1000 [01:01<00:00, 16.26it/s]\n"
     ]
    },
    {
     "name": "stdout",
     "output_type": "stream",
     "text": [
      "    Running evaluation for graph modification: TopK\n"
     ]
    },
    {
     "name": "stderr",
     "output_type": "stream",
     "text": [
      "100%|██████████| 10000/10000 [02:54<00:00, 57.37it/s]\n",
      "100%|██████████| 1000/1000 [00:53<00:00, 18.70it/s]\n"
     ]
    },
    {
     "name": "stdout",
     "output_type": "stream",
     "text": [
      "    Running evaluation for graph modification: KKT\n"
     ]
    },
    {
     "name": "stderr",
     "output_type": "stream",
     "text": [
      "100%|██████████| 1000/1000 [00:40<00:00, 24.90it/s]\n"
     ]
    },
    {
     "name": "stdout",
     "output_type": "stream",
     "text": [
      "    Running evaluation for graph modification: Custom\n"
     ]
    },
    {
     "name": "stderr",
     "output_type": "stream",
     "text": [
      "100%|██████████| 10000/10000 [01:55<00:00, 86.90it/s]\n",
      "100%|██████████| 1000/1000 [00:34<00:00, 28.93it/s]\n"
     ]
    },
    {
     "name": "stdout",
     "output_type": "stream",
     "text": [
      "    Running evaluation for graph modification: Custom V2\n"
     ]
    },
    {
     "name": "stderr",
     "output_type": "stream",
     "text": [
      "100%|██████████| 10000/10000 [01:50<00:00, 90.65it/s]\n",
      "100%|██████████| 1000/1000 [00:33<00:00, 29.82it/s]\n"
     ]
    },
    {
     "name": "stdout",
     "output_type": "stream",
     "text": [
      "Running evaluation for seed function: MIA\n"
     ]
    },
    {
     "name": "stderr",
     "output_type": "stream",
     "text": [
      "Initial influence calculation: 100%|██████████| 8504/8504 [01:12<00:00, 117.83node/s] \n",
      "Selecting seeds: 100%|██████████| 500/500 [03:55<00:00,  2.12seed/s]  \n"
     ]
    },
    {
     "name": "stdout",
     "output_type": "stream",
     "text": [
      "    Running evaluation for graph modification: Original Graph\n"
     ]
    },
    {
     "name": "stderr",
     "output_type": "stream",
     "text": [
      "100%|██████████| 1000/1000 [00:17<00:00, 57.30it/s]\n"
     ]
    },
    {
     "name": "stdout",
     "output_type": "stream",
     "text": [
      "    Running evaluation for graph modification: Random\n"
     ]
    },
    {
     "name": "stderr",
     "output_type": "stream",
     "text": [
      "100%|██████████| 1000/1000 [00:19<00:00, 52.38it/s]\n"
     ]
    },
    {
     "name": "stdout",
     "output_type": "stream",
     "text": [
      "    Running evaluation for graph modification: Degree\n"
     ]
    },
    {
     "name": "stderr",
     "output_type": "stream",
     "text": [
      "100%|██████████| 1000/1000 [00:18<00:00, 53.35it/s]\n"
     ]
    },
    {
     "name": "stdout",
     "output_type": "stream",
     "text": [
      "    Running evaluation for graph modification: PrefAtt\n"
     ]
    },
    {
     "name": "stderr",
     "output_type": "stream",
     "text": [
      "100%|██████████| 1000/1000 [00:18<00:00, 53.55it/s]\n"
     ]
    },
    {
     "name": "stdout",
     "output_type": "stream",
     "text": [
      "    Running evaluation for graph modification: Jaccard\n"
     ]
    },
    {
     "name": "stderr",
     "output_type": "stream",
     "text": [
      "100%|██████████| 1000/1000 [00:18<00:00, 54.27it/s]\n"
     ]
    },
    {
     "name": "stdout",
     "output_type": "stream",
     "text": [
      "    Running evaluation for graph modification: TopK\n"
     ]
    },
    {
     "name": "stderr",
     "output_type": "stream",
     "text": [
      "100%|██████████| 10000/10000 [03:04<00:00, 54.09it/s]\n",
      "100%|██████████| 1000/1000 [00:19<00:00, 52.28it/s]\n"
     ]
    },
    {
     "name": "stdout",
     "output_type": "stream",
     "text": [
      "    Running evaluation for graph modification: KKT\n"
     ]
    },
    {
     "name": "stderr",
     "output_type": "stream",
     "text": [
      "100%|██████████| 1000/1000 [00:19<00:00, 51.60it/s]\n"
     ]
    },
    {
     "name": "stdout",
     "output_type": "stream",
     "text": [
      "    Running evaluation for graph modification: Custom\n"
     ]
    },
    {
     "name": "stderr",
     "output_type": "stream",
     "text": [
      "100%|██████████| 10000/10000 [01:52<00:00, 88.64it/s]\n",
      "100%|██████████| 1000/1000 [00:19<00:00, 52.62it/s]\n"
     ]
    },
    {
     "name": "stdout",
     "output_type": "stream",
     "text": [
      "    Running evaluation for graph modification: Custom V2\n"
     ]
    },
    {
     "name": "stderr",
     "output_type": "stream",
     "text": [
      "100%|██████████| 10000/10000 [01:51<00:00, 89.63it/s]\n",
      "100%|██████████| 1000/1000 [00:19<00:00, 51.07it/s]\n"
     ]
    },
    {
     "name": "stdout",
     "output_type": "stream",
     "text": [
      "Running evaluation for seed function: Degree\n",
      "    Running evaluation for graph modification: Original Graph\n"
     ]
    },
    {
     "name": "stderr",
     "output_type": "stream",
     "text": [
      "100%|██████████| 1000/1000 [00:28<00:00, 34.52it/s]\n"
     ]
    },
    {
     "name": "stdout",
     "output_type": "stream",
     "text": [
      "    Running evaluation for graph modification: Random\n"
     ]
    },
    {
     "name": "stderr",
     "output_type": "stream",
     "text": [
      "100%|██████████| 1000/1000 [00:31<00:00, 32.18it/s]\n"
     ]
    },
    {
     "name": "stdout",
     "output_type": "stream",
     "text": [
      "    Running evaluation for graph modification: Degree\n"
     ]
    },
    {
     "name": "stderr",
     "output_type": "stream",
     "text": [
      "100%|██████████| 1000/1000 [00:29<00:00, 33.88it/s]\n"
     ]
    },
    {
     "name": "stdout",
     "output_type": "stream",
     "text": [
      "    Running evaluation for graph modification: PrefAtt\n"
     ]
    },
    {
     "name": "stderr",
     "output_type": "stream",
     "text": [
      "100%|██████████| 1000/1000 [00:30<00:00, 32.47it/s]\n"
     ]
    },
    {
     "name": "stdout",
     "output_type": "stream",
     "text": [
      "    Running evaluation for graph modification: Jaccard\n"
     ]
    },
    {
     "name": "stderr",
     "output_type": "stream",
     "text": [
      "100%|██████████| 1000/1000 [00:30<00:00, 32.86it/s]\n"
     ]
    },
    {
     "name": "stdout",
     "output_type": "stream",
     "text": [
      "    Running evaluation for graph modification: TopK\n"
     ]
    },
    {
     "name": "stderr",
     "output_type": "stream",
     "text": [
      "100%|██████████| 10000/10000 [03:09<00:00, 52.81it/s]\n",
      "100%|██████████| 1000/1000 [00:29<00:00, 33.36it/s]\n"
     ]
    },
    {
     "name": "stdout",
     "output_type": "stream",
     "text": [
      "    Running evaluation for graph modification: KKT\n"
     ]
    },
    {
     "name": "stderr",
     "output_type": "stream",
     "text": [
      "100%|██████████| 1000/1000 [00:30<00:00, 32.93it/s]\n"
     ]
    },
    {
     "name": "stdout",
     "output_type": "stream",
     "text": [
      "    Running evaluation for graph modification: Custom\n"
     ]
    },
    {
     "name": "stderr",
     "output_type": "stream",
     "text": [
      "100%|██████████| 10000/10000 [02:17<00:00, 72.79it/s]\n",
      "100%|██████████| 1000/1000 [00:31<00:00, 31.86it/s]\n"
     ]
    },
    {
     "name": "stdout",
     "output_type": "stream",
     "text": [
      "    Running evaluation for graph modification: Custom V2\n"
     ]
    },
    {
     "name": "stderr",
     "output_type": "stream",
     "text": [
      "100%|██████████| 10000/10000 [02:18<00:00, 72.32it/s]\n",
      "100%|██████████| 1000/1000 [00:33<00:00, 30.18it/s]\n"
     ]
    },
    {
     "name": "stdout",
     "output_type": "stream",
     "text": [
      "Running evaluation for seed function: Centrality\n",
      "    Running evaluation for graph modification: Original Graph\n"
     ]
    },
    {
     "name": "stderr",
     "output_type": "stream",
     "text": [
      "100%|██████████| 1000/1000 [00:13<00:00, 72.32it/s]\n"
     ]
    },
    {
     "name": "stdout",
     "output_type": "stream",
     "text": [
      "    Running evaluation for graph modification: Random\n"
     ]
    },
    {
     "name": "stderr",
     "output_type": "stream",
     "text": [
      "100%|██████████| 1000/1000 [00:16<00:00, 62.42it/s]\n"
     ]
    },
    {
     "name": "stdout",
     "output_type": "stream",
     "text": [
      "    Running evaluation for graph modification: Degree\n"
     ]
    },
    {
     "name": "stderr",
     "output_type": "stream",
     "text": [
      "100%|██████████| 1000/1000 [00:25<00:00, 39.39it/s]\n"
     ]
    },
    {
     "name": "stdout",
     "output_type": "stream",
     "text": [
      "    Running evaluation for graph modification: PrefAtt\n"
     ]
    },
    {
     "name": "stderr",
     "output_type": "stream",
     "text": [
      "100%|██████████| 1000/1000 [00:48<00:00, 20.81it/s]\n"
     ]
    },
    {
     "name": "stdout",
     "output_type": "stream",
     "text": [
      "    Running evaluation for graph modification: Jaccard\n"
     ]
    },
    {
     "name": "stderr",
     "output_type": "stream",
     "text": [
      "100%|██████████| 1000/1000 [00:43<00:00, 23.04it/s]\n"
     ]
    },
    {
     "name": "stdout",
     "output_type": "stream",
     "text": [
      "    Running evaluation for graph modification: TopK\n"
     ]
    },
    {
     "name": "stderr",
     "output_type": "stream",
     "text": [
      "100%|██████████| 10000/10000 [03:09<00:00, 52.83it/s]\n",
      "100%|██████████| 1000/1000 [00:25<00:00, 39.73it/s]\n"
     ]
    },
    {
     "name": "stdout",
     "output_type": "stream",
     "text": [
      "    Running evaluation for graph modification: KKT\n"
     ]
    },
    {
     "name": "stderr",
     "output_type": "stream",
     "text": [
      "100%|██████████| 1000/1000 [00:48<00:00, 20.78it/s]\n"
     ]
    },
    {
     "name": "stdout",
     "output_type": "stream",
     "text": [
      "    Running evaluation for graph modification: Custom\n"
     ]
    },
    {
     "name": "stderr",
     "output_type": "stream",
     "text": [
      "100%|██████████| 10000/10000 [02:31<00:00, 66.01it/s]\n",
      "100%|██████████| 1000/1000 [00:16<00:00, 59.59it/s]\n"
     ]
    },
    {
     "name": "stdout",
     "output_type": "stream",
     "text": [
      "    Running evaluation for graph modification: Custom V2\n"
     ]
    },
    {
     "name": "stderr",
     "output_type": "stream",
     "text": [
      "100%|██████████| 10000/10000 [02:29<00:00, 67.05it/s]\n",
      "100%|██████████| 1000/1000 [00:16<00:00, 58.99it/s]\n"
     ]
    },
    {
     "name": "stdout",
     "output_type": "stream",
     "text": [
      "Running evaluation for seed function: Centrality Mixed\n",
      "    Running evaluation for graph modification: Original Graph\n"
     ]
    },
    {
     "name": "stderr",
     "output_type": "stream",
     "text": [
      "100%|██████████| 1000/1000 [00:17<00:00, 58.43it/s]\n"
     ]
    },
    {
     "name": "stdout",
     "output_type": "stream",
     "text": [
      "    Running evaluation for graph modification: Random\n"
     ]
    },
    {
     "name": "stderr",
     "output_type": "stream",
     "text": [
      "100%|██████████| 1000/1000 [00:19<00:00, 51.85it/s]\n"
     ]
    },
    {
     "name": "stdout",
     "output_type": "stream",
     "text": [
      "    Running evaluation for graph modification: Degree\n"
     ]
    },
    {
     "name": "stderr",
     "output_type": "stream",
     "text": [
      "100%|██████████| 1000/1000 [00:35<00:00, 28.29it/s]\n"
     ]
    },
    {
     "name": "stdout",
     "output_type": "stream",
     "text": [
      "    Running evaluation for graph modification: PrefAtt\n"
     ]
    },
    {
     "name": "stderr",
     "output_type": "stream",
     "text": [
      "100%|██████████| 1000/1000 [00:35<00:00, 28.41it/s]\n"
     ]
    },
    {
     "name": "stdout",
     "output_type": "stream",
     "text": [
      "    Running evaluation for graph modification: Jaccard\n"
     ]
    },
    {
     "name": "stderr",
     "output_type": "stream",
     "text": [
      "100%|██████████| 1000/1000 [00:45<00:00, 22.16it/s]\n"
     ]
    },
    {
     "name": "stdout",
     "output_type": "stream",
     "text": [
      "    Running evaluation for graph modification: TopK\n"
     ]
    },
    {
     "name": "stderr",
     "output_type": "stream",
     "text": [
      "100%|██████████| 10000/10000 [02:59<00:00, 55.80it/s]\n",
      "100%|██████████| 1000/1000 [00:42<00:00, 23.64it/s]\n"
     ]
    },
    {
     "name": "stdout",
     "output_type": "stream",
     "text": [
      "    Running evaluation for graph modification: KKT\n"
     ]
    },
    {
     "name": "stderr",
     "output_type": "stream",
     "text": [
      "100%|██████████| 1000/1000 [00:36<00:00, 27.73it/s]\n"
     ]
    },
    {
     "name": "stdout",
     "output_type": "stream",
     "text": [
      "    Running evaluation for graph modification: Custom\n"
     ]
    },
    {
     "name": "stderr",
     "output_type": "stream",
     "text": [
      "100%|██████████| 10000/10000 [02:29<00:00, 66.98it/s]\n",
      "100%|██████████| 1000/1000 [00:20<00:00, 49.73it/s]\n"
     ]
    },
    {
     "name": "stdout",
     "output_type": "stream",
     "text": [
      "    Running evaluation for graph modification: Custom V2\n"
     ]
    },
    {
     "name": "stderr",
     "output_type": "stream",
     "text": [
      "100%|██████████| 10000/10000 [02:26<00:00, 68.06it/s]\n",
      "100%|██████████| 1000/1000 [00:19<00:00, 50.42it/s]\n"
     ]
    },
    {
     "name": "stdout",
     "output_type": "stream",
     "text": [
      "Running evaluation for seed function: Polarized\n",
      "    Running evaluation for graph modification: Original Graph\n"
     ]
    },
    {
     "name": "stderr",
     "output_type": "stream",
     "text": [
      "100%|██████████| 1000/1000 [00:30<00:00, 32.40it/s]\n"
     ]
    },
    {
     "name": "stdout",
     "output_type": "stream",
     "text": [
      "    Running evaluation for graph modification: Random\n"
     ]
    },
    {
     "name": "stderr",
     "output_type": "stream",
     "text": [
      "100%|██████████| 1000/1000 [00:37<00:00, 26.37it/s]\n"
     ]
    },
    {
     "name": "stdout",
     "output_type": "stream",
     "text": [
      "    Running evaluation for graph modification: Degree\n"
     ]
    },
    {
     "name": "stderr",
     "output_type": "stream",
     "text": [
      "100%|██████████| 1000/1000 [00:59<00:00, 16.85it/s]\n"
     ]
    },
    {
     "name": "stdout",
     "output_type": "stream",
     "text": [
      "    Running evaluation for graph modification: PrefAtt\n"
     ]
    },
    {
     "name": "stderr",
     "output_type": "stream",
     "text": [
      "100%|██████████| 1000/1000 [00:57<00:00, 17.39it/s]\n"
     ]
    },
    {
     "name": "stdout",
     "output_type": "stream",
     "text": [
      "    Running evaluation for graph modification: Jaccard\n"
     ]
    },
    {
     "name": "stderr",
     "output_type": "stream",
     "text": [
      "100%|██████████| 1000/1000 [00:39<00:00, 25.41it/s]\n"
     ]
    },
    {
     "name": "stdout",
     "output_type": "stream",
     "text": [
      "    Running evaluation for graph modification: TopK\n"
     ]
    },
    {
     "name": "stderr",
     "output_type": "stream",
     "text": [
      "100%|██████████| 10000/10000 [03:00<00:00, 55.44it/s]\n",
      "100%|██████████| 1000/1000 [00:58<00:00, 17.07it/s]\n"
     ]
    },
    {
     "name": "stdout",
     "output_type": "stream",
     "text": [
      "    Running evaluation for graph modification: KKT\n"
     ]
    },
    {
     "name": "stderr",
     "output_type": "stream",
     "text": [
      "100%|██████████| 1000/1000 [00:39<00:00, 25.01it/s]\n"
     ]
    },
    {
     "name": "stdout",
     "output_type": "stream",
     "text": [
      "    Running evaluation for graph modification: Custom\n"
     ]
    },
    {
     "name": "stderr",
     "output_type": "stream",
     "text": [
      "100%|██████████| 10000/10000 [01:23<00:00, 119.52it/s]\n",
      "100%|██████████| 1000/1000 [00:34<00:00, 28.63it/s]\n"
     ]
    },
    {
     "name": "stdout",
     "output_type": "stream",
     "text": [
      "    Running evaluation for graph modification: Custom V2\n"
     ]
    },
    {
     "name": "stderr",
     "output_type": "stream",
     "text": [
      "100%|██████████| 10000/10000 [01:22<00:00, 121.93it/s]\n",
      "100%|██████████| 1000/1000 [00:36<00:00, 27.77it/s]\n"
     ]
    },
    {
     "name": "stdout",
     "output_type": "stream",
     "text": [
      "Running evaluation for seed function: Polarized Degree\n",
      "    Running evaluation for graph modification: Original Graph\n"
     ]
    },
    {
     "name": "stderr",
     "output_type": "stream",
     "text": [
      "100%|██████████| 1000/1000 [01:08<00:00, 14.63it/s]\n"
     ]
    },
    {
     "name": "stdout",
     "output_type": "stream",
     "text": [
      "    Running evaluation for graph modification: Random\n"
     ]
    },
    {
     "name": "stderr",
     "output_type": "stream",
     "text": [
      "100%|██████████| 1000/1000 [01:15<00:00, 13.30it/s]\n"
     ]
    },
    {
     "name": "stdout",
     "output_type": "stream",
     "text": [
      "    Running evaluation for graph modification: Degree\n"
     ]
    },
    {
     "name": "stderr",
     "output_type": "stream",
     "text": [
      "100%|██████████| 1000/1000 [01:32<00:00, 10.81it/s]\n"
     ]
    },
    {
     "name": "stdout",
     "output_type": "stream",
     "text": [
      "    Running evaluation for graph modification: PrefAtt\n"
     ]
    },
    {
     "name": "stderr",
     "output_type": "stream",
     "text": [
      "100%|██████████| 1000/1000 [01:27<00:00, 11.46it/s]\n"
     ]
    },
    {
     "name": "stdout",
     "output_type": "stream",
     "text": [
      "    Running evaluation for graph modification: Jaccard\n"
     ]
    },
    {
     "name": "stderr",
     "output_type": "stream",
     "text": [
      "100%|██████████| 1000/1000 [01:28<00:00, 11.31it/s]\n"
     ]
    },
    {
     "name": "stdout",
     "output_type": "stream",
     "text": [
      "    Running evaluation for graph modification: TopK\n"
     ]
    },
    {
     "name": "stderr",
     "output_type": "stream",
     "text": [
      "100%|██████████| 10000/10000 [02:51<00:00, 58.14it/s]\n",
      "100%|██████████| 1000/1000 [01:28<00:00, 11.27it/s]\n"
     ]
    },
    {
     "name": "stdout",
     "output_type": "stream",
     "text": [
      "    Running evaluation for graph modification: KKT\n"
     ]
    },
    {
     "name": "stderr",
     "output_type": "stream",
     "text": [
      "100%|██████████| 1000/1000 [01:11<00:00, 13.91it/s]\n"
     ]
    },
    {
     "name": "stdout",
     "output_type": "stream",
     "text": [
      "    Running evaluation for graph modification: Custom\n"
     ]
    },
    {
     "name": "stderr",
     "output_type": "stream",
     "text": [
      "100%|██████████| 10000/10000 [01:22<00:00, 121.35it/s]\n",
      "100%|██████████| 1000/1000 [01:27<00:00, 11.37it/s]\n"
     ]
    },
    {
     "name": "stdout",
     "output_type": "stream",
     "text": [
      "    Running evaluation for graph modification: Custom V2\n"
     ]
    },
    {
     "name": "stderr",
     "output_type": "stream",
     "text": [
      "100%|██████████| 10000/10000 [01:21<00:00, 122.03it/s]\n",
      "100%|██████████| 1000/1000 [01:11<00:00, 13.90it/s]\n"
     ]
    },
    {
     "name": "stdout",
     "output_type": "stream",
     "text": [
      "Running evaluation for seed function: Polarized Centrality\n",
      "    Running evaluation for graph modification: Original Graph\n"
     ]
    },
    {
     "name": "stderr",
     "output_type": "stream",
     "text": [
      "100%|██████████| 1000/1000 [00:34<00:00, 28.59it/s]\n"
     ]
    },
    {
     "name": "stdout",
     "output_type": "stream",
     "text": [
      "    Running evaluation for graph modification: Random\n"
     ]
    },
    {
     "name": "stderr",
     "output_type": "stream",
     "text": [
      "100%|██████████| 1000/1000 [00:40<00:00, 24.97it/s]\n"
     ]
    },
    {
     "name": "stdout",
     "output_type": "stream",
     "text": [
      "    Running evaluation for graph modification: Degree\n"
     ]
    },
    {
     "name": "stderr",
     "output_type": "stream",
     "text": [
      "100%|██████████| 1000/1000 [00:45<00:00, 22.03it/s]\n"
     ]
    },
    {
     "name": "stdout",
     "output_type": "stream",
     "text": [
      "    Running evaluation for graph modification: PrefAtt\n"
     ]
    },
    {
     "name": "stderr",
     "output_type": "stream",
     "text": [
      "100%|██████████| 1000/1000 [00:43<00:00, 23.12it/s]\n"
     ]
    },
    {
     "name": "stdout",
     "output_type": "stream",
     "text": [
      "    Running evaluation for graph modification: Jaccard\n"
     ]
    },
    {
     "name": "stderr",
     "output_type": "stream",
     "text": [
      "100%|██████████| 1000/1000 [00:59<00:00, 16.80it/s]\n"
     ]
    },
    {
     "name": "stdout",
     "output_type": "stream",
     "text": [
      "    Running evaluation for graph modification: TopK\n"
     ]
    },
    {
     "name": "stderr",
     "output_type": "stream",
     "text": [
      "100%|██████████| 10000/10000 [02:56<00:00, 56.80it/s]\n",
      "100%|██████████| 1000/1000 [00:54<00:00, 18.45it/s]\n"
     ]
    },
    {
     "name": "stdout",
     "output_type": "stream",
     "text": [
      "    Running evaluation for graph modification: KKT\n"
     ]
    },
    {
     "name": "stderr",
     "output_type": "stream",
     "text": [
      "100%|██████████| 1000/1000 [00:53<00:00, 18.63it/s]\n"
     ]
    },
    {
     "name": "stdout",
     "output_type": "stream",
     "text": [
      "    Running evaluation for graph modification: Custom\n"
     ]
    },
    {
     "name": "stderr",
     "output_type": "stream",
     "text": [
      "100%|██████████| 10000/10000 [01:22<00:00, 120.85it/s]\n",
      "100%|██████████| 1000/1000 [00:53<00:00, 18.65it/s]\n"
     ]
    },
    {
     "name": "stdout",
     "output_type": "stream",
     "text": [
      "    Running evaluation for graph modification: Custom V2\n"
     ]
    },
    {
     "name": "stderr",
     "output_type": "stream",
     "text": [
      "100%|██████████| 10000/10000 [01:24<00:00, 118.55it/s]\n",
      "100%|██████████| 1000/1000 [00:40<00:00, 24.46it/s]\n"
     ]
    },
    {
     "name": "stdout",
     "output_type": "stream",
     "text": [
      "Running evaluation for seed function: Polarized Centrality Mixed\n",
      "    Running evaluation for graph modification: Original Graph\n"
     ]
    },
    {
     "name": "stderr",
     "output_type": "stream",
     "text": [
      "100%|██████████| 1000/1000 [00:38<00:00, 25.73it/s]\n"
     ]
    },
    {
     "name": "stdout",
     "output_type": "stream",
     "text": [
      "    Running evaluation for graph modification: Random\n"
     ]
    },
    {
     "name": "stderr",
     "output_type": "stream",
     "text": [
      "100%|██████████| 1000/1000 [00:42<00:00, 23.67it/s]\n"
     ]
    },
    {
     "name": "stdout",
     "output_type": "stream",
     "text": [
      "    Running evaluation for graph modification: Degree\n"
     ]
    },
    {
     "name": "stderr",
     "output_type": "stream",
     "text": [
      "100%|██████████| 1000/1000 [00:47<00:00, 20.94it/s]\n"
     ]
    },
    {
     "name": "stdout",
     "output_type": "stream",
     "text": [
      "    Running evaluation for graph modification: PrefAtt\n"
     ]
    },
    {
     "name": "stderr",
     "output_type": "stream",
     "text": [
      "100%|██████████| 1000/1000 [00:59<00:00, 16.73it/s]\n"
     ]
    },
    {
     "name": "stdout",
     "output_type": "stream",
     "text": [
      "    Running evaluation for graph modification: Jaccard\n"
     ]
    },
    {
     "name": "stderr",
     "output_type": "stream",
     "text": [
      "100%|██████████| 1000/1000 [01:06<00:00, 15.03it/s]\n"
     ]
    },
    {
     "name": "stdout",
     "output_type": "stream",
     "text": [
      "    Running evaluation for graph modification: TopK\n"
     ]
    },
    {
     "name": "stderr",
     "output_type": "stream",
     "text": [
      "100%|██████████| 10000/10000 [02:51<00:00, 58.44it/s]\n",
      "100%|██████████| 1000/1000 [01:05<00:00, 15.26it/s]\n"
     ]
    },
    {
     "name": "stdout",
     "output_type": "stream",
     "text": [
      "    Running evaluation for graph modification: KKT\n"
     ]
    },
    {
     "name": "stderr",
     "output_type": "stream",
     "text": [
      "100%|██████████| 1000/1000 [00:59<00:00, 16.79it/s]\n"
     ]
    },
    {
     "name": "stdout",
     "output_type": "stream",
     "text": [
      "    Running evaluation for graph modification: Custom\n"
     ]
    },
    {
     "name": "stderr",
     "output_type": "stream",
     "text": [
      "100%|██████████| 10000/10000 [01:23<00:00, 119.73it/s]\n",
      "100%|██████████| 1000/1000 [01:02<00:00, 15.96it/s]\n"
     ]
    },
    {
     "name": "stdout",
     "output_type": "stream",
     "text": [
      "    Running evaluation for graph modification: Custom V2\n"
     ]
    },
    {
     "name": "stderr",
     "output_type": "stream",
     "text": [
      "100%|██████████| 10000/10000 [01:21<00:00, 122.20it/s]\n",
      "100%|██████████| 1000/1000 [00:44<00:00, 22.44it/s]"
     ]
    },
    {
     "name": "stdout",
     "output_type": "stream",
     "text": [
      "Combined Results for All Seed Functions\n"
     ]
    },
    {
     "name": "stderr",
     "output_type": "stream",
     "text": [
      "\n"
     ]
    },
    {
     "data": {
      "text/html": [
       "<div>\n",
       "<style scoped>\n",
       "    .dataframe tbody tr th:only-of-type {\n",
       "        vertical-align: middle;\n",
       "    }\n",
       "\n",
       "    .dataframe tbody tr th {\n",
       "        vertical-align: top;\n",
       "    }\n",
       "\n",
       "    .dataframe thead th {\n",
       "        text-align: right;\n",
       "    }\n",
       "</style>\n",
       "<table border=\"1\" class=\"dataframe\">\n",
       "  <thead>\n",
       "    <tr style=\"text-align: right;\">\n",
       "      <th>Metric</th>\n",
       "      <th>Seed Function</th>\n",
       "      <th>Graph Modification</th>\n",
       "      <th>Avg Activated Nodes</th>\n",
       "      <th>Activated Nodes Std Dev</th>\n",
       "      <th>Avg Activated Nodes, Color (0)</th>\n",
       "      <th>Activated Nodes Std Dev, Color (0)</th>\n",
       "      <th>Avg Activated Nodes, Color (1)</th>\n",
       "      <th>Activated Nodes Std Dev, Color (1)</th>\n",
       "      <th>Avg Color Activation Count</th>\n",
       "      <th>Color Activation Count Std Dev</th>\n",
       "      <th>Number of Nodes</th>\n",
       "      <th>Number of Edges</th>\n",
       "    </tr>\n",
       "  </thead>\n",
       "  <tbody>\n",
       "    <tr>\n",
       "      <th>0</th>\n",
       "      <td>Centrality</td>\n",
       "      <td>Original Graph</td>\n",
       "      <td>992.326</td>\n",
       "      <td>196.030</td>\n",
       "      <td>404.964</td>\n",
       "      <td>115.929</td>\n",
       "      <td>587.362</td>\n",
       "      <td>83.946</td>\n",
       "      <td>420.468</td>\n",
       "      <td>174.732</td>\n",
       "      <td>10000.0</td>\n",
       "      <td>99990.0</td>\n",
       "    </tr>\n",
       "    <tr>\n",
       "      <th>1</th>\n",
       "      <td>Centrality</td>\n",
       "      <td>PrefAtt</td>\n",
       "      <td>8504.000</td>\n",
       "      <td>0.000</td>\n",
       "      <td>5941.000</td>\n",
       "      <td>0.000</td>\n",
       "      <td>2563.000</td>\n",
       "      <td>0.000</td>\n",
       "      <td>21225.086</td>\n",
       "      <td>6696.871</td>\n",
       "      <td>10000.0</td>\n",
       "      <td>101490.0</td>\n",
       "    </tr>\n",
       "    <tr>\n",
       "      <th>2</th>\n",
       "      <td>Centrality</td>\n",
       "      <td>Jaccard</td>\n",
       "      <td>8504.000</td>\n",
       "      <td>0.000</td>\n",
       "      <td>5941.000</td>\n",
       "      <td>0.000</td>\n",
       "      <td>2563.000</td>\n",
       "      <td>0.000</td>\n",
       "      <td>17808.677</td>\n",
       "      <td>4582.032</td>\n",
       "      <td>10000.0</td>\n",
       "      <td>101490.0</td>\n",
       "    </tr>\n",
       "    <tr>\n",
       "      <th>3</th>\n",
       "      <td>Centrality</td>\n",
       "      <td>Degree</td>\n",
       "      <td>8504.000</td>\n",
       "      <td>0.000</td>\n",
       "      <td>5941.000</td>\n",
       "      <td>0.000</td>\n",
       "      <td>2563.000</td>\n",
       "      <td>0.000</td>\n",
       "      <td>6164.043</td>\n",
       "      <td>178.755</td>\n",
       "      <td>10000.0</td>\n",
       "      <td>101490.0</td>\n",
       "    </tr>\n",
       "    <tr>\n",
       "      <th>4</th>\n",
       "      <td>Centrality</td>\n",
       "      <td>TopK</td>\n",
       "      <td>8504.000</td>\n",
       "      <td>0.000</td>\n",
       "      <td>5941.000</td>\n",
       "      <td>0.000</td>\n",
       "      <td>2563.000</td>\n",
       "      <td>0.000</td>\n",
       "      <td>6150.013</td>\n",
       "      <td>163.922</td>\n",
       "      <td>10000.0</td>\n",
       "      <td>101490.0</td>\n",
       "    </tr>\n",
       "    <tr>\n",
       "      <th>...</th>\n",
       "      <td>...</td>\n",
       "      <td>...</td>\n",
       "      <td>...</td>\n",
       "      <td>...</td>\n",
       "      <td>...</td>\n",
       "      <td>...</td>\n",
       "      <td>...</td>\n",
       "      <td>...</td>\n",
       "      <td>...</td>\n",
       "      <td>...</td>\n",
       "      <td>...</td>\n",
       "      <td>...</td>\n",
       "    </tr>\n",
       "    <tr>\n",
       "      <th>76</th>\n",
       "      <td>Random</td>\n",
       "      <td>TopK</td>\n",
       "      <td>8567.000</td>\n",
       "      <td>0.000</td>\n",
       "      <td>5986.000</td>\n",
       "      <td>0.000</td>\n",
       "      <td>2581.000</td>\n",
       "      <td>0.000</td>\n",
       "      <td>15916.617</td>\n",
       "      <td>4845.514</td>\n",
       "      <td>10000.0</td>\n",
       "      <td>101490.0</td>\n",
       "    </tr>\n",
       "    <tr>\n",
       "      <th>77</th>\n",
       "      <td>Random</td>\n",
       "      <td>KKT</td>\n",
       "      <td>8567.000</td>\n",
       "      <td>0.000</td>\n",
       "      <td>5986.000</td>\n",
       "      <td>0.000</td>\n",
       "      <td>2581.000</td>\n",
       "      <td>0.000</td>\n",
       "      <td>6351.893</td>\n",
       "      <td>336.835</td>\n",
       "      <td>10000.0</td>\n",
       "      <td>101490.0</td>\n",
       "    </tr>\n",
       "    <tr>\n",
       "      <th>78</th>\n",
       "      <td>Random</td>\n",
       "      <td>Random</td>\n",
       "      <td>1590.558</td>\n",
       "      <td>297.836</td>\n",
       "      <td>880.124</td>\n",
       "      <td>156.854</td>\n",
       "      <td>710.434</td>\n",
       "      <td>143.749</td>\n",
       "      <td>1176.135</td>\n",
       "      <td>443.972</td>\n",
       "      <td>10000.0</td>\n",
       "      <td>101490.0</td>\n",
       "    </tr>\n",
       "    <tr>\n",
       "      <th>79</th>\n",
       "      <td>Random</td>\n",
       "      <td>Custom</td>\n",
       "      <td>1631.234</td>\n",
       "      <td>305.765</td>\n",
       "      <td>774.164</td>\n",
       "      <td>148.601</td>\n",
       "      <td>857.070</td>\n",
       "      <td>163.268</td>\n",
       "      <td>1353.216</td>\n",
       "      <td>518.735</td>\n",
       "      <td>10000.0</td>\n",
       "      <td>101490.0</td>\n",
       "    </tr>\n",
       "    <tr>\n",
       "      <th>80</th>\n",
       "      <td>Random</td>\n",
       "      <td>Custom V2</td>\n",
       "      <td>1709.139</td>\n",
       "      <td>279.419</td>\n",
       "      <td>945.800</td>\n",
       "      <td>140.530</td>\n",
       "      <td>763.339</td>\n",
       "      <td>142.084</td>\n",
       "      <td>1694.373</td>\n",
       "      <td>535.135</td>\n",
       "      <td>10000.0</td>\n",
       "      <td>101490.0</td>\n",
       "    </tr>\n",
       "  </tbody>\n",
       "</table>\n",
       "<p>81 rows × 12 columns</p>\n",
       "</div>"
      ],
      "text/plain": [
       "Metric Seed Function Graph Modification  Avg Activated Nodes  \\\n",
       "0         Centrality     Original Graph              992.326   \n",
       "1         Centrality            PrefAtt             8504.000   \n",
       "2         Centrality            Jaccard             8504.000   \n",
       "3         Centrality             Degree             8504.000   \n",
       "4         Centrality               TopK             8504.000   \n",
       "..               ...                ...                  ...   \n",
       "76            Random               TopK             8567.000   \n",
       "77            Random                KKT             8567.000   \n",
       "78            Random             Random             1590.558   \n",
       "79            Random             Custom             1631.234   \n",
       "80            Random          Custom V2             1709.139   \n",
       "\n",
       "Metric  Activated Nodes Std Dev  Avg Activated Nodes, Color (0)  \\\n",
       "0                       196.030                         404.964   \n",
       "1                         0.000                        5941.000   \n",
       "2                         0.000                        5941.000   \n",
       "3                         0.000                        5941.000   \n",
       "4                         0.000                        5941.000   \n",
       "..                          ...                             ...   \n",
       "76                        0.000                        5986.000   \n",
       "77                        0.000                        5986.000   \n",
       "78                      297.836                         880.124   \n",
       "79                      305.765                         774.164   \n",
       "80                      279.419                         945.800   \n",
       "\n",
       "Metric  Activated Nodes Std Dev, Color (0)  Avg Activated Nodes, Color (1)  \\\n",
       "0                                  115.929                         587.362   \n",
       "1                                    0.000                        2563.000   \n",
       "2                                    0.000                        2563.000   \n",
       "3                                    0.000                        2563.000   \n",
       "4                                    0.000                        2563.000   \n",
       "..                                     ...                             ...   \n",
       "76                                   0.000                        2581.000   \n",
       "77                                   0.000                        2581.000   \n",
       "78                                 156.854                         710.434   \n",
       "79                                 148.601                         857.070   \n",
       "80                                 140.530                         763.339   \n",
       "\n",
       "Metric  Activated Nodes Std Dev, Color (1)  Avg Color Activation Count  \\\n",
       "0                                   83.946                     420.468   \n",
       "1                                    0.000                   21225.086   \n",
       "2                                    0.000                   17808.677   \n",
       "3                                    0.000                    6164.043   \n",
       "4                                    0.000                    6150.013   \n",
       "..                                     ...                         ...   \n",
       "76                                   0.000                   15916.617   \n",
       "77                                   0.000                    6351.893   \n",
       "78                                 143.749                    1176.135   \n",
       "79                                 163.268                    1353.216   \n",
       "80                                 142.084                    1694.373   \n",
       "\n",
       "Metric  Color Activation Count Std Dev  Number of Nodes  Number of Edges  \n",
       "0                              174.732          10000.0          99990.0  \n",
       "1                             6696.871          10000.0         101490.0  \n",
       "2                             4582.032          10000.0         101490.0  \n",
       "3                              178.755          10000.0         101490.0  \n",
       "4                              163.922          10000.0         101490.0  \n",
       "..                                 ...              ...              ...  \n",
       "76                            4845.514          10000.0         101490.0  \n",
       "77                             336.835          10000.0         101490.0  \n",
       "78                             443.972          10000.0         101490.0  \n",
       "79                             518.735          10000.0         101490.0  \n",
       "80                             535.135          10000.0         101490.0  \n",
       "\n",
       "[81 rows x 12 columns]"
      ]
     },
     "execution_count": 9,
     "metadata": {},
     "output_type": "execute_result"
    }
   ],
   "source": [
    "# Define your seed functions\n",
    "seed_functions = {\n",
    "    \"Random\": seed_random,\n",
    "    \"MIA\": lambda G, seed_size: seed_influence_maximization(G, seed_size, 200, 8, 1),\n",
    "    \"Degree\": seed_degree,\n",
    "    \"Centrality\": seed_centrality,\n",
    "    \"Centrality Mixed\": seed_centrality_mixed,\n",
    "    \"Polarized\": lambda G, seed_size: seed_polarized(G, seed_size, 0),\n",
    "    \"Polarized Degree\": lambda G, seed_size: seed_polarized_degree(G, seed_size, 0),\n",
    "    \"Polarized Centrality\": lambda G, seed_size: seed_polarized_centrality(G, seed_size, 0),\n",
    "    \"Polarized Centrality Mixed\": lambda G, seed_size: seed_polarized_centrality_mixed(G, seed_size, 0),\n",
    "}\n",
    "\n",
    "# Example of how to call the function\n",
    "all_results_df = evaluate_all_seeds(G, seed_functions, seed_size, k, max_iter, budget, \"netin_05\")\n",
    "\n",
    "# Display the combined results\n",
    "print(\"Combined Results for All Seed Functions\")\n",
    "all_results_df"
   ]
  },
  {
   "cell_type": "code",
   "execution_count": 10,
   "metadata": {},
   "outputs": [],
   "source": [
    "all_results_df.to_csv(f\"results/results_netin_{N}_nodes_{h}_hvalue_{d}_density_{plo}_plo.csv\", index=False)"
   ]
  },
  {
   "cell_type": "code",
   "execution_count": null,
   "metadata": {},
   "outputs": [],
   "source": []
  }
 ],
 "metadata": {
  "kernelspec": {
   "display_name": "base",
   "language": "python",
   "name": "python3"
  },
  "language_info": {
   "codemirror_mode": {
    "name": "ipython",
    "version": 3
   },
   "file_extension": ".py",
   "mimetype": "text/x-python",
   "name": "python",
   "nbconvert_exporter": "python",
   "pygments_lexer": "ipython3",
   "version": "3.9.15"
  }
 },
 "nbformat": 4,
 "nbformat_minor": 2
}
