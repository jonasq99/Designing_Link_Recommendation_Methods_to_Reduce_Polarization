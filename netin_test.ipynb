{
 "cells": [
  {
   "cell_type": "code",
   "execution_count": 1,
   "metadata": {},
   "outputs": [],
   "source": [
    "from netin.models import DPAHModel"
   ]
  },
  {
   "cell_type": "code",
   "execution_count": 2,
   "metadata": {},
   "outputs": [],
   "source": [
    "#TODO: check icm diffusion model, error when generating the random values, always reusing the same ones over and over again!!!!\n",
    "#TODO: reduce seed size, to have more variability in the results\n",
    "#TODO: Change budget amount, and see if one then have more variability in the results\n",
    "#TODO: Change the density of the graph"
   ]
  },
  {
   "cell_type": "code",
   "execution_count": 3,
   "metadata": {},
   "outputs": [],
   "source": [
    "from multiprocessing import Pool, cpu_count\n",
    "from typing import Dict, List, Set\n",
    "\n",
    "\n",
    "from src.seed import (seed_degree, \n",
    "    seed_polarized, \n",
    "    seed_random, \n",
    "    seed_polarized_centrality_mixed, \n",
    "    seed_polarized_centrality, \n",
    "    seed_polarized_degree, \n",
    "    seed_centrality_mixed, \n",
    "    seed_centrality, \n",
    "    seed_influence_maximization\n",
    ")\n",
    "\n",
    "\n",
    "from evaluation import evaluate_all_seeds"
   ]
  },
  {
   "cell_type": "markdown",
   "metadata": {},
   "source": [
    "This model connects a new node to the existing nodes biased by their group assignment. Homophily values of $h > 0.5$ indicate homophily, meaning that nodes prefer to connect to their own group. Heterophily is specified by $h < 0.5$. Nodes tend to connect to the other group.\n",
    "\n",
    "Instead of the number of links per each new node, the directed graph models parameterize the density of the final network by the parameter $d$. Additionally, we need to define activity levels for outgoing links for both the minority and majority group as $plo_m/M$"
   ]
  },
  {
   "cell_type": "code",
   "execution_count": 4,
   "metadata": {},
   "outputs": [],
   "source": [
    "N = 10_000 # Number of total nodes\n",
    "f_m = 0.3 # Fraction of minority nodes\n",
    "h = 0.9 # Homophilic\n",
    "d = 0.002 # desity of the graph\n",
    "plo = 1.9\n",
    "#final number of edges will be: e = d * n (n-1)"
   ]
  },
  {
   "cell_type": "code",
   "execution_count": 5,
   "metadata": {},
   "outputs": [],
   "source": [
    "# DPAH graphs:\n",
    "# Homophilic h > 0.5\n",
    "# Neutral h = 0.5\n",
    "# Heterophilic h < 0.5\n",
    "\n",
    "homophily_values = [0.1, 0.5, 0.9]"
   ]
  },
  {
   "cell_type": "code",
   "execution_count": 6,
   "metadata": {},
   "outputs": [],
   "source": [
    "dpa_model = DPAHModel(N=N, f_m=f_m, d=d, plo_M=plo, plo_m=plo, h_M=h, h_m=h, seed=12345)\n",
    "dpa_graph = dpa_model.simulate()"
   ]
  },
  {
   "cell_type": "code",
   "execution_count": 7,
   "metadata": {},
   "outputs": [],
   "source": [
    "G = dpa_graph.to_nxgraph() # This creates a copy of the graph\n",
    "\n",
    "for node, attr in G.nodes(data=True):\n",
    "    attr['color'] = attr.pop('minority')\n",
    "\n",
    "for node in G.nodes():\n",
    "        in_degree = G.in_degree(node)\n",
    "        for neighbor in G.successors(node):\n",
    "            G[node][neighbor][\"weight\"] = 1 / (2 * in_degree) if in_degree > 0 else 1"
   ]
  },
  {
   "cell_type": "code",
   "execution_count": 8,
   "metadata": {},
   "outputs": [
    {
     "name": "stdout",
     "output_type": "stream",
     "text": [
      "Seed size: 500\n"
     ]
    }
   ],
   "source": [
    "seed_size = G.number_of_nodes() // 20\n",
    "print(f\"Seed size: {seed_size}\")\n",
    "k = seed_size\n",
    "max_iter = 1000\n",
    "budget = 3 * seed_size"
   ]
  },
  {
   "cell_type": "code",
   "execution_count": 9,
   "metadata": {},
   "outputs": [
    {
     "name": "stdout",
     "output_type": "stream",
     "text": [
      "Running evaluation for seed function: Random\n",
      "    Running evaluation for graph modification: Original Graph\n"
     ]
    },
    {
     "name": "stderr",
     "output_type": "stream",
     "text": [
      "100%|██████████| 1000/1000 [00:30<00:00, 32.39it/s]\n"
     ]
    },
    {
     "name": "stdout",
     "output_type": "stream",
     "text": [
      "    Running evaluation for graph modification: Random\n"
     ]
    },
    {
     "name": "stderr",
     "output_type": "stream",
     "text": [
      "100%|██████████| 1000/1000 [00:40<00:00, 24.73it/s]\n"
     ]
    },
    {
     "name": "stdout",
     "output_type": "stream",
     "text": [
      "    Running evaluation for graph modification: Degree\n"
     ]
    },
    {
     "name": "stderr",
     "output_type": "stream",
     "text": [
      "100%|██████████| 1000/1000 [01:23<00:00, 12.03it/s]\n"
     ]
    },
    {
     "name": "stdout",
     "output_type": "stream",
     "text": [
      "    Running evaluation for graph modification: PrefAtt\n"
     ]
    },
    {
     "name": "stderr",
     "output_type": "stream",
     "text": [
      "100%|██████████| 1000/1000 [01:27<00:00, 11.47it/s]\n"
     ]
    },
    {
     "name": "stdout",
     "output_type": "stream",
     "text": [
      "    Running evaluation for graph modification: Jaccard\n"
     ]
    },
    {
     "name": "stderr",
     "output_type": "stream",
     "text": [
      "100%|██████████| 1000/1000 [00:39<00:00, 25.38it/s]\n"
     ]
    },
    {
     "name": "stdout",
     "output_type": "stream",
     "text": [
      "    Running evaluation for graph modification: TopK\n"
     ]
    },
    {
     "name": "stderr",
     "output_type": "stream",
     "text": [
      "100%|██████████| 10000/10000 [06:31<00:00, 25.55it/s]\n",
      "100%|██████████| 1000/1000 [01:23<00:00, 12.02it/s]\n"
     ]
    },
    {
     "name": "stdout",
     "output_type": "stream",
     "text": [
      "    Running evaluation for graph modification: KKT\n"
     ]
    },
    {
     "name": "stderr",
     "output_type": "stream",
     "text": [
      "100%|██████████| 1000/1000 [01:34<00:00, 10.62it/s]\n"
     ]
    },
    {
     "name": "stdout",
     "output_type": "stream",
     "text": [
      "    Running evaluation for graph modification: Custom\n"
     ]
    },
    {
     "name": "stderr",
     "output_type": "stream",
     "text": [
      "100%|██████████| 10000/10000 [01:46<00:00, 93.79it/s]\n",
      "100%|██████████| 1000/1000 [00:42<00:00, 23.65it/s]\n"
     ]
    },
    {
     "name": "stdout",
     "output_type": "stream",
     "text": [
      "    Running evaluation for graph modification: Custom V2\n"
     ]
    },
    {
     "name": "stderr",
     "output_type": "stream",
     "text": [
      "100%|██████████| 10000/10000 [01:46<00:00, 94.02it/s]\n",
      "100%|██████████| 1000/1000 [00:42<00:00, 23.69it/s]\n"
     ]
    },
    {
     "name": "stdout",
     "output_type": "stream",
     "text": [
      "Running evaluation for seed function: MIA\n"
     ]
    },
    {
     "name": "stderr",
     "output_type": "stream",
     "text": [
      "Initial influence calculation: 100%|██████████| 10000/10000 [06:36<00:00, 25.20node/s]  \n",
      "Selecting seeds: 100%|██████████| 500/500 [13:38<00:00,  1.64s/seed]  \n"
     ]
    },
    {
     "name": "stdout",
     "output_type": "stream",
     "text": [
      "    Running evaluation for graph modification: Original Graph\n"
     ]
    },
    {
     "name": "stderr",
     "output_type": "stream",
     "text": [
      "100%|██████████| 1000/1000 [00:29<00:00, 34.16it/s]\n"
     ]
    },
    {
     "name": "stdout",
     "output_type": "stream",
     "text": [
      "    Running evaluation for graph modification: Random\n"
     ]
    },
    {
     "name": "stderr",
     "output_type": "stream",
     "text": [
      "100%|██████████| 1000/1000 [00:33<00:00, 29.41it/s]\n"
     ]
    },
    {
     "name": "stdout",
     "output_type": "stream",
     "text": [
      "    Running evaluation for graph modification: Degree\n"
     ]
    },
    {
     "name": "stderr",
     "output_type": "stream",
     "text": [
      "100%|██████████| 1000/1000 [00:33<00:00, 29.57it/s]\n"
     ]
    },
    {
     "name": "stdout",
     "output_type": "stream",
     "text": [
      "    Running evaluation for graph modification: PrefAtt\n"
     ]
    },
    {
     "name": "stderr",
     "output_type": "stream",
     "text": [
      "100%|██████████| 1000/1000 [00:34<00:00, 28.69it/s]\n"
     ]
    },
    {
     "name": "stdout",
     "output_type": "stream",
     "text": [
      "    Running evaluation for graph modification: Jaccard\n"
     ]
    },
    {
     "name": "stderr",
     "output_type": "stream",
     "text": [
      "100%|██████████| 1000/1000 [00:33<00:00, 29.70it/s]\n"
     ]
    },
    {
     "name": "stdout",
     "output_type": "stream",
     "text": [
      "    Running evaluation for graph modification: TopK\n"
     ]
    },
    {
     "name": "stderr",
     "output_type": "stream",
     "text": [
      "100%|██████████| 10000/10000 [06:01<00:00, 27.65it/s]\n",
      "100%|██████████| 1000/1000 [00:33<00:00, 29.46it/s]\n"
     ]
    },
    {
     "name": "stdout",
     "output_type": "stream",
     "text": [
      "    Running evaluation for graph modification: KKT\n"
     ]
    },
    {
     "name": "stderr",
     "output_type": "stream",
     "text": [
      "100%|██████████| 1000/1000 [00:34<00:00, 28.93it/s]\n"
     ]
    },
    {
     "name": "stdout",
     "output_type": "stream",
     "text": [
      "    Running evaluation for graph modification: Custom\n"
     ]
    },
    {
     "name": "stderr",
     "output_type": "stream",
     "text": [
      "100%|██████████| 10000/10000 [02:02<00:00, 81.74it/s]\n",
      "100%|██████████| 1000/1000 [00:33<00:00, 30.01it/s]\n"
     ]
    },
    {
     "name": "stdout",
     "output_type": "stream",
     "text": [
      "    Running evaluation for graph modification: Custom V2\n"
     ]
    },
    {
     "name": "stderr",
     "output_type": "stream",
     "text": [
      "100%|██████████| 10000/10000 [02:02<00:00, 81.75it/s]\n",
      "100%|██████████| 1000/1000 [00:32<00:00, 30.64it/s]\n"
     ]
    },
    {
     "name": "stdout",
     "output_type": "stream",
     "text": [
      "Running evaluation for seed function: Degree\n",
      "    Running evaluation for graph modification: Original Graph\n"
     ]
    },
    {
     "name": "stderr",
     "output_type": "stream",
     "text": [
      "100%|██████████| 1000/1000 [01:11<00:00, 14.05it/s]\n"
     ]
    },
    {
     "name": "stdout",
     "output_type": "stream",
     "text": [
      "    Running evaluation for graph modification: Random\n"
     ]
    },
    {
     "name": "stderr",
     "output_type": "stream",
     "text": [
      "100%|██████████| 1000/1000 [01:17<00:00, 12.91it/s]\n"
     ]
    },
    {
     "name": "stdout",
     "output_type": "stream",
     "text": [
      "    Running evaluation for graph modification: Degree\n"
     ]
    },
    {
     "name": "stderr",
     "output_type": "stream",
     "text": [
      "100%|██████████| 1000/1000 [01:14<00:00, 13.36it/s]\n"
     ]
    },
    {
     "name": "stdout",
     "output_type": "stream",
     "text": [
      "    Running evaluation for graph modification: PrefAtt\n"
     ]
    },
    {
     "name": "stderr",
     "output_type": "stream",
     "text": [
      "100%|██████████| 1000/1000 [01:17<00:00, 12.83it/s]\n"
     ]
    },
    {
     "name": "stdout",
     "output_type": "stream",
     "text": [
      "    Running evaluation for graph modification: Jaccard\n"
     ]
    },
    {
     "name": "stderr",
     "output_type": "stream",
     "text": [
      "100%|██████████| 1000/1000 [01:15<00:00, 13.18it/s]\n"
     ]
    },
    {
     "name": "stdout",
     "output_type": "stream",
     "text": [
      "    Running evaluation for graph modification: TopK\n"
     ]
    },
    {
     "name": "stderr",
     "output_type": "stream",
     "text": [
      "100%|██████████| 10000/10000 [06:04<00:00, 27.40it/s]\n",
      "100%|██████████| 1000/1000 [01:17<00:00, 12.94it/s]\n"
     ]
    },
    {
     "name": "stdout",
     "output_type": "stream",
     "text": [
      "    Running evaluation for graph modification: KKT\n"
     ]
    },
    {
     "name": "stderr",
     "output_type": "stream",
     "text": [
      "100%|██████████| 1000/1000 [01:15<00:00, 13.16it/s]\n"
     ]
    },
    {
     "name": "stdout",
     "output_type": "stream",
     "text": [
      "    Running evaluation for graph modification: Custom\n"
     ]
    },
    {
     "name": "stderr",
     "output_type": "stream",
     "text": [
      "100%|██████████| 10000/10000 [01:42<00:00, 97.16it/s] \n",
      "100%|██████████| 1000/1000 [01:17<00:00, 12.89it/s]\n"
     ]
    },
    {
     "name": "stdout",
     "output_type": "stream",
     "text": [
      "    Running evaluation for graph modification: Custom V2\n"
     ]
    },
    {
     "name": "stderr",
     "output_type": "stream",
     "text": [
      "100%|██████████| 10000/10000 [01:44<00:00, 95.90it/s] \n",
      "100%|██████████| 1000/1000 [01:17<00:00, 12.88it/s]\n"
     ]
    },
    {
     "name": "stdout",
     "output_type": "stream",
     "text": [
      "Running evaluation for seed function: Centrality\n",
      "    Running evaluation for graph modification: Original Graph\n"
     ]
    },
    {
     "name": "stderr",
     "output_type": "stream",
     "text": [
      "100%|██████████| 1000/1000 [00:21<00:00, 46.26it/s]\n"
     ]
    },
    {
     "name": "stdout",
     "output_type": "stream",
     "text": [
      "    Running evaluation for graph modification: Random\n"
     ]
    },
    {
     "name": "stderr",
     "output_type": "stream",
     "text": [
      "100%|██████████| 1000/1000 [00:26<00:00, 37.92it/s]\n"
     ]
    },
    {
     "name": "stdout",
     "output_type": "stream",
     "text": [
      "    Running evaluation for graph modification: Degree\n"
     ]
    },
    {
     "name": "stderr",
     "output_type": "stream",
     "text": [
      "100%|██████████| 1000/1000 [01:12<00:00, 13.82it/s]\n"
     ]
    },
    {
     "name": "stdout",
     "output_type": "stream",
     "text": [
      "    Running evaluation for graph modification: PrefAtt\n"
     ]
    },
    {
     "name": "stderr",
     "output_type": "stream",
     "text": [
      "100%|██████████| 1000/1000 [00:56<00:00, 17.83it/s]\n"
     ]
    },
    {
     "name": "stdout",
     "output_type": "stream",
     "text": [
      "    Running evaluation for graph modification: Jaccard\n"
     ]
    },
    {
     "name": "stderr",
     "output_type": "stream",
     "text": [
      "100%|██████████| 1000/1000 [01:29<00:00, 11.11it/s]\n"
     ]
    },
    {
     "name": "stdout",
     "output_type": "stream",
     "text": [
      "    Running evaluation for graph modification: TopK\n"
     ]
    },
    {
     "name": "stderr",
     "output_type": "stream",
     "text": [
      "100%|██████████| 10000/10000 [06:25<00:00, 25.97it/s]\n",
      "100%|██████████| 1000/1000 [01:22<00:00, 12.14it/s]\n"
     ]
    },
    {
     "name": "stdout",
     "output_type": "stream",
     "text": [
      "    Running evaluation for graph modification: KKT\n"
     ]
    },
    {
     "name": "stderr",
     "output_type": "stream",
     "text": [
      "100%|██████████| 1000/1000 [01:15<00:00, 13.31it/s]\n"
     ]
    },
    {
     "name": "stdout",
     "output_type": "stream",
     "text": [
      "    Running evaluation for graph modification: Custom\n"
     ]
    },
    {
     "name": "stderr",
     "output_type": "stream",
     "text": [
      "100%|██████████| 10000/10000 [01:28<00:00, 113.11it/s]\n",
      "100%|██████████| 1000/1000 [00:33<00:00, 29.69it/s]\n"
     ]
    },
    {
     "name": "stdout",
     "output_type": "stream",
     "text": [
      "    Running evaluation for graph modification: Custom V2\n"
     ]
    },
    {
     "name": "stderr",
     "output_type": "stream",
     "text": [
      "100%|██████████| 10000/10000 [01:27<00:00, 114.55it/s]\n",
      "100%|██████████| 1000/1000 [00:29<00:00, 33.93it/s]\n"
     ]
    },
    {
     "name": "stdout",
     "output_type": "stream",
     "text": [
      "Running evaluation for seed function: Centrality Mixed\n",
      "    Running evaluation for graph modification: Original Graph\n"
     ]
    },
    {
     "name": "stderr",
     "output_type": "stream",
     "text": [
      "100%|██████████| 1000/1000 [00:32<00:00, 30.41it/s]\n"
     ]
    },
    {
     "name": "stdout",
     "output_type": "stream",
     "text": [
      "    Running evaluation for graph modification: Random\n"
     ]
    },
    {
     "name": "stderr",
     "output_type": "stream",
     "text": [
      "100%|██████████| 1000/1000 [01:19<00:00, 12.63it/s]\n"
     ]
    },
    {
     "name": "stdout",
     "output_type": "stream",
     "text": [
      "    Running evaluation for graph modification: Degree\n"
     ]
    },
    {
     "name": "stderr",
     "output_type": "stream",
     "text": [
      "100%|██████████| 1000/1000 [01:26<00:00, 11.58it/s]\n"
     ]
    },
    {
     "name": "stdout",
     "output_type": "stream",
     "text": [
      "    Running evaluation for graph modification: PrefAtt\n"
     ]
    },
    {
     "name": "stderr",
     "output_type": "stream",
     "text": [
      "100%|██████████| 1000/1000 [01:36<00:00, 10.40it/s]\n"
     ]
    },
    {
     "name": "stdout",
     "output_type": "stream",
     "text": [
      "    Running evaluation for graph modification: Jaccard\n"
     ]
    },
    {
     "name": "stderr",
     "output_type": "stream",
     "text": [
      "100%|██████████| 1000/1000 [01:35<00:00, 10.45it/s]\n"
     ]
    },
    {
     "name": "stdout",
     "output_type": "stream",
     "text": [
      "    Running evaluation for graph modification: TopK\n"
     ]
    },
    {
     "name": "stderr",
     "output_type": "stream",
     "text": [
      "100%|██████████| 10000/10000 [06:15<00:00, 26.60it/s]\n",
      "100%|██████████| 1000/1000 [01:31<00:00, 10.97it/s]\n"
     ]
    },
    {
     "name": "stdout",
     "output_type": "stream",
     "text": [
      "    Running evaluation for graph modification: KKT\n"
     ]
    },
    {
     "name": "stderr",
     "output_type": "stream",
     "text": [
      "100%|██████████| 1000/1000 [01:28<00:00, 11.26it/s]\n"
     ]
    },
    {
     "name": "stdout",
     "output_type": "stream",
     "text": [
      "    Running evaluation for graph modification: Custom\n"
     ]
    },
    {
     "name": "stderr",
     "output_type": "stream",
     "text": [
      "100%|██████████| 10000/10000 [01:28<00:00, 113.27it/s]\n",
      "100%|██████████| 1000/1000 [00:42<00:00, 23.63it/s]\n"
     ]
    },
    {
     "name": "stdout",
     "output_type": "stream",
     "text": [
      "    Running evaluation for graph modification: Custom V2\n"
     ]
    },
    {
     "name": "stderr",
     "output_type": "stream",
     "text": [
      "100%|██████████| 10000/10000 [01:28<00:00, 113.36it/s]\n",
      "100%|██████████| 1000/1000 [00:40<00:00, 24.79it/s]\n"
     ]
    },
    {
     "name": "stdout",
     "output_type": "stream",
     "text": [
      "Running evaluation for seed function: Polarized\n",
      "    Running evaluation for graph modification: Original Graph\n"
     ]
    },
    {
     "name": "stderr",
     "output_type": "stream",
     "text": [
      "100%|██████████| 1000/1000 [00:24<00:00, 40.61it/s]\n"
     ]
    },
    {
     "name": "stdout",
     "output_type": "stream",
     "text": [
      "    Running evaluation for graph modification: Random\n"
     ]
    },
    {
     "name": "stderr",
     "output_type": "stream",
     "text": [
      "100%|██████████| 1000/1000 [00:36<00:00, 27.10it/s]\n"
     ]
    },
    {
     "name": "stdout",
     "output_type": "stream",
     "text": [
      "    Running evaluation for graph modification: Degree\n"
     ]
    },
    {
     "name": "stderr",
     "output_type": "stream",
     "text": [
      "100%|██████████| 1000/1000 [01:03<00:00, 15.76it/s]\n"
     ]
    },
    {
     "name": "stdout",
     "output_type": "stream",
     "text": [
      "    Running evaluation for graph modification: PrefAtt\n"
     ]
    },
    {
     "name": "stderr",
     "output_type": "stream",
     "text": [
      "100%|██████████| 1000/1000 [01:02<00:00, 16.04it/s]\n"
     ]
    },
    {
     "name": "stdout",
     "output_type": "stream",
     "text": [
      "    Running evaluation for graph modification: Jaccard\n"
     ]
    },
    {
     "name": "stderr",
     "output_type": "stream",
     "text": [
      "100%|██████████| 1000/1000 [00:33<00:00, 29.63it/s]\n"
     ]
    },
    {
     "name": "stdout",
     "output_type": "stream",
     "text": [
      "    Running evaluation for graph modification: TopK\n"
     ]
    },
    {
     "name": "stderr",
     "output_type": "stream",
     "text": [
      "100%|██████████| 10000/10000 [06:22<00:00, 26.12it/s]\n",
      "100%|██████████| 1000/1000 [01:42<00:00,  9.80it/s]\n"
     ]
    },
    {
     "name": "stdout",
     "output_type": "stream",
     "text": [
      "    Running evaluation for graph modification: KKT\n"
     ]
    },
    {
     "name": "stderr",
     "output_type": "stream",
     "text": [
      "100%|██████████| 1000/1000 [01:24<00:00, 11.82it/s]\n"
     ]
    },
    {
     "name": "stdout",
     "output_type": "stream",
     "text": [
      "    Running evaluation for graph modification: Custom\n"
     ]
    },
    {
     "name": "stderr",
     "output_type": "stream",
     "text": [
      "100%|██████████| 10000/10000 [01:22<00:00, 121.82it/s]\n",
      "100%|██████████| 1000/1000 [00:46<00:00, 21.53it/s]\n"
     ]
    },
    {
     "name": "stdout",
     "output_type": "stream",
     "text": [
      "    Running evaluation for graph modification: Custom V2\n"
     ]
    },
    {
     "name": "stderr",
     "output_type": "stream",
     "text": [
      "100%|██████████| 10000/10000 [01:22<00:00, 121.78it/s]\n",
      "100%|██████████| 1000/1000 [00:45<00:00, 22.22it/s]\n"
     ]
    },
    {
     "name": "stdout",
     "output_type": "stream",
     "text": [
      "Running evaluation for seed function: Polarized Degree\n",
      "    Running evaluation for graph modification: Original Graph\n"
     ]
    },
    {
     "name": "stderr",
     "output_type": "stream",
     "text": [
      "100%|██████████| 1000/1000 [00:51<00:00, 19.47it/s]\n"
     ]
    },
    {
     "name": "stdout",
     "output_type": "stream",
     "text": [
      "    Running evaluation for graph modification: Random\n"
     ]
    },
    {
     "name": "stderr",
     "output_type": "stream",
     "text": [
      "100%|██████████| 1000/1000 [00:56<00:00, 17.56it/s]\n"
     ]
    },
    {
     "name": "stdout",
     "output_type": "stream",
     "text": [
      "    Running evaluation for graph modification: Degree\n"
     ]
    },
    {
     "name": "stderr",
     "output_type": "stream",
     "text": [
      "100%|██████████| 1000/1000 [00:57<00:00, 17.45it/s]\n"
     ]
    },
    {
     "name": "stdout",
     "output_type": "stream",
     "text": [
      "    Running evaluation for graph modification: PrefAtt\n"
     ]
    },
    {
     "name": "stderr",
     "output_type": "stream",
     "text": [
      "100%|██████████| 1000/1000 [00:56<00:00, 17.70it/s]\n"
     ]
    },
    {
     "name": "stdout",
     "output_type": "stream",
     "text": [
      "    Running evaluation for graph modification: Jaccard\n"
     ]
    },
    {
     "name": "stderr",
     "output_type": "stream",
     "text": [
      "100%|██████████| 1000/1000 [00:57<00:00, 17.41it/s]\n"
     ]
    },
    {
     "name": "stdout",
     "output_type": "stream",
     "text": [
      "    Running evaluation for graph modification: TopK\n"
     ]
    },
    {
     "name": "stderr",
     "output_type": "stream",
     "text": [
      "100%|██████████| 10000/10000 [06:24<00:00, 26.03it/s]\n",
      "100%|██████████| 1000/1000 [00:58<00:00, 17.19it/s]\n"
     ]
    },
    {
     "name": "stdout",
     "output_type": "stream",
     "text": [
      "    Running evaluation for graph modification: KKT\n"
     ]
    },
    {
     "name": "stderr",
     "output_type": "stream",
     "text": [
      "100%|██████████| 1000/1000 [00:56<00:00, 17.76it/s]\n"
     ]
    },
    {
     "name": "stdout",
     "output_type": "stream",
     "text": [
      "    Running evaluation for graph modification: Custom\n"
     ]
    },
    {
     "name": "stderr",
     "output_type": "stream",
     "text": [
      "100%|██████████| 10000/10000 [01:22<00:00, 121.32it/s]\n",
      "100%|██████████| 1000/1000 [00:57<00:00, 17.26it/s]\n"
     ]
    },
    {
     "name": "stdout",
     "output_type": "stream",
     "text": [
      "    Running evaluation for graph modification: Custom V2\n"
     ]
    },
    {
     "name": "stderr",
     "output_type": "stream",
     "text": [
      "100%|██████████| 10000/10000 [01:22<00:00, 121.41it/s]\n",
      "100%|██████████| 1000/1000 [00:58<00:00, 17.23it/s]\n"
     ]
    },
    {
     "name": "stdout",
     "output_type": "stream",
     "text": [
      "Running evaluation for seed function: Polarized Centrality\n",
      "    Running evaluation for graph modification: Original Graph\n"
     ]
    },
    {
     "name": "stderr",
     "output_type": "stream",
     "text": [
      "100%|██████████| 1000/1000 [00:20<00:00, 49.90it/s]\n"
     ]
    },
    {
     "name": "stdout",
     "output_type": "stream",
     "text": [
      "    Running evaluation for graph modification: Random\n"
     ]
    },
    {
     "name": "stderr",
     "output_type": "stream",
     "text": [
      "100%|██████████| 1000/1000 [00:28<00:00, 34.79it/s]\n"
     ]
    },
    {
     "name": "stdout",
     "output_type": "stream",
     "text": [
      "    Running evaluation for graph modification: Degree\n"
     ]
    },
    {
     "name": "stderr",
     "output_type": "stream",
     "text": [
      "100%|██████████| 1000/1000 [01:25<00:00, 11.68it/s]\n"
     ]
    },
    {
     "name": "stdout",
     "output_type": "stream",
     "text": [
      "    Running evaluation for graph modification: PrefAtt\n"
     ]
    },
    {
     "name": "stderr",
     "output_type": "stream",
     "text": [
      "100%|██████████| 1000/1000 [00:56<00:00, 17.79it/s]\n"
     ]
    },
    {
     "name": "stdout",
     "output_type": "stream",
     "text": [
      "    Running evaluation for graph modification: Jaccard\n"
     ]
    },
    {
     "name": "stderr",
     "output_type": "stream",
     "text": [
      "100%|██████████| 1000/1000 [01:30<00:00, 11.00it/s]\n"
     ]
    },
    {
     "name": "stdout",
     "output_type": "stream",
     "text": [
      "    Running evaluation for graph modification: TopK\n"
     ]
    },
    {
     "name": "stderr",
     "output_type": "stream",
     "text": [
      "100%|██████████| 10000/10000 [06:03<00:00, 27.47it/s]\n",
      "100%|██████████| 1000/1000 [01:31<00:00, 10.93it/s]\n"
     ]
    },
    {
     "name": "stdout",
     "output_type": "stream",
     "text": [
      "    Running evaluation for graph modification: KKT\n"
     ]
    },
    {
     "name": "stderr",
     "output_type": "stream",
     "text": [
      "100%|██████████| 1000/1000 [01:15<00:00, 13.29it/s]\n"
     ]
    },
    {
     "name": "stdout",
     "output_type": "stream",
     "text": [
      "    Running evaluation for graph modification: Custom\n"
     ]
    },
    {
     "name": "stderr",
     "output_type": "stream",
     "text": [
      "100%|██████████| 10000/10000 [01:22<00:00, 121.67it/s]\n",
      "100%|██████████| 1000/1000 [00:37<00:00, 26.44it/s]\n"
     ]
    },
    {
     "name": "stdout",
     "output_type": "stream",
     "text": [
      "    Running evaluation for graph modification: Custom V2\n"
     ]
    },
    {
     "name": "stderr",
     "output_type": "stream",
     "text": [
      "100%|██████████| 10000/10000 [01:22<00:00, 121.88it/s]\n",
      "100%|██████████| 1000/1000 [00:33<00:00, 30.07it/s]\n"
     ]
    },
    {
     "name": "stdout",
     "output_type": "stream",
     "text": [
      "Running evaluation for seed function: Polarized Centrality Mixed\n",
      "    Running evaluation for graph modification: Original Graph\n"
     ]
    },
    {
     "name": "stderr",
     "output_type": "stream",
     "text": [
      "100%|██████████| 1000/1000 [00:28<00:00, 34.69it/s]\n"
     ]
    },
    {
     "name": "stdout",
     "output_type": "stream",
     "text": [
      "    Running evaluation for graph modification: Random\n"
     ]
    },
    {
     "name": "stderr",
     "output_type": "stream",
     "text": [
      "100%|██████████| 1000/1000 [00:35<00:00, 28.36it/s]\n"
     ]
    },
    {
     "name": "stdout",
     "output_type": "stream",
     "text": [
      "    Running evaluation for graph modification: Degree\n"
     ]
    },
    {
     "name": "stderr",
     "output_type": "stream",
     "text": [
      "100%|██████████| 1000/1000 [00:56<00:00, 17.70it/s]\n"
     ]
    },
    {
     "name": "stdout",
     "output_type": "stream",
     "text": [
      "    Running evaluation for graph modification: PrefAtt\n"
     ]
    },
    {
     "name": "stderr",
     "output_type": "stream",
     "text": [
      "100%|██████████| 1000/1000 [00:57<00:00, 17.32it/s]\n"
     ]
    },
    {
     "name": "stdout",
     "output_type": "stream",
     "text": [
      "    Running evaluation for graph modification: Jaccard\n"
     ]
    },
    {
     "name": "stderr",
     "output_type": "stream",
     "text": [
      "100%|██████████| 1000/1000 [01:42<00:00,  9.74it/s]\n"
     ]
    },
    {
     "name": "stdout",
     "output_type": "stream",
     "text": [
      "    Running evaluation for graph modification: TopK\n"
     ]
    },
    {
     "name": "stderr",
     "output_type": "stream",
     "text": [
      "100%|██████████| 10000/10000 [06:00<00:00, 27.77it/s]\n",
      "100%|██████████| 1000/1000 [01:30<00:00, 11.00it/s]\n"
     ]
    },
    {
     "name": "stdout",
     "output_type": "stream",
     "text": [
      "    Running evaluation for graph modification: KKT\n"
     ]
    },
    {
     "name": "stderr",
     "output_type": "stream",
     "text": [
      "100%|██████████| 1000/1000 [01:21<00:00, 12.27it/s]\n"
     ]
    },
    {
     "name": "stdout",
     "output_type": "stream",
     "text": [
      "    Running evaluation for graph modification: Custom\n"
     ]
    },
    {
     "name": "stderr",
     "output_type": "stream",
     "text": [
      "100%|██████████| 10000/10000 [01:21<00:00, 121.97it/s]\n",
      "100%|██████████| 1000/1000 [00:47<00:00, 20.87it/s]\n"
     ]
    },
    {
     "name": "stdout",
     "output_type": "stream",
     "text": [
      "    Running evaluation for graph modification: Custom V2\n"
     ]
    },
    {
     "name": "stderr",
     "output_type": "stream",
     "text": [
      "100%|██████████| 10000/10000 [01:21<00:00, 122.03it/s]\n",
      "100%|██████████| 1000/1000 [00:43<00:00, 23.11it/s]"
     ]
    },
    {
     "name": "stdout",
     "output_type": "stream",
     "text": [
      "Combined Results for All Seed Functions\n"
     ]
    },
    {
     "name": "stderr",
     "output_type": "stream",
     "text": [
      "\n"
     ]
    },
    {
     "data": {
      "text/html": [
       "<div>\n",
       "<style scoped>\n",
       "    .dataframe tbody tr th:only-of-type {\n",
       "        vertical-align: middle;\n",
       "    }\n",
       "\n",
       "    .dataframe tbody tr th {\n",
       "        vertical-align: top;\n",
       "    }\n",
       "\n",
       "    .dataframe thead th {\n",
       "        text-align: right;\n",
       "    }\n",
       "</style>\n",
       "<table border=\"1\" class=\"dataframe\">\n",
       "  <thead>\n",
       "    <tr style=\"text-align: right;\">\n",
       "      <th>Metric</th>\n",
       "      <th>Seed Function</th>\n",
       "      <th>Graph Modification</th>\n",
       "      <th>Avg Activated Nodes</th>\n",
       "      <th>Activated Nodes Std Dev</th>\n",
       "      <th>Avg Activated Nodes, Color (0)</th>\n",
       "      <th>Activated Nodes Std Dev, Color (0)</th>\n",
       "      <th>Avg Activated Nodes, Color (1)</th>\n",
       "      <th>Activated Nodes Std Dev, Color (1)</th>\n",
       "      <th>Avg Color Activation Count</th>\n",
       "      <th>Color Activation Count Std Dev</th>\n",
       "      <th>Number of Nodes</th>\n",
       "      <th>Number of Edges</th>\n",
       "    </tr>\n",
       "  </thead>\n",
       "  <tbody>\n",
       "    <tr>\n",
       "      <th>0</th>\n",
       "      <td>Centrality</td>\n",
       "      <td>Original Graph</td>\n",
       "      <td>626.441</td>\n",
       "      <td>38.383</td>\n",
       "      <td>578.915</td>\n",
       "      <td>28.326</td>\n",
       "      <td>47.526</td>\n",
       "      <td>15.577</td>\n",
       "      <td>10.168</td>\n",
       "      <td>9.412</td>\n",
       "      <td>10000.0</td>\n",
       "      <td>199980.0</td>\n",
       "    </tr>\n",
       "    <tr>\n",
       "      <th>1</th>\n",
       "      <td>Centrality</td>\n",
       "      <td>PrefAtt</td>\n",
       "      <td>9680.000</td>\n",
       "      <td>0.000</td>\n",
       "      <td>6718.000</td>\n",
       "      <td>0.000</td>\n",
       "      <td>2962.000</td>\n",
       "      <td>0.000</td>\n",
       "      <td>3790.043</td>\n",
       "      <td>437.740</td>\n",
       "      <td>10000.0</td>\n",
       "      <td>201480.0</td>\n",
       "    </tr>\n",
       "    <tr>\n",
       "      <th>2</th>\n",
       "      <td>Centrality</td>\n",
       "      <td>Jaccard</td>\n",
       "      <td>9680.000</td>\n",
       "      <td>0.000</td>\n",
       "      <td>6718.000</td>\n",
       "      <td>0.000</td>\n",
       "      <td>2962.000</td>\n",
       "      <td>0.000</td>\n",
       "      <td>9706.306</td>\n",
       "      <td>2475.477</td>\n",
       "      <td>10000.0</td>\n",
       "      <td>201480.0</td>\n",
       "    </tr>\n",
       "    <tr>\n",
       "      <th>3</th>\n",
       "      <td>Centrality</td>\n",
       "      <td>Degree</td>\n",
       "      <td>9680.000</td>\n",
       "      <td>0.000</td>\n",
       "      <td>6718.000</td>\n",
       "      <td>0.000</td>\n",
       "      <td>2962.000</td>\n",
       "      <td>0.000</td>\n",
       "      <td>6612.405</td>\n",
       "      <td>327.575</td>\n",
       "      <td>10000.0</td>\n",
       "      <td>201480.0</td>\n",
       "    </tr>\n",
       "    <tr>\n",
       "      <th>4</th>\n",
       "      <td>Centrality</td>\n",
       "      <td>TopK</td>\n",
       "      <td>9680.000</td>\n",
       "      <td>0.000</td>\n",
       "      <td>6718.000</td>\n",
       "      <td>0.000</td>\n",
       "      <td>2962.000</td>\n",
       "      <td>0.000</td>\n",
       "      <td>7937.529</td>\n",
       "      <td>1476.415</td>\n",
       "      <td>10000.0</td>\n",
       "      <td>201480.0</td>\n",
       "    </tr>\n",
       "    <tr>\n",
       "      <th>...</th>\n",
       "      <td>...</td>\n",
       "      <td>...</td>\n",
       "      <td>...</td>\n",
       "      <td>...</td>\n",
       "      <td>...</td>\n",
       "      <td>...</td>\n",
       "      <td>...</td>\n",
       "      <td>...</td>\n",
       "      <td>...</td>\n",
       "      <td>...</td>\n",
       "      <td>...</td>\n",
       "      <td>...</td>\n",
       "    </tr>\n",
       "    <tr>\n",
       "      <th>76</th>\n",
       "      <td>Random</td>\n",
       "      <td>TopK</td>\n",
       "      <td>9696.000</td>\n",
       "      <td>0.000</td>\n",
       "      <td>6729.000</td>\n",
       "      <td>0.000</td>\n",
       "      <td>2967.000</td>\n",
       "      <td>0.000</td>\n",
       "      <td>6204.092</td>\n",
       "      <td>282.322</td>\n",
       "      <td>10000.0</td>\n",
       "      <td>201480.0</td>\n",
       "    </tr>\n",
       "    <tr>\n",
       "      <th>77</th>\n",
       "      <td>Random</td>\n",
       "      <td>KKT</td>\n",
       "      <td>9696.000</td>\n",
       "      <td>0.000</td>\n",
       "      <td>6729.000</td>\n",
       "      <td>0.000</td>\n",
       "      <td>2967.000</td>\n",
       "      <td>0.000</td>\n",
       "      <td>7922.416</td>\n",
       "      <td>1412.068</td>\n",
       "      <td>10000.0</td>\n",
       "      <td>201480.0</td>\n",
       "    </tr>\n",
       "    <tr>\n",
       "      <th>78</th>\n",
       "      <td>Random</td>\n",
       "      <td>Random</td>\n",
       "      <td>1392.250</td>\n",
       "      <td>111.704</td>\n",
       "      <td>935.160</td>\n",
       "      <td>74.479</td>\n",
       "      <td>457.090</td>\n",
       "      <td>45.844</td>\n",
       "      <td>284.726</td>\n",
       "      <td>45.412</td>\n",
       "      <td>10000.0</td>\n",
       "      <td>201480.0</td>\n",
       "    </tr>\n",
       "    <tr>\n",
       "      <th>79</th>\n",
       "      <td>Random</td>\n",
       "      <td>Custom</td>\n",
       "      <td>1544.845</td>\n",
       "      <td>102.967</td>\n",
       "      <td>863.726</td>\n",
       "      <td>66.373</td>\n",
       "      <td>681.119</td>\n",
       "      <td>44.066</td>\n",
       "      <td>454.263</td>\n",
       "      <td>47.003</td>\n",
       "      <td>10000.0</td>\n",
       "      <td>201480.0</td>\n",
       "    </tr>\n",
       "    <tr>\n",
       "      <th>80</th>\n",
       "      <td>Random</td>\n",
       "      <td>Custom V2</td>\n",
       "      <td>1482.074</td>\n",
       "      <td>108.728</td>\n",
       "      <td>939.145</td>\n",
       "      <td>71.115</td>\n",
       "      <td>542.929</td>\n",
       "      <td>45.696</td>\n",
       "      <td>480.040</td>\n",
       "      <td>49.119</td>\n",
       "      <td>10000.0</td>\n",
       "      <td>201480.0</td>\n",
       "    </tr>\n",
       "  </tbody>\n",
       "</table>\n",
       "<p>81 rows × 12 columns</p>\n",
       "</div>"
      ],
      "text/plain": [
       "Metric Seed Function Graph Modification  Avg Activated Nodes  \\\n",
       "0         Centrality     Original Graph              626.441   \n",
       "1         Centrality            PrefAtt             9680.000   \n",
       "2         Centrality            Jaccard             9680.000   \n",
       "3         Centrality             Degree             9680.000   \n",
       "4         Centrality               TopK             9680.000   \n",
       "..               ...                ...                  ...   \n",
       "76            Random               TopK             9696.000   \n",
       "77            Random                KKT             9696.000   \n",
       "78            Random             Random             1392.250   \n",
       "79            Random             Custom             1544.845   \n",
       "80            Random          Custom V2             1482.074   \n",
       "\n",
       "Metric  Activated Nodes Std Dev  Avg Activated Nodes, Color (0)  \\\n",
       "0                        38.383                         578.915   \n",
       "1                         0.000                        6718.000   \n",
       "2                         0.000                        6718.000   \n",
       "3                         0.000                        6718.000   \n",
       "4                         0.000                        6718.000   \n",
       "..                          ...                             ...   \n",
       "76                        0.000                        6729.000   \n",
       "77                        0.000                        6729.000   \n",
       "78                      111.704                         935.160   \n",
       "79                      102.967                         863.726   \n",
       "80                      108.728                         939.145   \n",
       "\n",
       "Metric  Activated Nodes Std Dev, Color (0)  Avg Activated Nodes, Color (1)  \\\n",
       "0                                   28.326                          47.526   \n",
       "1                                    0.000                        2962.000   \n",
       "2                                    0.000                        2962.000   \n",
       "3                                    0.000                        2962.000   \n",
       "4                                    0.000                        2962.000   \n",
       "..                                     ...                             ...   \n",
       "76                                   0.000                        2967.000   \n",
       "77                                   0.000                        2967.000   \n",
       "78                                  74.479                         457.090   \n",
       "79                                  66.373                         681.119   \n",
       "80                                  71.115                         542.929   \n",
       "\n",
       "Metric  Activated Nodes Std Dev, Color (1)  Avg Color Activation Count  \\\n",
       "0                                   15.577                      10.168   \n",
       "1                                    0.000                    3790.043   \n",
       "2                                    0.000                    9706.306   \n",
       "3                                    0.000                    6612.405   \n",
       "4                                    0.000                    7937.529   \n",
       "..                                     ...                         ...   \n",
       "76                                   0.000                    6204.092   \n",
       "77                                   0.000                    7922.416   \n",
       "78                                  45.844                     284.726   \n",
       "79                                  44.066                     454.263   \n",
       "80                                  45.696                     480.040   \n",
       "\n",
       "Metric  Color Activation Count Std Dev  Number of Nodes  Number of Edges  \n",
       "0                                9.412          10000.0         199980.0  \n",
       "1                              437.740          10000.0         201480.0  \n",
       "2                             2475.477          10000.0         201480.0  \n",
       "3                              327.575          10000.0         201480.0  \n",
       "4                             1476.415          10000.0         201480.0  \n",
       "..                                 ...              ...              ...  \n",
       "76                             282.322          10000.0         201480.0  \n",
       "77                            1412.068          10000.0         201480.0  \n",
       "78                              45.412          10000.0         201480.0  \n",
       "79                              47.003          10000.0         201480.0  \n",
       "80                              49.119          10000.0         201480.0  \n",
       "\n",
       "[81 rows x 12 columns]"
      ]
     },
     "execution_count": 9,
     "metadata": {},
     "output_type": "execute_result"
    }
   ],
   "source": [
    "# Define your seed functions\n",
    "seed_functions = {\n",
    "    \"Random\": seed_random,\n",
    "    \"MIA\": lambda G, seed_size: seed_influence_maximization(G, seed_size, 500, 8, 0),\n",
    "    \"Degree\": seed_degree,\n",
    "    \"Centrality\": seed_centrality,\n",
    "    \"Centrality Mixed\": seed_centrality_mixed,\n",
    "    \"Polarized\": lambda G, seed_size: seed_polarized(G, seed_size, 0),\n",
    "    \"Polarized Degree\": lambda G, seed_size: seed_polarized_degree(G, seed_size, 0),\n",
    "    \"Polarized Centrality\": lambda G, seed_size: seed_polarized_centrality(G, seed_size, 0),\n",
    "    \"Polarized Centrality Mixed\": lambda G, seed_size: seed_polarized_centrality_mixed(G, seed_size, 0),\n",
    "}\n",
    "\n",
    "# Example of how to call the function\n",
    "all_results_df = evaluate_all_seeds(G, seed_functions, seed_size, k, max_iter, budget, \"netin_09_3\")\n",
    "\n",
    "# Display the combined results\n",
    "print(\"Combined Results for All Seed Functions\")\n",
    "all_results_df"
   ]
  },
  {
   "cell_type": "code",
   "execution_count": 10,
   "metadata": {},
   "outputs": [],
   "source": [
    "#all_results_df.to_csv(f\"test.csv\", index=False)\n",
    "all_results_df.to_csv(f\"results/results_netin_{N}_nodes_{h}_hvalue_{d}_density_{plo}_plo_3.csv\", index=False)"
   ]
  },
  {
   "cell_type": "code",
   "execution_count": null,
   "metadata": {},
   "outputs": [],
   "source": []
  },
  {
   "cell_type": "code",
   "execution_count": null,
   "metadata": {},
   "outputs": [],
   "source": []
  }
 ],
 "metadata": {
  "kernelspec": {
   "display_name": "base",
   "language": "python",
   "name": "python3"
  },
  "language_info": {
   "codemirror_mode": {
    "name": "ipython",
    "version": 3
   },
   "file_extension": ".py",
   "mimetype": "text/x-python",
   "name": "python",
   "nbconvert_exporter": "python",
   "pygments_lexer": "ipython3",
   "version": "3.9.15"
  }
 },
 "nbformat": 4,
 "nbformat_minor": 2
}
