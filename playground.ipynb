{
 "cells": [
  {
   "cell_type": "code",
   "execution_count": 1,
   "metadata": {},
   "outputs": [],
   "source": [
    "import numpy as np\n",
    "import networkx as nx\n",
    "\n",
    "from src.diffusion_models import independent_cascade_model, linear_threshold_model, animate_diffusion_process, plot_diffusion_results\n",
    "from src.graph import graph_loader\n",
    "from src.seed import seed_degree, seed_random \n"
   ]
  },
  {
   "cell_type": "code",
   "execution_count": 2,
   "metadata": {},
   "outputs": [],
   "source": [
    "# TODO: add a function which illustrates the spread of the influence, \n",
    "# i.e. as a line chart showing after each itteration how many new nodes are influenced\n",
    "# i.e. as a animation showing the spread of the influence in the real graph\n",
    "\n",
    "# TODO: in the generate polarized graph incoporate already the coloring of the nodes\n",
    "# think about a logic of coloring the polarized groups \n"
   ]
  },
  {
   "cell_type": "code",
   "execution_count": 3,
   "metadata": {},
   "outputs": [
    {
     "name": "stdout",
     "output_type": "stream",
     "text": [
      "Number of Nodes: 7115\n",
      "Number of Edges: 103689\n"
     ]
    }
   ],
   "source": [
    "# Usage\n",
    "G = graph_loader('datasets/wiki_vote/Wiki-Vote.txt')\n",
    "seeds = seed_random(G, 100)"
   ]
  },
  {
   "cell_type": "code",
   "execution_count": 4,
   "metadata": {},
   "outputs": [
    {
     "ename": "NetworkXError",
     "evalue": "The node 192 is not in the digraph.",
     "output_type": "error",
     "traceback": [
      "\u001b[0;31m---------------------------------------------------------------------------\u001b[0m",
      "\u001b[0;31mKeyError\u001b[0m                                  Traceback (most recent call last)",
      "File \u001b[0;32m~/miniforge3/lib/python3.9/site-packages/networkx/classes/digraph.py:899\u001b[0m, in \u001b[0;36mDiGraph.successors\u001b[0;34m(self, n)\u001b[0m\n\u001b[1;32m    898\u001b[0m \u001b[38;5;28;01mtry\u001b[39;00m:\n\u001b[0;32m--> 899\u001b[0m     \u001b[38;5;28;01mreturn\u001b[39;00m \u001b[38;5;28miter\u001b[39m(\u001b[38;5;28;43mself\u001b[39;49m\u001b[38;5;241;43m.\u001b[39;49m\u001b[43m_succ\u001b[49m\u001b[43m[\u001b[49m\u001b[43mn\u001b[49m\u001b[43m]\u001b[49m)\n\u001b[1;32m    900\u001b[0m \u001b[38;5;28;01mexcept\u001b[39;00m \u001b[38;5;167;01mKeyError\u001b[39;00m \u001b[38;5;28;01mas\u001b[39;00m err:\n",
      "\u001b[0;31mKeyError\u001b[0m: 192",
      "\nThe above exception was the direct cause of the following exception:\n",
      "\u001b[0;31mNetworkXError\u001b[0m                             Traceback (most recent call last)",
      "Cell \u001b[0;32mIn [4], line 7\u001b[0m\n\u001b[1;32m      5\u001b[0m thresholds \u001b[38;5;241m=\u001b[39m {node: \u001b[38;5;241m1\u001b[39m \u001b[38;5;28;01mfor\u001b[39;00m node \u001b[38;5;129;01min\u001b[39;00m G\u001b[38;5;241m.\u001b[39mnodes()}\n\u001b[1;32m      6\u001b[0m \u001b[38;5;66;03m# Run models\u001b[39;00m\n\u001b[0;32m----> 7\u001b[0m ic_results \u001b[38;5;241m=\u001b[39m \u001b[43mindependent_cascade_model\u001b[49m\u001b[43m(\u001b[49m\u001b[43mG\u001b[49m\u001b[43m,\u001b[49m\u001b[43m \u001b[49m\u001b[43mseeds\u001b[49m\u001b[43m,\u001b[49m\u001b[43m \u001b[49m\u001b[38;5;241;43m1\u001b[39;49m\u001b[43m)\u001b[49m\n\u001b[1;32m      8\u001b[0m lt_results \u001b[38;5;241m=\u001b[39m linear_threshold_model(G, seeds, thresholds)\n\u001b[1;32m     10\u001b[0m \u001b[38;5;66;03m# Visualize results\u001b[39;00m\n",
      "File \u001b[0;32m~/Desktop/Data Science/4. Semester 2024 SoSe/Designing_Link_Recommendation_Methods_to_Reduce_Polarization/src/diffusion_models.py:24\u001b[0m, in \u001b[0;36mindependent_cascade_model\u001b[0;34m(G, seeds, threshold, random_seed)\u001b[0m\n\u001b[1;32m     21\u001b[0m new_active_nodes \u001b[38;5;241m=\u001b[39m []\n\u001b[1;32m     23\u001b[0m \u001b[38;5;28;01mfor\u001b[39;00m node \u001b[38;5;129;01min\u001b[39;00m active_nodes:\n\u001b[0;32m---> 24\u001b[0m     \u001b[38;5;28;01mfor\u001b[39;00m neighbor \u001b[38;5;129;01min\u001b[39;00m \u001b[43mG\u001b[49m\u001b[38;5;241;43m.\u001b[39;49m\u001b[43msuccessors\u001b[49m\u001b[43m(\u001b[49m\u001b[43mnode\u001b[49m\u001b[43m)\u001b[49m:\n\u001b[1;32m     25\u001b[0m         \u001b[38;5;28;01mif\u001b[39;00m nodes_status[neighbor] \u001b[38;5;241m==\u001b[39m \u001b[38;5;241m0\u001b[39m:\n\u001b[1;32m     26\u001b[0m             in_degree \u001b[38;5;241m=\u001b[39m G\u001b[38;5;241m.\u001b[39min_degree(neighbor)\n",
      "File \u001b[0;32m~/miniforge3/lib/python3.9/site-packages/networkx/classes/digraph.py:901\u001b[0m, in \u001b[0;36mDiGraph.successors\u001b[0;34m(self, n)\u001b[0m\n\u001b[1;32m    899\u001b[0m     \u001b[38;5;28;01mreturn\u001b[39;00m \u001b[38;5;28miter\u001b[39m(\u001b[38;5;28mself\u001b[39m\u001b[38;5;241m.\u001b[39m_succ[n])\n\u001b[1;32m    900\u001b[0m \u001b[38;5;28;01mexcept\u001b[39;00m \u001b[38;5;167;01mKeyError\u001b[39;00m \u001b[38;5;28;01mas\u001b[39;00m err:\n\u001b[0;32m--> 901\u001b[0m     \u001b[38;5;28;01mraise\u001b[39;00m NetworkXError(\u001b[38;5;124mf\u001b[39m\u001b[38;5;124m\"\u001b[39m\u001b[38;5;124mThe node \u001b[39m\u001b[38;5;132;01m{\u001b[39;00mn\u001b[38;5;132;01m}\u001b[39;00m\u001b[38;5;124m is not in the digraph.\u001b[39m\u001b[38;5;124m\"\u001b[39m) \u001b[38;5;28;01mfrom\u001b[39;00m \u001b[38;5;21;01merr\u001b[39;00m\n",
      "\u001b[0;31mNetworkXError\u001b[0m: The node 192 is not in the digraph."
     ]
    }
   ],
   "source": [
    "G = nx.erdos_renyi_graph(30, 0.05, directed=True)\n",
    "G = nx.DiGraph(G)\n",
    "\n",
    "\n",
    "thresholds = {node: 1 for node in G.nodes()}\n",
    "# Run models\n",
    "ic_results = independent_cascade_model(G, seeds, 1)\n",
    "lt_results = linear_threshold_model(G, seeds, thresholds)\n",
    "\n",
    "# Visualize results\n",
    "plot_diffusion_results([ic_results[2], lt_results[2]], [\"Independent Cascade\", \"Linear Threshold\"])\n",
    "\n",
    "# Animate diffusion process\n",
    "animate_diffusion_process(G, [seeds, seeds], [independent_cascade_model, linear_threshold_model], [\"Independent Cascade\", \"Linear Threshold\"])"
   ]
  },
  {
   "cell_type": "code",
   "execution_count": 4,
   "metadata": {},
   "outputs": [
    {
     "name": "stdout",
     "output_type": "stream",
     "text": [
      "ICM: Number of influent nodes: 158\n",
      "LTM: Number of influent nodes: 2162\n"
     ]
    }
   ],
   "source": [
    "icm_count, icm_nodes  = independent_cascade_model(G, seeds, 1)\n",
    "print('ICM: Number of influent nodes: {}'.format(icm_count))\n",
    "\n",
    "# TODO: think about a better was to set the thresholds, also needs to be adapted in the function\n",
    "# Maybe add a max itter for the LTM for a fair comparison??\n",
    "thresholds = {node: 0.4 for node in G.nodes()}\n",
    "lt_count, lt_nodes = linear_threshold_model(G, seeds, thresholds)\n",
    "print('LTM: Number of influent nodes: {}'.format(lt_count))"
   ]
  },
  {
   "cell_type": "code",
   "execution_count": 5,
   "metadata": {},
   "outputs": [
    {
     "name": "stdout",
     "output_type": "stream",
     "text": [
      "Number of Nodes: 81306\n",
      "Number of Edges: 1768149\n"
     ]
    }
   ],
   "source": [
    "G2 = graph_loader(\"datasets/twitter_social_cirlce/twitter_combined.txt\")"
   ]
  },
  {
   "cell_type": "code",
   "execution_count": 7,
   "metadata": {},
   "outputs": [
    {
     "name": "stdout",
     "output_type": "stream",
     "text": [
      "ICM: Number of influent nodes: 13395\n",
      "LTM: Number of influent nodes: 81304\n"
     ]
    }
   ],
   "source": [
    "seeds = seed_random(G2, 2000)\n",
    "\n",
    "icm_count, icm_nodes  = independent_cascade_model(G2, seeds, 1)\n",
    "print('ICM: Number of influent nodes: {}'.format(icm_count))\n",
    "\n",
    "# TODO: think about a better was to set the thresholds, also needs to be adapted in the function\n",
    "# Maybe add a max itter for the LTM for a fair comparison??\n",
    "thresholds = {node: 0.5 for node in G2.nodes()}\n",
    "lt_count, lt_nodes = linear_threshold_model(G2, seeds, thresholds)\n",
    "print('LTM: Number of influent nodes: {}'.format(lt_count))"
   ]
  },
  {
   "cell_type": "code",
   "execution_count": 6,
   "metadata": {},
   "outputs": [
    {
     "name": "stdout",
     "output_type": "stream",
     "text": [
      "Number of Nodes: 107614\n",
      "Number of Edges: 13673453\n"
     ]
    }
   ],
   "source": [
    "G3 = graph_loader(\"datasets/google+_social_circle/gplus_combined.txt\")"
   ]
  },
  {
   "cell_type": "code",
   "execution_count": null,
   "metadata": {},
   "outputs": [],
   "source": [
    "seeds = seed_random(G3, 2000)\n",
    "\n",
    "icm_count, icm_nodes  = independent_cascade_model(G3, seeds, 1)\n",
    "print('ICM: Number of influent nodes: {}'.format(icm_count))\n",
    "\n",
    "# TODO: think about a better was to set the thresholds, also needs to be adapted in the function\n",
    "# Maybe add a max itter for the LTM for a fair comparison??\n",
    "thresholds = {node: 0.1 for node in G3.nodes()}\n",
    "lt_count, lt_nodes = linear_threshold_model(G3, seeds, thresholds)\n",
    "print('LTM: Number of influent nodes: {}'.format(lt_count))"
   ]
  },
  {
   "cell_type": "code",
   "execution_count": 6,
   "metadata": {},
   "outputs": [],
   "source": [
    "from src.polarization import random_color_graph, optimize_tau, create_polarized_graph\n",
    "from src.graph import graph_loader\n",
    "\n",
    "num_nodes = 100\n",
    "intra_group_connectness = 0.8\n",
    "inter_group_connectness = 0.1\n",
    "\n",
    "G = create_polarized_graph(num_nodes, intra_group_connectness, inter_group_connectness)\n",
    "random_color_graph(G)"
   ]
  },
  {
   "cell_type": "code",
   "execution_count": 8,
   "metadata": {},
   "outputs": [
    {
     "name": "stderr",
     "output_type": "stream",
     "text": [
      "100%|██████████| 5570/5570 [00:01<00:00, 3077.87it/s]\n",
      "100%|██████████| 5569/5569 [00:00<00:00, 67166.85it/s]\n",
      "100%|██████████| 5568/5568 [00:00<00:00, 66793.13it/s]\n",
      "100%|██████████| 5567/5567 [00:00<00:00, 74931.94it/s]\n",
      "100%|██████████| 5566/5566 [00:00<00:00, 80790.89it/s]\n",
      "100%|██████████| 5565/5565 [00:00<00:00, 63744.27it/s]\n",
      "100%|██████████| 5/5 [00:00<00:00, 11.79it/s]\n"
     ]
    }
   ],
   "source": [
    "C = [node for node in G.nodes if G.nodes[node]['color'] == 'red']\n",
    "k = 5\n",
    "\n",
    "f_, tau = optimize_tau(C, G, k)"
   ]
  },
  {
   "cell_type": "code",
   "execution_count": 3,
   "metadata": {},
   "outputs": [
    {
     "data": {
      "text/plain": [
       "{(0, 11), (0, 12)}"
      ]
     },
     "execution_count": 3,
     "metadata": {},
     "output_type": "execute_result"
    }
   ],
   "source": []
  },
  {
   "cell_type": "code",
   "execution_count": null,
   "metadata": {},
   "outputs": [],
   "source": []
  }
 ],
 "metadata": {
  "kernelspec": {
   "display_name": "base",
   "language": "python",
   "name": "python3"
  },
  "language_info": {
   "codemirror_mode": {
    "name": "ipython",
    "version": 3
   },
   "file_extension": ".py",
   "mimetype": "text/x-python",
   "name": "python",
   "nbconvert_exporter": "python",
   "pygments_lexer": "ipython3",
   "version": "3.9.15"
  }
 },
 "nbformat": 4,
 "nbformat_minor": 2
}
