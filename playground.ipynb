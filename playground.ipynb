{
 "cells": [
  {
   "cell_type": "code",
   "execution_count": 1,
   "metadata": {},
   "outputs": [],
   "source": [
    "import numpy as np\n",
    "import networkx as nx\n",
    "\n",
    "from src.diffusion_models import independent_cascade_model, linear_threshold_model\n",
    "from src.graph_loader import graph_loader\n",
    "from src.seed import seed_degree, seed_random \n"
   ]
  },
  {
   "cell_type": "code",
   "execution_count": 3,
   "metadata": {},
   "outputs": [
    {
     "name": "stdout",
     "output_type": "stream",
     "text": [
      "Number of Nodes: 7115\n",
      "Number of Edges: 103689\n"
     ]
    }
   ],
   "source": [
    "# Usage\n",
    "G = graph_loader('datasets/wiki_vote/Wiki-Vote.txt')\n",
    "seeds = seed_random(G, 100)"
   ]
  },
  {
   "cell_type": "code",
   "execution_count": 9,
   "metadata": {},
   "outputs": [
    {
     "name": "stdout",
     "output_type": "stream",
     "text": [
      "ICM: Number of influent nodes: 186\n",
      "LTM: Number of influent nodes: 2387\n"
     ]
    }
   ],
   "source": [
    "icm_count, icm_nodes  = independent_cascade_model(G, seeds, 1)\n",
    "print('ICM: Number of influent nodes: {}'.format(icm_count))\n",
    "\n",
    "# TODO: think about a better was to set the thresholds, also needs to be adapted in the function\n",
    "# Maybe add a max itter for the LTM for a fair comparison??\n",
    "thresholds = {node: 0.1 for node in G.nodes()}\n",
    "lt_count, lt_nodes = linear_threshold_model(G, seeds, thresholds)\n",
    "print('LTM: Number of influent nodes: {}'.format(lt_count))"
   ]
  },
  {
   "cell_type": "code",
   "execution_count": null,
   "metadata": {},
   "outputs": [],
   "source": []
  }
 ],
 "metadata": {
  "kernelspec": {
   "display_name": "base",
   "language": "python",
   "name": "python3"
  },
  "language_info": {
   "codemirror_mode": {
    "name": "ipython",
    "version": 3
   },
   "file_extension": ".py",
   "mimetype": "text/x-python",
   "name": "python",
   "nbconvert_exporter": "python",
   "pygments_lexer": "ipython3",
   "version": "3.9.15"
  }
 },
 "nbformat": 4,
 "nbformat_minor": 2
}
