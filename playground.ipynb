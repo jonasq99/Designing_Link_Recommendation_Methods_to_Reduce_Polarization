{
 "cells": [
  {
   "cell_type": "code",
   "execution_count": 1,
   "metadata": {},
   "outputs": [],
   "source": [
    "import numpy as np\n",
    "import networkx as nx\n",
    "\n",
    "from src.diffusion_models import independent_cascade_model, linear_threshold_model\n",
    "from src.graph_loader import graph_loader\n",
    "from src.seed import seed_degree, seed_random \n"
   ]
  },
  {
   "cell_type": "code",
   "execution_count": 2,
   "metadata": {},
   "outputs": [],
   "source": [
    "# TODO: add a function which illustrates the spread of the influence, \n",
    "# i.e. as a line chart showing after each itteration how many new nodes are influenced\n",
    "# i.e. as a animation showing the spread of the influence in the real graph"
   ]
  },
  {
   "cell_type": "code",
   "execution_count": 3,
   "metadata": {},
   "outputs": [
    {
     "name": "stdout",
     "output_type": "stream",
     "text": [
      "Number of Nodes: 7115\n",
      "Number of Edges: 103689\n"
     ]
    }
   ],
   "source": [
    "# Usage\n",
    "G = graph_loader('datasets/wiki_vote/Wiki-Vote.txt')\n",
    "seeds = seed_random(G, 100)"
   ]
  },
  {
   "cell_type": "code",
   "execution_count": 4,
   "metadata": {},
   "outputs": [
    {
     "name": "stdout",
     "output_type": "stream",
     "text": [
      "ICM: Number of influent nodes: 158\n",
      "LTM: Number of influent nodes: 2162\n"
     ]
    }
   ],
   "source": [
    "icm_count, icm_nodes  = independent_cascade_model(G, seeds, 1)\n",
    "print('ICM: Number of influent nodes: {}'.format(icm_count))\n",
    "\n",
    "# TODO: think about a better was to set the thresholds, also needs to be adapted in the function\n",
    "# Maybe add a max itter for the LTM for a fair comparison??\n",
    "thresholds = {node: 0.4 for node in G.nodes()}\n",
    "lt_count, lt_nodes = linear_threshold_model(G, seeds, thresholds)\n",
    "print('LTM: Number of influent nodes: {}'.format(lt_count))"
   ]
  },
  {
   "cell_type": "code",
   "execution_count": 5,
   "metadata": {},
   "outputs": [
    {
     "name": "stdout",
     "output_type": "stream",
     "text": [
      "Number of Nodes: 81306\n",
      "Number of Edges: 1768149\n"
     ]
    }
   ],
   "source": [
    "G2 = graph_loader(\"datasets/twitter_social_cirlce/twitter_combined.txt\")"
   ]
  },
  {
   "cell_type": "code",
   "execution_count": 7,
   "metadata": {},
   "outputs": [
    {
     "name": "stdout",
     "output_type": "stream",
     "text": [
      "ICM: Number of influent nodes: 13395\n",
      "LTM: Number of influent nodes: 81304\n"
     ]
    }
   ],
   "source": [
    "seeds = seed_random(G2, 2000)\n",
    "\n",
    "icm_count, icm_nodes  = independent_cascade_model(G2, seeds, 1)\n",
    "print('ICM: Number of influent nodes: {}'.format(icm_count))\n",
    "\n",
    "# TODO: think about a better was to set the thresholds, also needs to be adapted in the function\n",
    "# Maybe add a max itter for the LTM for a fair comparison??\n",
    "thresholds = {node: 0.5 for node in G2.nodes()}\n",
    "lt_count, lt_nodes = linear_threshold_model(G2, seeds, thresholds)\n",
    "print('LTM: Number of influent nodes: {}'.format(lt_count))"
   ]
  },
  {
   "cell_type": "code",
   "execution_count": 6,
   "metadata": {},
   "outputs": [
    {
     "name": "stdout",
     "output_type": "stream",
     "text": [
      "Number of Nodes: 107614\n",
      "Number of Edges: 13673453\n"
     ]
    }
   ],
   "source": [
    "G3 = graph_loader(\"datasets/google+_social_circle/gplus_combined.txt\")"
   ]
  },
  {
   "cell_type": "code",
   "execution_count": null,
   "metadata": {},
   "outputs": [],
   "source": [
    "seeds = seed_random(G3, 2000)\n",
    "\n",
    "icm_count, icm_nodes  = independent_cascade_model(G3, seeds, 1)\n",
    "print('ICM: Number of influent nodes: {}'.format(icm_count))\n",
    "\n",
    "# TODO: think about a better was to set the thresholds, also needs to be adapted in the function\n",
    "# Maybe add a max itter for the LTM for a fair comparison??\n",
    "thresholds = {node: 0.1 for node in G3.nodes()}\n",
    "lt_count, lt_nodes = linear_threshold_model(G3, seeds, thresholds)\n",
    "print('LTM: Number of influent nodes: {}'.format(lt_count))"
   ]
  },
  {
   "cell_type": "code",
   "execution_count": 6,
   "metadata": {},
   "outputs": [],
   "source": [
    "from src.polarization import random_color_graph, optimize_tau, create_polarized_graph\n",
    "from src.graph_loader import graph_loader\n",
    "\n",
    "num_nodes = 100\n",
    "intra_group_connectness = 0.8\n",
    "inter_group_connectness = 0.1\n",
    "\n",
    "G = create_polarized_graph(num_nodes, intra_group_connectness, inter_group_connectness)\n",
    "random_color_graph(G)"
   ]
  },
  {
   "cell_type": "code",
   "execution_count": 8,
   "metadata": {},
   "outputs": [
    {
     "name": "stderr",
     "output_type": "stream",
     "text": [
      "100%|██████████| 5570/5570 [00:01<00:00, 3077.87it/s]\n",
      "100%|██████████| 5569/5569 [00:00<00:00, 67166.85it/s]\n",
      "100%|██████████| 5568/5568 [00:00<00:00, 66793.13it/s]\n",
      "100%|██████████| 5567/5567 [00:00<00:00, 74931.94it/s]\n",
      "100%|██████████| 5566/5566 [00:00<00:00, 80790.89it/s]\n",
      "100%|██████████| 5565/5565 [00:00<00:00, 63744.27it/s]\n",
      "100%|██████████| 5/5 [00:00<00:00, 11.79it/s]\n"
     ]
    }
   ],
   "source": [
    "C = [node for node in G.nodes if G.nodes[node]['color'] == 'red']\n",
    "k = 5\n",
    "\n",
    "f_, tau = optimize_tau(C, G, k)"
   ]
  },
  {
   "cell_type": "code",
   "execution_count": 3,
   "metadata": {},
   "outputs": [
    {
     "data": {
      "text/plain": [
       "{(0, 11), (0, 12)}"
      ]
     },
     "execution_count": 3,
     "metadata": {},
     "output_type": "execute_result"
    }
   ],
   "source": []
  },
  {
   "cell_type": "code",
   "execution_count": null,
   "metadata": {},
   "outputs": [],
   "source": []
  }
 ],
 "metadata": {
  "kernelspec": {
   "display_name": "base",
   "language": "python",
   "name": "python3"
  },
  "language_info": {
   "codemirror_mode": {
    "name": "ipython",
    "version": 3
   },
   "file_extension": ".py",
   "mimetype": "text/x-python",
   "name": "python",
   "nbconvert_exporter": "python",
   "pygments_lexer": "ipython3",
   "version": "3.9.15"
  }
 },
 "nbformat": 4,
 "nbformat_minor": 2
}
