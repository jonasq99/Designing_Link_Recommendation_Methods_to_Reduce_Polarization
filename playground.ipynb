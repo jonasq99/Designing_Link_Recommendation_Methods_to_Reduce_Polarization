{
 "cells": [
  {
   "cell_type": "code",
   "execution_count": 4,
   "metadata": {},
   "outputs": [],
   "source": [
    "import numpy as np\n",
    "import networkx as nx\n",
    "\n",
    "from src.diffusion_models import independent_cascade_model, linear_threshold_model\n",
    "from src.graph_loader import graph_loader\n",
    "from src.seed import seed_degree, seed_random \n"
   ]
  },
  {
   "cell_type": "code",
   "execution_count": null,
   "metadata": {},
   "outputs": [],
   "source": [
    "# TODO: add a function which illustrates the spread of the influence, \n",
    "# i.e. as a line chart showing after each itteration how many new nodes are influenced\n",
    "# i.e. as a animation showing the spread of the influence in the real graph"
   ]
  },
  {
   "cell_type": "code",
   "execution_count": 2,
   "metadata": {},
   "outputs": [
    {
     "name": "stdout",
     "output_type": "stream",
     "text": [
      "Number of Nodes: 7115\n",
      "Number of Edges: 103689\n"
     ]
    }
   ],
   "source": [
    "# Usage\n",
    "G = graph_loader('datasets/wiki_vote/Wiki-Vote.txt')\n",
    "seeds = seed_random(G, 100)"
   ]
  },
  {
   "cell_type": "code",
   "execution_count": 3,
   "metadata": {},
   "outputs": [
    {
     "name": "stdout",
     "output_type": "stream",
     "text": [
      "ICM: Number of influent nodes: 188\n",
      "LTM: Number of influent nodes: 2383\n"
     ]
    }
   ],
   "source": [
    "icm_count, icm_nodes  = independent_cascade_model(G, seeds, 1)\n",
    "print('ICM: Number of influent nodes: {}'.format(icm_count))\n",
    "\n",
    "# TODO: think about a better was to set the thresholds, also needs to be adapted in the function\n",
    "# Maybe add a max itter for the LTM for a fair comparison??\n",
    "thresholds = {node: 0.1 for node in G.nodes()}\n",
    "lt_count, lt_nodes = linear_threshold_model(G, seeds, thresholds)\n",
    "print('LTM: Number of influent nodes: {}'.format(lt_count))"
   ]
  },
  {
   "cell_type": "code",
   "execution_count": 5,
   "metadata": {},
   "outputs": [
    {
     "name": "stdout",
     "output_type": "stream",
     "text": [
      "Number of Nodes: 81306\n",
      "Number of Edges: 1768149\n"
     ]
    }
   ],
   "source": [
    "G2 = graph_loader(\"datasets/twitter_social_cirlce/twitter_combined.txt\")"
   ]
  },
  {
   "cell_type": "code",
   "execution_count": 7,
   "metadata": {},
   "outputs": [
    {
     "name": "stdout",
     "output_type": "stream",
     "text": [
      "ICM: Number of influent nodes: 13395\n",
      "LTM: Number of influent nodes: 81304\n"
     ]
    }
   ],
   "source": [
    "seeds = seed_random(G2, 2000)\n",
    "\n",
    "icm_count, icm_nodes  = independent_cascade_model(G2, seeds, 1)\n",
    "print('ICM: Number of influent nodes: {}'.format(icm_count))\n",
    "\n",
    "# TODO: think about a better was to set the thresholds, also needs to be adapted in the function\n",
    "# Maybe add a max itter for the LTM for a fair comparison??\n",
    "thresholds = {node: 0.1 for node in G2.nodes()}\n",
    "lt_count, lt_nodes = linear_threshold_model(G2, seeds, thresholds)\n",
    "print('LTM: Number of influent nodes: {}'.format(lt_count))"
   ]
  },
  {
   "cell_type": "code",
   "execution_count": 6,
   "metadata": {},
   "outputs": [
    {
     "name": "stdout",
     "output_type": "stream",
     "text": [
      "Number of Nodes: 107614\n",
      "Number of Edges: 13673453\n"
     ]
    }
   ],
   "source": [
    "G3 = graph_loader(\"datasets/google+_social_circle/gplus_combined.txt\")"
   ]
  },
  {
   "cell_type": "code",
   "execution_count": 8,
   "metadata": {},
   "outputs": [
    {
     "name": "stdout",
     "output_type": "stream",
     "text": [
      "ICM: Number of influent nodes: 16136\n"
     ]
    },
    {
     "ename": "KeyboardInterrupt",
     "evalue": "",
     "output_type": "error",
     "traceback": [
      "\u001b[0;31m---------------------------------------------------------------------------\u001b[0m",
      "\u001b[0;31mKeyboardInterrupt\u001b[0m                         Traceback (most recent call last)",
      "Cell \u001b[0;32mIn [8], line 9\u001b[0m\n\u001b[1;32m      6\u001b[0m \u001b[38;5;66;03m# TODO: think about a better was to set the thresholds, also needs to be adapted in the function\u001b[39;00m\n\u001b[1;32m      7\u001b[0m \u001b[38;5;66;03m# Maybe add a max itter for the LTM for a fair comparison??\u001b[39;00m\n\u001b[1;32m      8\u001b[0m thresholds \u001b[38;5;241m=\u001b[39m {node: \u001b[38;5;241m0.1\u001b[39m \u001b[38;5;28;01mfor\u001b[39;00m node \u001b[38;5;129;01min\u001b[39;00m G3\u001b[38;5;241m.\u001b[39mnodes()}\n\u001b[0;32m----> 9\u001b[0m lt_count, lt_nodes \u001b[38;5;241m=\u001b[39m \u001b[43mlinear_threshold_model\u001b[49m\u001b[43m(\u001b[49m\u001b[43mG3\u001b[49m\u001b[43m,\u001b[49m\u001b[43m \u001b[49m\u001b[43mseeds\u001b[49m\u001b[43m,\u001b[49m\u001b[43m \u001b[49m\u001b[43mthresholds\u001b[49m\u001b[43m)\u001b[49m\n\u001b[1;32m     10\u001b[0m \u001b[38;5;28mprint\u001b[39m(\u001b[38;5;124m'\u001b[39m\u001b[38;5;124mLTM: Number of influent nodes: \u001b[39m\u001b[38;5;132;01m{}\u001b[39;00m\u001b[38;5;124m'\u001b[39m\u001b[38;5;241m.\u001b[39mformat(lt_count))\n",
      "File \u001b[0;32m~/Desktop/Data Science/4. Semester 2024 SoSe/Designing_Link_Recommendation_Methods_to_Reduce_Polarization/src/diffusion_models.py:68\u001b[0m, in \u001b[0;36mlinear_threshold_model\u001b[0;34m(G, seeds, thresholds)\u001b[0m\n\u001b[1;32m     66\u001b[0m \u001b[38;5;28;01mfor\u001b[39;00m neighbor \u001b[38;5;129;01min\u001b[39;00m G\u001b[38;5;241m.\u001b[39msuccessors(node):\n\u001b[1;32m     67\u001b[0m     \u001b[38;5;28;01mif\u001b[39;00m nodes_status[neighbor] \u001b[38;5;241m==\u001b[39m \u001b[38;5;241m0\u001b[39m:  \u001b[38;5;66;03m# If neighbor is inactive\u001b[39;00m\n\u001b[0;32m---> 68\u001b[0m         total_weight \u001b[38;5;241m=\u001b[39m \u001b[38;5;28;43msum\u001b[39;49m\u001b[43m(\u001b[49m\n\u001b[1;32m     69\u001b[0m \u001b[43m            \u001b[49m\u001b[43mG\u001b[49m\u001b[43m[\u001b[49m\u001b[43mnbr\u001b[49m\u001b[43m]\u001b[49m\u001b[43m[\u001b[49m\u001b[43mneighbor\u001b[49m\u001b[43m]\u001b[49m\u001b[38;5;241;43m.\u001b[39;49m\u001b[43mget\u001b[49m\u001b[43m(\u001b[49m\u001b[38;5;124;43m\"\u001b[39;49m\u001b[38;5;124;43mweight\u001b[39;49m\u001b[38;5;124;43m\"\u001b[39;49m\u001b[43m,\u001b[49m\u001b[43m \u001b[49m\u001b[38;5;241;43m0.1\u001b[39;49m\u001b[43m)\u001b[49m\n\u001b[1;32m     70\u001b[0m \u001b[43m            \u001b[49m\u001b[38;5;28;43;01mfor\u001b[39;49;00m\u001b[43m \u001b[49m\u001b[43mnbr\u001b[49m\u001b[43m \u001b[49m\u001b[38;5;129;43;01min\u001b[39;49;00m\u001b[43m \u001b[49m\u001b[43mG\u001b[49m\u001b[38;5;241;43m.\u001b[39;49m\u001b[43mpredecessors\u001b[49m\u001b[43m(\u001b[49m\u001b[43mneighbor\u001b[49m\u001b[43m)\u001b[49m\n\u001b[1;32m     71\u001b[0m \u001b[43m            \u001b[49m\u001b[38;5;28;43;01mif\u001b[39;49;00m\u001b[43m \u001b[49m\u001b[43mnodes_status\u001b[49m\u001b[43m[\u001b[49m\u001b[43mnbr\u001b[49m\u001b[43m]\u001b[49m\u001b[43m \u001b[49m\u001b[38;5;241;43m==\u001b[39;49m\u001b[43m \u001b[49m\u001b[38;5;241;43m1\u001b[39;49m\n\u001b[1;32m     72\u001b[0m \u001b[43m        \u001b[49m\u001b[43m)\u001b[49m\n\u001b[1;32m     73\u001b[0m         \u001b[38;5;28;01mif\u001b[39;00m total_weight \u001b[38;5;241m>\u001b[39m\u001b[38;5;241m=\u001b[39m thresholds[neighbor]:\n\u001b[1;32m     74\u001b[0m             new_active_nodes\u001b[38;5;241m.\u001b[39mappend(neighbor)\n",
      "File \u001b[0;32m~/Desktop/Data Science/4. Semester 2024 SoSe/Designing_Link_Recommendation_Methods_to_Reduce_Polarization/src/diffusion_models.py:71\u001b[0m, in \u001b[0;36m<genexpr>\u001b[0;34m(.0)\u001b[0m\n\u001b[1;32m     66\u001b[0m \u001b[38;5;28;01mfor\u001b[39;00m neighbor \u001b[38;5;129;01min\u001b[39;00m G\u001b[38;5;241m.\u001b[39msuccessors(node):\n\u001b[1;32m     67\u001b[0m     \u001b[38;5;28;01mif\u001b[39;00m nodes_status[neighbor] \u001b[38;5;241m==\u001b[39m \u001b[38;5;241m0\u001b[39m:  \u001b[38;5;66;03m# If neighbor is inactive\u001b[39;00m\n\u001b[1;32m     68\u001b[0m         total_weight \u001b[38;5;241m=\u001b[39m \u001b[38;5;28msum\u001b[39m(\n\u001b[1;32m     69\u001b[0m             G[nbr][neighbor]\u001b[38;5;241m.\u001b[39mget(\u001b[38;5;124m\"\u001b[39m\u001b[38;5;124mweight\u001b[39m\u001b[38;5;124m\"\u001b[39m, \u001b[38;5;241m0.1\u001b[39m)\n\u001b[1;32m     70\u001b[0m             \u001b[38;5;28;01mfor\u001b[39;00m nbr \u001b[38;5;129;01min\u001b[39;00m G\u001b[38;5;241m.\u001b[39mpredecessors(neighbor)\n\u001b[0;32m---> 71\u001b[0m             \u001b[38;5;28;01mif\u001b[39;00m \u001b[43mnodes_status\u001b[49m\u001b[43m[\u001b[49m\u001b[43mnbr\u001b[49m\u001b[43m]\u001b[49m \u001b[38;5;241m==\u001b[39m \u001b[38;5;241m1\u001b[39m\n\u001b[1;32m     72\u001b[0m         )\n\u001b[1;32m     73\u001b[0m         \u001b[38;5;28;01mif\u001b[39;00m total_weight \u001b[38;5;241m>\u001b[39m\u001b[38;5;241m=\u001b[39m thresholds[neighbor]:\n\u001b[1;32m     74\u001b[0m             new_active_nodes\u001b[38;5;241m.\u001b[39mappend(neighbor)\n",
      "\u001b[0;31mKeyboardInterrupt\u001b[0m: "
     ]
    }
   ],
   "source": [
    "seeds = seed_random(G3, 2000)\n",
    "\n",
    "icm_count, icm_nodes  = independent_cascade_model(G3, seeds, 1)\n",
    "print('ICM: Number of influent nodes: {}'.format(icm_count))\n",
    "\n",
    "# TODO: think about a better was to set the thresholds, also needs to be adapted in the function\n",
    "# Maybe add a max itter for the LTM for a fair comparison??\n",
    "thresholds = {node: 0.1 for node in G3.nodes()}\n",
    "lt_count, lt_nodes = linear_threshold_model(G3, seeds, thresholds)\n",
    "print('LTM: Number of influent nodes: {}'.format(lt_count))"
   ]
  },
  {
   "cell_type": "code",
   "execution_count": null,
   "metadata": {},
   "outputs": [],
   "source": []
  }
 ],
 "metadata": {
  "kernelspec": {
   "display_name": "base",
   "language": "python",
   "name": "python3"
  },
  "language_info": {
   "codemirror_mode": {
    "name": "ipython",
    "version": 3
   },
   "file_extension": ".py",
   "mimetype": "text/x-python",
   "name": "python",
   "nbconvert_exporter": "python",
   "pygments_lexer": "ipython3",
   "version": "3.9.15"
  }
 },
 "nbformat": 4,
 "nbformat_minor": 2
}
