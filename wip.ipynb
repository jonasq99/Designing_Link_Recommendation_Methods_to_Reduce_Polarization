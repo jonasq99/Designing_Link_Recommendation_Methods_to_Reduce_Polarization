{
 "cells": [
  {
   "cell_type": "code",
   "execution_count": 4,
   "metadata": {},
   "outputs": [],
   "source": [
    "import networkx as nx\n",
    "import numpy as np\n",
    "from src.diffusion_models import independent_cascade_model, linear_threshold_model\n",
    "from src.polarization import optimize_tau \n",
    "from src.graph import random_color_graph, create_polarized_graph\n",
    "from src.seed import seed_random, seed_degree"
   ]
  },
  {
   "cell_type": "code",
   "execution_count": 7,
   "metadata": {},
   "outputs": [],
   "source": [
    "def get_red_and_blue_nodes(G):\n",
    "    red_nodes = [node for node in G.nodes if G.nodes[node][\"color\"] == \"red\"]\n",
    "    blue_nodes = [node for node in G.nodes if G.nodes[node][\"color\"] == \"blue\"]\n",
    "    return red_nodes, blue_nodes\n",
    "\n",
    "def add_edges_using_optimize_tau(G, C, k, perc_k):\n",
    "    \"\"\"Add edges to the graph G using the optimize_tau function.\"\"\"\n",
    "    red_nodes, blue_nodes = get_red_and_blue_nodes(G)\n",
    "    F_set, _ = optimize_tau(C, G, k, red_nodes, blue_nodes, perc_k)\n",
    "    G.add_edges_from(F_set)\n",
    "\n",
    "def run_diffusion_with_same_seed(\n",
    "    create_graph_func,\n",
    "    num_nodes,\n",
    "    intra_group_connectness,\n",
    "    inter_group_connectness,\n",
    "    add_edges_func,\n",
    "    diffusion_model_func,\n",
    "    seed_func,\n",
    "    seed_count,\n",
    "    threshold=None,\n",
    "    k=5,\n",
    "    perc_k=5,\n",
    "):\n",
    "    # Create original graph\n",
    "    original_graph = create_graph_func(\n",
    "        num_nodes, intra_group_connectness, inter_group_connectness\n",
    "    )\n",
    "    # color the graph\n",
    "    random_color_graph(original_graph)\n",
    "\n",
    "    # Select seeds\n",
    "    seeds = seed_func(original_graph, seed_count)\n",
    "\n",
    "    # Generate thresholds for each node if using linear threshold model\n",
    "    if diffusion_model_func == linear_threshold_model:\n",
    "        thresholds = {node: np.random.uniform(0, 1) for node in original_graph.nodes}\n",
    "    else:\n",
    "        thresholds = threshold\n",
    "\n",
    "    # Add new edges to the graph\n",
    "    modified_graph = original_graph.copy()\n",
    "    add_edges_func(modified_graph, C=seeds, k=k, perc_k=perc_k)\n",
    "\n",
    "    print(\"Original graph\")\n",
    "    print(\"Number of nodes: \", original_graph.number_of_nodes())\n",
    "    print(\"Number of edges: \", original_graph.number_of_edges())\n",
    "\n",
    "    print(\"Modified graph\")\n",
    "    print(\"Number of nodes: \", modified_graph.number_of_nodes())\n",
    "    print(\"Number of edges: \", modified_graph.number_of_edges())\n",
    "\n",
    "    # Run diffusion on original graph\n",
    "    result_original = diffusion_model_func(original_graph, seeds, thresholds)\n",
    "\n",
    "    # Run diffusion on modified graph\n",
    "    result_modified = diffusion_model_func(modified_graph, seeds, thresholds)\n",
    "\n",
    "    return result_original, result_modified"
   ]
  },
  {
   "cell_type": "code",
   "execution_count": 8,
   "metadata": {},
   "outputs": [
    {
     "name": "stderr",
     "output_type": "stream",
     "text": [
      "100%|██████████| 180/180 [00:00<00:00, 1589420.46it/s]\n",
      "100%|██████████| 50/50 [00:02<00:00, 23.11it/s]"
     ]
    },
    {
     "name": "stdout",
     "output_type": "stream",
     "text": [
      "{(15, 39), (0, 109), (178, 109), (0, 118), (8, 0), (15, 109), (109, 95), (109, 40), (15, 118), (8, 15), (0, 197), (178, 197), (109, 0), (15, 197), (109, 15), (0, 181), (79, 114), (79, 178), (178, 181), (0, 199), (15, 181), (178, 199), (15, 199), (79, 180), (0, 134), (79, 15), (0, 79), (178, 134), (109, 114), (178, 79), (109, 178), (79, 140), (0, 39), (178, 39), (79, 167), (178, 118), (0, 8), (178, 8), (0, 26), (15, 8), (109, 180), (178, 26), (15, 26), (109, 140), (79, 95), (79, 40), (79, 0), (15, 134), (8, 95), (8, 40)}\n",
      "4106\n",
      "Original graph\n",
      "Number of nodes:  200\n",
      "Number of edges:  4058\n",
      "Modified graph\n",
      "Number of nodes:  200\n",
      "Number of edges:  4106\n"
     ]
    },
    {
     "name": "stderr",
     "output_type": "stream",
     "text": [
      "\n"
     ]
    },
    {
     "data": {
      "text/plain": [
       "(200, 200)"
      ]
     },
     "execution_count": 8,
     "metadata": {},
     "output_type": "execute_result"
    }
   ],
   "source": [
    "# Example usage\n",
    "result_original, result_modified = run_diffusion_with_same_seed(\n",
    "    create_polarized_graph,\n",
    "    num_nodes=500,\n",
    "    intra_group_connectness=0.2,\n",
    "    inter_group_connectness=0.01,\n",
    "    add_edges_func=add_edges_using_optimize_tau,\n",
    "    diffusion_model_func=linear_threshold_model,\n",
    "    seed_func=seed_random,\n",
    "    seed_count=80,\n",
    "    threshold=0.5,\n",
    "    k=400,\n",
    "    perc_k=10,\n",
    ")\n",
    "result_original[0], result_modified[0]"
   ]
  },
  {
   "cell_type": "code",
   "execution_count": null,
   "metadata": {},
   "outputs": [],
   "source": []
  },
  {
   "cell_type": "code",
   "execution_count": null,
   "metadata": {},
   "outputs": [],
   "source": []
  }
 ],
 "metadata": {
  "kernelspec": {
   "display_name": "base",
   "language": "python",
   "name": "python3"
  },
  "language_info": {
   "codemirror_mode": {
    "name": "ipython",
    "version": 3
   },
   "file_extension": ".py",
   "mimetype": "text/x-python",
   "name": "python",
   "nbconvert_exporter": "python",
   "pygments_lexer": "ipython3",
   "version": "3.9.15"
  }
 },
 "nbformat": 4,
 "nbformat_minor": 2
}
