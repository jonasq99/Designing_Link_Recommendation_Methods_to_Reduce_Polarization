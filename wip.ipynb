{
 "cells": [
  {
   "cell_type": "code",
   "execution_count": 1,
   "metadata": {},
   "outputs": [],
   "source": [
    "import networkx as nx\n",
    "import numpy as np\n",
    "from src.diffusion_models import independent_cascade_model, linear_threshold_model\n",
    "from src.polarization import create_polarized_graph, optimize_tau, random_color_graph\n",
    "from src.seed import seed_random, seed_degree"
   ]
  },
  {
   "cell_type": "code",
   "execution_count": 2,
   "metadata": {},
   "outputs": [],
   "source": [
    "\n",
    "def add_edges_using_optimize_tau(G, C, k):\n",
    "    \"\"\"Add edges to the graph G using the optimize_tau function.\"\"\"\n",
    "    F_set, _ = optimize_tau(C, G, k)\n",
    "    G.add_edges_from(F_set)\n",
    "\n",
    "def run_diffusion_with_same_seed(create_graph_func, num_nodes, intra_group_connectness, inter_group_connectness, add_edges_func, diffusion_model_func, seed_func, seed_count, threshold=None, k=5):\n",
    "    # Create original graph\n",
    "    original_graph = create_graph_func(num_nodes, intra_group_connectness, inter_group_connectness)\n",
    "    # color the graph\n",
    "    random_color_graph(original_graph)\n",
    "\n",
    "    # Select seeds\n",
    "    seeds = seed_func(original_graph, seed_count)\n",
    "\n",
    "    # Generate thresholds for each node if using linear threshold model\n",
    "    if diffusion_model_func == linear_threshold_model:\n",
    "        thresholds = {node: np.random.uniform(0, 1) for node in original_graph.nodes}\n",
    "    else:\n",
    "        thresholds = threshold\n",
    "\n",
    "    # Add new edges to the graph\n",
    "    modified_graph = original_graph.copy()\n",
    "    add_edges_func(modified_graph, C=seeds, k=k)  # Assuming k=5 for adding 5 edges\n",
    "\n",
    "    print(\"Original graph\")\n",
    "    print(\"Number of nodes: \", original_graph.number_of_nodes())\n",
    "    print(\"Number of edges: \", original_graph.number_of_edges())\n",
    "\n",
    "    print(\"Modified graph\")\n",
    "    print(\"Number of nodes: \", modified_graph.number_of_nodes())\n",
    "    print(\"Number of edges: \", modified_graph.number_of_edges())\n",
    "    \n",
    "\n",
    "    # Run diffusion on original graph\n",
    "    result_original = diffusion_model_func(original_graph, seeds, thresholds)\n",
    "\n",
    "    # Run diffusion on modified graph\n",
    "    result_modified = diffusion_model_func(modified_graph, seeds, thresholds)\n",
    "\n",
    "    return result_original, result_modified"
   ]
  },
  {
   "cell_type": "code",
   "execution_count": 15,
   "metadata": {},
   "outputs": [
    {
     "name": "stderr",
     "output_type": "stream",
     "text": [
      "100%|██████████| 2215/2215 [00:00<00:00, 28361.09it/s]\n",
      "100%|██████████| 27/27 [00:00<00:00, 168.39it/s]"
     ]
    },
    {
     "name": "stdout",
     "output_type": "stream",
     "text": [
      "Original graph\n",
      "Number of nodes:  50\n",
      "Number of edges:  235\n",
      "Modified graph\n",
      "Number of nodes:  50\n",
      "Number of edges:  262\n"
     ]
    },
    {
     "name": "stderr",
     "output_type": "stream",
     "text": [
      "\n"
     ]
    },
    {
     "data": {
      "text/plain": [
       "(12, 15)"
      ]
     },
     "execution_count": 15,
     "metadata": {},
     "output_type": "execute_result"
    }
   ],
   "source": [
    "result_original, result_modified = run_diffusion_with_same_seed(\n",
    "    create_polarized_graph, num_nodes=50, intra_group_connectness=0.2, inter_group_connectness=0.01,\n",
    "    add_edges_func=add_edges_using_optimize_tau, diffusion_model_func=linear_threshold_model, \n",
    "    seed_func=seed_random, seed_count=10, threshold=0.5, k = 27\n",
    ")\n",
    "result_original[0], result_modified[0] "
   ]
  },
  {
   "cell_type": "code",
   "execution_count": null,
   "metadata": {},
   "outputs": [],
   "source": []
  }
 ],
 "metadata": {
  "kernelspec": {
   "display_name": "base",
   "language": "python",
   "name": "python3"
  },
  "language_info": {
   "codemirror_mode": {
    "name": "ipython",
    "version": 3
   },
   "file_extension": ".py",
   "mimetype": "text/x-python",
   "name": "python",
   "nbconvert_exporter": "python",
   "pygments_lexer": "ipython3",
   "version": "3.9.15"
  }
 },
 "nbformat": 4,
 "nbformat_minor": 2
}
