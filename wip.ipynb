{
 "cells": [
  {
   "cell_type": "code",
   "execution_count": 2,
   "metadata": {},
   "outputs": [],
   "source": [
    "import networkx as nx\n",
    "import numpy as np\n",
    "import random\n",
    "from src.diffusion_models import independent_cascade_model, linear_threshold_model\n",
    "from src.polarization import optimize_tau \n",
    "from src.graph import random_color_graph, create_polarized_graph\n",
    "from src.seed import seed_random, seed_degree\n",
    "\n",
    "random.seed(42)"
   ]
  },
  {
   "cell_type": "code",
   "execution_count": 3,
   "metadata": {},
   "outputs": [],
   "source": [
    "def get_red_and_blue_nodes(G):\n",
    "    red_nodes = [node for node in G.nodes if G.nodes[node][\"color\"] == \"red\"]\n",
    "    blue_nodes = [node for node in G.nodes if G.nodes[node][\"color\"] == \"blue\"]\n",
    "    return red_nodes, blue_nodes\n",
    "\n",
    "def add_edges_using_optimize_tau(G, C, k, perc_k):\n",
    "    \"\"\"Add edges to the graph G using the optimize_tau function.\"\"\"\n",
    "    red_nodes, blue_nodes = get_red_and_blue_nodes(G)\n",
    "    F_set, _ = optimize_tau(C, G, k, red_nodes, blue_nodes, perc_k)\n",
    "    G.add_edges_from(F_set)\n",
    "\n",
    "def add_random_edges(G, C, k):\n",
    "    \"\"\"Add the same number of random edges as the optimize_tau function would add.\"\"\"\n",
    "\n",
    "    potential_edges = list(nx.non_edges(G))\n",
    "    random_edges = random.sample(potential_edges, k)\n",
    "    G.add_edges_from(random_edges)\n",
    "\n",
    "def run_diffusion_with_same_seed(\n",
    "    create_graph_func,\n",
    "    num_nodes,\n",
    "    intra_group_connectness,\n",
    "    inter_group_connectness,\n",
    "    add_edges_func,\n",
    "    diffusion_model_func,\n",
    "    seed_func,\n",
    "    seed_count,\n",
    "    threshold=None,\n",
    "    k=5,\n",
    "    perc_k=5,\n",
    "    random_seed=42,\n",
    "):\n",
    "    # Create original graph\n",
    "    original_graph = create_graph_func(\n",
    "        num_nodes, intra_group_connectness, inter_group_connectness\n",
    "    )\n",
    "    # color the graph\n",
    "    random_color_graph(original_graph)\n",
    "\n",
    "    # Select seeds\n",
    "    seeds = seed_func(original_graph, seed_count, random_seed)\n",
    "\n",
    "    # Generate thresholds for each node if using linear threshold model\n",
    "    if diffusion_model_func == linear_threshold_model:\n",
    "        thresholds = {node: np.random.uniform(0, 1) for node in original_graph.nodes}\n",
    "    else:\n",
    "        thresholds = threshold\n",
    "\n",
    "    # Add new edges to the graph using the optimized method\n",
    "    modified_graph_opt = original_graph.copy()\n",
    "    add_edges_using_optimize_tau(modified_graph_opt, C=seeds, k=k, perc_k=perc_k)\n",
    "\n",
    "    # Run diffusion on original graph\n",
    "    result_original = diffusion_model_func(original_graph, seeds, thresholds, random_seed)\n",
    "\n",
    "    # Run diffusion on optimized modified graph\n",
    "    result_modified_opt = diffusion_model_func(modified_graph_opt, seeds, thresholds, random_seed)\n",
    "\n",
    "    # Add new edges to the graph using random edges method\n",
    "    modified_graph_rand = original_graph.copy()\n",
    "    add_random_edges(modified_graph_rand, C=seeds, k=k)\n",
    "\n",
    "    # Run diffusion on randomly modified graph\n",
    "    result_modified_rand = diffusion_model_func(modified_graph_rand, seeds, thresholds, random_seed)\n",
    "\n",
    "    print(\"Original graph\")\n",
    "    print(\"Number of nodes: \", original_graph.number_of_nodes())\n",
    "    print(\"Number of edges: \", original_graph.number_of_edges())\n",
    "    print(\"Number of activated nodes: \", result_original[0])\n",
    "\n",
    "    print(\"Optimized modified graph\")\n",
    "    print(\"Number of nodes: \", modified_graph_opt.number_of_nodes())\n",
    "    print(\"Number of edges: \", modified_graph_opt.number_of_edges())\n",
    "    print(\"Number of activated nodes: \", result_modified_opt[0])\n",
    "\n",
    "\n",
    "    print(\"Randomly modified graph\")\n",
    "    print(\"Number of nodes: \", modified_graph_rand.number_of_nodes())\n",
    "    print(\"Number of edges: \", modified_graph_rand.number_of_edges())\n",
    "    print(\"Number of activated nodes: \", result_modified_rand[0])\n",
    "\n",
    "\n",
    "    return result_original, result_modified_opt, result_modified_rand"
   ]
  },
  {
   "cell_type": "code",
   "execution_count": 6,
   "metadata": {},
   "outputs": [
    {
     "name": "stderr",
     "output_type": "stream",
     "text": [
      "100%|██████████| 1000/1000 [1:14:49<00:00,  4.49s/it]\n"
     ]
    },
    {
     "name": "stdout",
     "output_type": "stream",
     "text": [
      "Original graph\n",
      "Number of nodes:  2000\n",
      "Number of edges:  409971\n",
      "Number of activated nodes:  737\n",
      "Optimized modified graph\n",
      "Number of nodes:  2000\n",
      "Number of edges:  410906\n",
      "Number of activated nodes:  742\n",
      "Randomly modified graph\n",
      "Number of nodes:  2000\n",
      "Number of edges:  410971\n",
      "Number of activated nodes:  754\n"
     ]
    },
    {
     "data": {
      "text/plain": [
       "(737, 742, 754)"
      ]
     },
     "execution_count": 6,
     "metadata": {},
     "output_type": "execute_result"
    }
   ],
   "source": [
    "result_original, result_modified, result_modified_rand = run_diffusion_with_same_seed(\n",
    "    create_polarized_graph,\n",
    "    num_nodes=2000,\n",
    "    intra_group_connectness=0.2,\n",
    "    inter_group_connectness=0.01,\n",
    "    add_edges_func=add_edges_using_optimize_tau,\n",
    "    diffusion_model_func=independent_cascade_model,\n",
    "    seed_func=seed_random,\n",
    "    seed_count=150,\n",
    "    threshold=1,\n",
    "    k=1000,\n",
    "    perc_k=7,\n",
    ")\n",
    "result_original[0], result_modified[0], result_modified_rand[0]"
   ]
  },
  {
   "cell_type": "code",
   "execution_count": null,
   "metadata": {},
   "outputs": [],
   "source": []
  },
  {
   "cell_type": "code",
   "execution_count": null,
   "metadata": {},
   "outputs": [],
   "source": []
  }
 ],
 "metadata": {
  "kernelspec": {
   "display_name": "base",
   "language": "python",
   "name": "python3"
  },
  "language_info": {
   "codemirror_mode": {
    "name": "ipython",
    "version": 3
   },
   "file_extension": ".py",
   "mimetype": "text/x-python",
   "name": "python",
   "nbconvert_exporter": "python",
   "pygments_lexer": "ipython3",
   "version": "3.9.15"
  }
 },
 "nbformat": 4,
 "nbformat_minor": 2
}
